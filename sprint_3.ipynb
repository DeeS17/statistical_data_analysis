{
  "cells": [
    {
      "cell_type": "markdown",
      "metadata": {
        "id": "view-in-github",
        "colab_type": "text"
      },
      "source": [
        "<a href=\"https://colab.research.google.com/github/DeeS17/statistical_data_analysis/blob/main/sprint_3.ipynb\" target=\"_parent\"><img src=\"https://colab.research.google.com/assets/colab-badge.svg\" alt=\"Open In Colab\"/></a>"
      ]
    },
    {
      "cell_type": "markdown",
      "metadata": {
        "id": "-NBJRykj0N_e"
      },
      "source": [
        "## Konten\n",
        "* Tahap 1: Pra-pemrosesan Data\n",
        "    * Memuat Data\n",
        "    * Mengeksplorasi Data Awal\n",
        "        * Calls\n",
        "        * Internet\n",
        "        * Messages\n",
        "        * Plan\n",
        "        * Users\n",
        "    * Mengkonversikan Tipe Data dan Satuan yang Sesuai\n",
        "        * Calls\n",
        "        * Internet\n",
        "        * Messages\n",
        "    * Menggabungkan Dataframe\n",
        "        * Menggabungkan antara internet dengan calls\n",
        "        * Menggabungkan antara internet dan calls dengan messages\n",
        "        * Menggabungkan antara internet, calls, dan messages dengan users\n",
        "    * Menambahkan Kolom Pendapatan Bulanan dari Setiap Konsumen\n",
        "* Tahap 2: Analisa Data\n",
        "    * Melihat Perilaku Konsumen\n",
        "        * Calls\n",
        "            * Mean of Call Duration by Month\n",
        "            * Variance of Call Duration by Month\n",
        "            * Standart Deviation of Call Duration by Month\n",
        "        * Messages\n",
        "            * Mean of Messages Count by Month\n",
        "            * Variance of Messages Count by Month\n",
        "            * Standart Deviation of Messages Count by Month\n",
        "        * Internet\n",
        "            * Mean of Gigabyte Used by Month\n",
        "            * Variance of Gigabyte Used by Month\n",
        "            * Standart Deviation of Gigabyte Used by Month\n",
        "* Tahap 3: Uji Hipotesis\n",
        "    * Pendapatan Megaline dari Konsumen Ultimate Lebih Besar Dibandingkan Pendapatan Dari Konsumen Surf\n",
        "    * Pendapatan Konsumen dari Area New York-New Jersey Lebih Besar Dibandingkan Pendapatan Konsumen di Area Lainnya\n",
        "* Kesimpulan"
      ]
    },
    {
      "cell_type": "markdown",
      "metadata": {
        "id": "FZ0fBLyc0N_g"
      },
      "source": [
        "### Pendahuluan"
      ]
    },
    {
      "cell_type": "markdown",
      "metadata": {
        "id": "ZDHu0Z2n0N_g"
      },
      "source": [
        "Megaline adalah sebua perusahaan operator telekomunikasi. Perusahaan tersebut menawarkan kliennya dua paket prabayar, Surf dan Ultimate. Departemen periklanan ingin mengetahui paket prabayar mana yang menghasilkan lebih banyak pendapatan untuk menyesuaikan anggaran iklan."
      ]
    },
    {
      "cell_type": "markdown",
      "metadata": {
        "id": "Cr0k3laL0N_h"
      },
      "source": [
        "#### Tujuan"
      ]
    },
    {
      "cell_type": "markdown",
      "metadata": {
        "id": "4YJREVxd0N_i"
      },
      "source": [
        "Untuk mengetahui paket prabayar mana yang lebih banyak menghasilkan pendapatan, maka saya akan menguji 2 hipotesis:\n",
        "- Rata-rata pendapatan dari pengguna paket telepon Ultimate dan Surf berbeda.\n",
        "- Rata-rata pendapatan dari pengguna di wilayah NY-NJ berbeda dengan pendapatan pengguna dari wilayah lain."
      ]
    },
    {
      "cell_type": "markdown",
      "metadata": {
        "id": "7QMnjxg30N_i"
      },
      "source": [
        "#### Tahapan\n",
        "Proyek ini terdiri dari 4 tahapan:\n",
        "- Pra-pemrosesan Data:  \n",
        "- Analisa Data\n",
        "- Uji Hipotesis\n",
        "- Kesimpulan"
      ]
    },
    {
      "cell_type": "markdown",
      "metadata": {
        "id": "mS3AHh0m0N_k"
      },
      "source": [
        "## Pra-pemrosesan Data"
      ]
    },
    {
      "cell_type": "code",
      "execution_count": null,
      "metadata": {
        "id": "H_BwguKO0N_l"
      },
      "outputs": [],
      "source": [
        "import pandas as pd\n",
        "import matplotlib.pyplot as plt\n",
        "import seaborn as sns\n",
        "from scipy import stats as st\n",
        "import numpy as py\n",
        "import math"
      ]
    },
    {
      "cell_type": "markdown",
      "metadata": {
        "id": "VivJhif00N_m"
      },
      "source": [
        "### Memuat Data"
      ]
    },
    {
      "cell_type": "code",
      "execution_count": null,
      "metadata": {
        "id": "rHpBWbSA0N_n"
      },
      "outputs": [],
      "source": [
        "try:\n",
        "  calls = pd.read_csv('/datasets/megaline_calls.csv')\n",
        "  internet = pd.read_csv('/datasets/megaline_internet.csv')\n",
        "  messages = pd.read_csv('/datasets/megaline_messages.csv')\n",
        "  plans = pd.read_csv('/datasets/megaline_plans.csv')\n",
        "  users = pd.read_csv('/datasets/megaline_users.csv')\n",
        "except:\n",
        "  calls = pd.read_csv('/content/megaline_calls.csv')\n",
        "  internet = pd.read_csv('/content/megaline_internet.csv')\n",
        "  messages = pd.read_csv('/content/megaline_messages.csv')\n",
        "  plans = pd.read_csv('/content/megaline_plans.csv')\n",
        "  users = pd.read_csv('/content/megaline_users.csv')   "
      ]
    },
    {
      "cell_type": "markdown",
      "metadata": {
        "id": "4Qcc_mi00N_o"
      },
      "source": [
        "### Mengeksplorasi Data Awal"
      ]
    },
    {
      "cell_type": "markdown",
      "metadata": {
        "id": "8VuJZ3DW0N_o"
      },
      "source": [
        "#### calls"
      ]
    },
    {
      "cell_type": "code",
      "execution_count": null,
      "metadata": {
        "scrolled": true,
        "colab": {
          "base_uri": "https://localhost:8080/"
        },
        "id": "n8ZQlmng0N_o",
        "outputId": "3f60f43b-a120-4492-bca4-cf4a231bdce5"
      },
      "outputs": [
        {
          "output_type": "stream",
          "name": "stdout",
          "text": [
            "<class 'pandas.core.frame.DataFrame'>\n",
            "RangeIndex: 137735 entries, 0 to 137734\n",
            "Data columns (total 4 columns):\n",
            " #   Column     Non-Null Count   Dtype  \n",
            "---  ------     --------------   -----  \n",
            " 0   id         137735 non-null  object \n",
            " 1   user_id    137735 non-null  int64  \n",
            " 2   call_date  137735 non-null  object \n",
            " 3   duration   137735 non-null  float64\n",
            "dtypes: float64(1), int64(1), object(2)\n",
            "memory usage: 4.2+ MB\n"
          ]
        }
      ],
      "source": [
        "calls.info()"
      ]
    },
    {
      "cell_type": "code",
      "execution_count": null,
      "metadata": {
        "colab": {
          "base_uri": "https://localhost:8080/",
          "height": 206
        },
        "id": "ZosOh7VS0N_q",
        "outputId": "4006080f-bf7d-409e-8a8f-27f7f7eb87ee"
      },
      "outputs": [
        {
          "output_type": "execute_result",
          "data": {
            "text/plain": [
              "         id  user_id   call_date  duration\n",
              "0   1000_93     1000  2018-12-27      8.52\n",
              "1  1000_145     1000  2018-12-27     13.66\n",
              "2  1000_247     1000  2018-12-27     14.48\n",
              "3  1000_309     1000  2018-12-28      5.76\n",
              "4  1000_380     1000  2018-12-30      4.22"
            ],
            "text/html": [
              "\n",
              "  <div id=\"df-f3cb138b-c000-42ac-928b-979e639b47d8\">\n",
              "    <div class=\"colab-df-container\">\n",
              "      <div>\n",
              "<style scoped>\n",
              "    .dataframe tbody tr th:only-of-type {\n",
              "        vertical-align: middle;\n",
              "    }\n",
              "\n",
              "    .dataframe tbody tr th {\n",
              "        vertical-align: top;\n",
              "    }\n",
              "\n",
              "    .dataframe thead th {\n",
              "        text-align: right;\n",
              "    }\n",
              "</style>\n",
              "<table border=\"1\" class=\"dataframe\">\n",
              "  <thead>\n",
              "    <tr style=\"text-align: right;\">\n",
              "      <th></th>\n",
              "      <th>id</th>\n",
              "      <th>user_id</th>\n",
              "      <th>call_date</th>\n",
              "      <th>duration</th>\n",
              "    </tr>\n",
              "  </thead>\n",
              "  <tbody>\n",
              "    <tr>\n",
              "      <th>0</th>\n",
              "      <td>1000_93</td>\n",
              "      <td>1000</td>\n",
              "      <td>2018-12-27</td>\n",
              "      <td>8.52</td>\n",
              "    </tr>\n",
              "    <tr>\n",
              "      <th>1</th>\n",
              "      <td>1000_145</td>\n",
              "      <td>1000</td>\n",
              "      <td>2018-12-27</td>\n",
              "      <td>13.66</td>\n",
              "    </tr>\n",
              "    <tr>\n",
              "      <th>2</th>\n",
              "      <td>1000_247</td>\n",
              "      <td>1000</td>\n",
              "      <td>2018-12-27</td>\n",
              "      <td>14.48</td>\n",
              "    </tr>\n",
              "    <tr>\n",
              "      <th>3</th>\n",
              "      <td>1000_309</td>\n",
              "      <td>1000</td>\n",
              "      <td>2018-12-28</td>\n",
              "      <td>5.76</td>\n",
              "    </tr>\n",
              "    <tr>\n",
              "      <th>4</th>\n",
              "      <td>1000_380</td>\n",
              "      <td>1000</td>\n",
              "      <td>2018-12-30</td>\n",
              "      <td>4.22</td>\n",
              "    </tr>\n",
              "  </tbody>\n",
              "</table>\n",
              "</div>\n",
              "      <button class=\"colab-df-convert\" onclick=\"convertToInteractive('df-f3cb138b-c000-42ac-928b-979e639b47d8')\"\n",
              "              title=\"Convert this dataframe to an interactive table.\"\n",
              "              style=\"display:none;\">\n",
              "        \n",
              "  <svg xmlns=\"http://www.w3.org/2000/svg\" height=\"24px\"viewBox=\"0 0 24 24\"\n",
              "       width=\"24px\">\n",
              "    <path d=\"M0 0h24v24H0V0z\" fill=\"none\"/>\n",
              "    <path d=\"M18.56 5.44l.94 2.06.94-2.06 2.06-.94-2.06-.94-.94-2.06-.94 2.06-2.06.94zm-11 1L8.5 8.5l.94-2.06 2.06-.94-2.06-.94L8.5 2.5l-.94 2.06-2.06.94zm10 10l.94 2.06.94-2.06 2.06-.94-2.06-.94-.94-2.06-.94 2.06-2.06.94z\"/><path d=\"M17.41 7.96l-1.37-1.37c-.4-.4-.92-.59-1.43-.59-.52 0-1.04.2-1.43.59L10.3 9.45l-7.72 7.72c-.78.78-.78 2.05 0 2.83L4 21.41c.39.39.9.59 1.41.59.51 0 1.02-.2 1.41-.59l7.78-7.78 2.81-2.81c.8-.78.8-2.07 0-2.86zM5.41 20L4 18.59l7.72-7.72 1.47 1.35L5.41 20z\"/>\n",
              "  </svg>\n",
              "      </button>\n",
              "      \n",
              "  <style>\n",
              "    .colab-df-container {\n",
              "      display:flex;\n",
              "      flex-wrap:wrap;\n",
              "      gap: 12px;\n",
              "    }\n",
              "\n",
              "    .colab-df-convert {\n",
              "      background-color: #E8F0FE;\n",
              "      border: none;\n",
              "      border-radius: 50%;\n",
              "      cursor: pointer;\n",
              "      display: none;\n",
              "      fill: #1967D2;\n",
              "      height: 32px;\n",
              "      padding: 0 0 0 0;\n",
              "      width: 32px;\n",
              "    }\n",
              "\n",
              "    .colab-df-convert:hover {\n",
              "      background-color: #E2EBFA;\n",
              "      box-shadow: 0px 1px 2px rgba(60, 64, 67, 0.3), 0px 1px 3px 1px rgba(60, 64, 67, 0.15);\n",
              "      fill: #174EA6;\n",
              "    }\n",
              "\n",
              "    [theme=dark] .colab-df-convert {\n",
              "      background-color: #3B4455;\n",
              "      fill: #D2E3FC;\n",
              "    }\n",
              "\n",
              "    [theme=dark] .colab-df-convert:hover {\n",
              "      background-color: #434B5C;\n",
              "      box-shadow: 0px 1px 3px 1px rgba(0, 0, 0, 0.15);\n",
              "      filter: drop-shadow(0px 1px 2px rgba(0, 0, 0, 0.3));\n",
              "      fill: #FFFFFF;\n",
              "    }\n",
              "  </style>\n",
              "\n",
              "      <script>\n",
              "        const buttonEl =\n",
              "          document.querySelector('#df-f3cb138b-c000-42ac-928b-979e639b47d8 button.colab-df-convert');\n",
              "        buttonEl.style.display =\n",
              "          google.colab.kernel.accessAllowed ? 'block' : 'none';\n",
              "\n",
              "        async function convertToInteractive(key) {\n",
              "          const element = document.querySelector('#df-f3cb138b-c000-42ac-928b-979e639b47d8');\n",
              "          const dataTable =\n",
              "            await google.colab.kernel.invokeFunction('convertToInteractive',\n",
              "                                                     [key], {});\n",
              "          if (!dataTable) return;\n",
              "\n",
              "          const docLinkHtml = 'Like what you see? Visit the ' +\n",
              "            '<a target=\"_blank\" href=https://colab.research.google.com/notebooks/data_table.ipynb>data table notebook</a>'\n",
              "            + ' to learn more about interactive tables.';\n",
              "          element.innerHTML = '';\n",
              "          dataTable['output_type'] = 'display_data';\n",
              "          await google.colab.output.renderOutput(dataTable, element);\n",
              "          const docLink = document.createElement('div');\n",
              "          docLink.innerHTML = docLinkHtml;\n",
              "          element.appendChild(docLink);\n",
              "        }\n",
              "      </script>\n",
              "    </div>\n",
              "  </div>\n",
              "  "
            ]
          },
          "metadata": {},
          "execution_count": 4
        }
      ],
      "source": [
        "calls.head()"
      ]
    },
    {
      "cell_type": "markdown",
      "metadata": {
        "id": "U-fcbiX-0N_r"
      },
      "source": [
        "Tidak ada data yang hilang, namun pada kolom `call_date` tipe  datanya masih berupa `object`. Artinya kita perlu sesuaikan tipe datanya menjadi `datetime`. Selain itu `duration` perlu akan dibulatkan keatas, karena `Megaline` membulatkan setiap panggilan menjadi dalam menit.   "
      ]
    },
    {
      "cell_type": "markdown",
      "metadata": {
        "id": "OYzFzuuF0N_s"
      },
      "source": [
        "#### internet"
      ]
    },
    {
      "cell_type": "code",
      "execution_count": null,
      "metadata": {
        "colab": {
          "base_uri": "https://localhost:8080/"
        },
        "id": "i6OHBg7Y0N_s",
        "outputId": "56785672-710e-4281-cb2c-c8267cf4bb81"
      },
      "outputs": [
        {
          "output_type": "stream",
          "name": "stdout",
          "text": [
            "<class 'pandas.core.frame.DataFrame'>\n",
            "RangeIndex: 104825 entries, 0 to 104824\n",
            "Data columns (total 4 columns):\n",
            " #   Column        Non-Null Count   Dtype  \n",
            "---  ------        --------------   -----  \n",
            " 0   id            104825 non-null  object \n",
            " 1   user_id       104825 non-null  int64  \n",
            " 2   session_date  104825 non-null  object \n",
            " 3   mb_used       104825 non-null  float64\n",
            "dtypes: float64(1), int64(1), object(2)\n",
            "memory usage: 3.2+ MB\n"
          ]
        }
      ],
      "source": [
        "internet.info()"
      ]
    },
    {
      "cell_type": "code",
      "execution_count": null,
      "metadata": {
        "colab": {
          "base_uri": "https://localhost:8080/",
          "height": 206
        },
        "id": "6BMhmOUM0N_t",
        "outputId": "ce2b1451-c541-485f-8c2f-fde27027f257"
      },
      "outputs": [
        {
          "output_type": "execute_result",
          "data": {
            "text/plain": [
              "         id  user_id session_date  mb_used\n",
              "0   1000_13     1000   2018-12-29    89.86\n",
              "1  1000_204     1000   2018-12-31     0.00\n",
              "2  1000_379     1000   2018-12-28   660.40\n",
              "3  1000_413     1000   2018-12-26   270.99\n",
              "4  1000_442     1000   2018-12-27   880.22"
            ],
            "text/html": [
              "\n",
              "  <div id=\"df-04d43fc0-8d08-4b49-ac6f-67f1215b5937\">\n",
              "    <div class=\"colab-df-container\">\n",
              "      <div>\n",
              "<style scoped>\n",
              "    .dataframe tbody tr th:only-of-type {\n",
              "        vertical-align: middle;\n",
              "    }\n",
              "\n",
              "    .dataframe tbody tr th {\n",
              "        vertical-align: top;\n",
              "    }\n",
              "\n",
              "    .dataframe thead th {\n",
              "        text-align: right;\n",
              "    }\n",
              "</style>\n",
              "<table border=\"1\" class=\"dataframe\">\n",
              "  <thead>\n",
              "    <tr style=\"text-align: right;\">\n",
              "      <th></th>\n",
              "      <th>id</th>\n",
              "      <th>user_id</th>\n",
              "      <th>session_date</th>\n",
              "      <th>mb_used</th>\n",
              "    </tr>\n",
              "  </thead>\n",
              "  <tbody>\n",
              "    <tr>\n",
              "      <th>0</th>\n",
              "      <td>1000_13</td>\n",
              "      <td>1000</td>\n",
              "      <td>2018-12-29</td>\n",
              "      <td>89.86</td>\n",
              "    </tr>\n",
              "    <tr>\n",
              "      <th>1</th>\n",
              "      <td>1000_204</td>\n",
              "      <td>1000</td>\n",
              "      <td>2018-12-31</td>\n",
              "      <td>0.00</td>\n",
              "    </tr>\n",
              "    <tr>\n",
              "      <th>2</th>\n",
              "      <td>1000_379</td>\n",
              "      <td>1000</td>\n",
              "      <td>2018-12-28</td>\n",
              "      <td>660.40</td>\n",
              "    </tr>\n",
              "    <tr>\n",
              "      <th>3</th>\n",
              "      <td>1000_413</td>\n",
              "      <td>1000</td>\n",
              "      <td>2018-12-26</td>\n",
              "      <td>270.99</td>\n",
              "    </tr>\n",
              "    <tr>\n",
              "      <th>4</th>\n",
              "      <td>1000_442</td>\n",
              "      <td>1000</td>\n",
              "      <td>2018-12-27</td>\n",
              "      <td>880.22</td>\n",
              "    </tr>\n",
              "  </tbody>\n",
              "</table>\n",
              "</div>\n",
              "      <button class=\"colab-df-convert\" onclick=\"convertToInteractive('df-04d43fc0-8d08-4b49-ac6f-67f1215b5937')\"\n",
              "              title=\"Convert this dataframe to an interactive table.\"\n",
              "              style=\"display:none;\">\n",
              "        \n",
              "  <svg xmlns=\"http://www.w3.org/2000/svg\" height=\"24px\"viewBox=\"0 0 24 24\"\n",
              "       width=\"24px\">\n",
              "    <path d=\"M0 0h24v24H0V0z\" fill=\"none\"/>\n",
              "    <path d=\"M18.56 5.44l.94 2.06.94-2.06 2.06-.94-2.06-.94-.94-2.06-.94 2.06-2.06.94zm-11 1L8.5 8.5l.94-2.06 2.06-.94-2.06-.94L8.5 2.5l-.94 2.06-2.06.94zm10 10l.94 2.06.94-2.06 2.06-.94-2.06-.94-.94-2.06-.94 2.06-2.06.94z\"/><path d=\"M17.41 7.96l-1.37-1.37c-.4-.4-.92-.59-1.43-.59-.52 0-1.04.2-1.43.59L10.3 9.45l-7.72 7.72c-.78.78-.78 2.05 0 2.83L4 21.41c.39.39.9.59 1.41.59.51 0 1.02-.2 1.41-.59l7.78-7.78 2.81-2.81c.8-.78.8-2.07 0-2.86zM5.41 20L4 18.59l7.72-7.72 1.47 1.35L5.41 20z\"/>\n",
              "  </svg>\n",
              "      </button>\n",
              "      \n",
              "  <style>\n",
              "    .colab-df-container {\n",
              "      display:flex;\n",
              "      flex-wrap:wrap;\n",
              "      gap: 12px;\n",
              "    }\n",
              "\n",
              "    .colab-df-convert {\n",
              "      background-color: #E8F0FE;\n",
              "      border: none;\n",
              "      border-radius: 50%;\n",
              "      cursor: pointer;\n",
              "      display: none;\n",
              "      fill: #1967D2;\n",
              "      height: 32px;\n",
              "      padding: 0 0 0 0;\n",
              "      width: 32px;\n",
              "    }\n",
              "\n",
              "    .colab-df-convert:hover {\n",
              "      background-color: #E2EBFA;\n",
              "      box-shadow: 0px 1px 2px rgba(60, 64, 67, 0.3), 0px 1px 3px 1px rgba(60, 64, 67, 0.15);\n",
              "      fill: #174EA6;\n",
              "    }\n",
              "\n",
              "    [theme=dark] .colab-df-convert {\n",
              "      background-color: #3B4455;\n",
              "      fill: #D2E3FC;\n",
              "    }\n",
              "\n",
              "    [theme=dark] .colab-df-convert:hover {\n",
              "      background-color: #434B5C;\n",
              "      box-shadow: 0px 1px 3px 1px rgba(0, 0, 0, 0.15);\n",
              "      filter: drop-shadow(0px 1px 2px rgba(0, 0, 0, 0.3));\n",
              "      fill: #FFFFFF;\n",
              "    }\n",
              "  </style>\n",
              "\n",
              "      <script>\n",
              "        const buttonEl =\n",
              "          document.querySelector('#df-04d43fc0-8d08-4b49-ac6f-67f1215b5937 button.colab-df-convert');\n",
              "        buttonEl.style.display =\n",
              "          google.colab.kernel.accessAllowed ? 'block' : 'none';\n",
              "\n",
              "        async function convertToInteractive(key) {\n",
              "          const element = document.querySelector('#df-04d43fc0-8d08-4b49-ac6f-67f1215b5937');\n",
              "          const dataTable =\n",
              "            await google.colab.kernel.invokeFunction('convertToInteractive',\n",
              "                                                     [key], {});\n",
              "          if (!dataTable) return;\n",
              "\n",
              "          const docLinkHtml = 'Like what you see? Visit the ' +\n",
              "            '<a target=\"_blank\" href=https://colab.research.google.com/notebooks/data_table.ipynb>data table notebook</a>'\n",
              "            + ' to learn more about interactive tables.';\n",
              "          element.innerHTML = '';\n",
              "          dataTable['output_type'] = 'display_data';\n",
              "          await google.colab.output.renderOutput(dataTable, element);\n",
              "          const docLink = document.createElement('div');\n",
              "          docLink.innerHTML = docLinkHtml;\n",
              "          element.appendChild(docLink);\n",
              "        }\n",
              "      </script>\n",
              "    </div>\n",
              "  </div>\n",
              "  "
            ]
          },
          "metadata": {},
          "execution_count": 6
        }
      ],
      "source": [
        "internet.head()"
      ]
    },
    {
      "cell_type": "markdown",
      "metadata": {
        "id": "IoUAC5cL0N_v"
      },
      "source": [
        "Tidak ada data yang hilang, namun namun pada `session_date` tipe datanya `object` dan perlu disesuaikan menjadi `datetime`. Pada kolom `mb_used` nantinya perlu dibulatkan dalam satuan `gigabyte`. Karena `Megaline` membulatkan penggunaan dalam `gigabyte` dalam setiap bulan. Sehingga nanti saya juga perlu menambahkan kolom `month` agar dapat menghitung penggunaan kuota internet dalam `gigabyte` perbulan."
      ]
    },
    {
      "cell_type": "markdown",
      "metadata": {
        "id": "vNWOLg6t0N_x"
      },
      "source": [
        "#### messages"
      ]
    },
    {
      "cell_type": "code",
      "execution_count": null,
      "metadata": {
        "colab": {
          "base_uri": "https://localhost:8080/"
        },
        "id": "TrHgVulU0N_x",
        "outputId": "879f6945-6ef5-496a-efc0-168ec7564e74"
      },
      "outputs": [
        {
          "output_type": "stream",
          "name": "stdout",
          "text": [
            "<class 'pandas.core.frame.DataFrame'>\n",
            "RangeIndex: 76051 entries, 0 to 76050\n",
            "Data columns (total 3 columns):\n",
            " #   Column        Non-Null Count  Dtype \n",
            "---  ------        --------------  ----- \n",
            " 0   id            76051 non-null  object\n",
            " 1   user_id       76051 non-null  int64 \n",
            " 2   message_date  76051 non-null  object\n",
            "dtypes: int64(1), object(2)\n",
            "memory usage: 1.7+ MB\n"
          ]
        }
      ],
      "source": [
        "messages.info()"
      ]
    },
    {
      "cell_type": "code",
      "execution_count": null,
      "metadata": {
        "colab": {
          "base_uri": "https://localhost:8080/",
          "height": 206
        },
        "id": "-fGWrObt0N_x",
        "outputId": "a8e6f947-0971-4161-d327-3ea44d5b8fad"
      },
      "outputs": [
        {
          "output_type": "execute_result",
          "data": {
            "text/plain": [
              "         id  user_id message_date\n",
              "0  1000_125     1000   2018-12-27\n",
              "1  1000_160     1000   2018-12-31\n",
              "2  1000_223     1000   2018-12-31\n",
              "3  1000_251     1000   2018-12-27\n",
              "4  1000_255     1000   2018-12-26"
            ],
            "text/html": [
              "\n",
              "  <div id=\"df-3f266e67-08fe-44d6-90ae-79528fcc43bf\">\n",
              "    <div class=\"colab-df-container\">\n",
              "      <div>\n",
              "<style scoped>\n",
              "    .dataframe tbody tr th:only-of-type {\n",
              "        vertical-align: middle;\n",
              "    }\n",
              "\n",
              "    .dataframe tbody tr th {\n",
              "        vertical-align: top;\n",
              "    }\n",
              "\n",
              "    .dataframe thead th {\n",
              "        text-align: right;\n",
              "    }\n",
              "</style>\n",
              "<table border=\"1\" class=\"dataframe\">\n",
              "  <thead>\n",
              "    <tr style=\"text-align: right;\">\n",
              "      <th></th>\n",
              "      <th>id</th>\n",
              "      <th>user_id</th>\n",
              "      <th>message_date</th>\n",
              "    </tr>\n",
              "  </thead>\n",
              "  <tbody>\n",
              "    <tr>\n",
              "      <th>0</th>\n",
              "      <td>1000_125</td>\n",
              "      <td>1000</td>\n",
              "      <td>2018-12-27</td>\n",
              "    </tr>\n",
              "    <tr>\n",
              "      <th>1</th>\n",
              "      <td>1000_160</td>\n",
              "      <td>1000</td>\n",
              "      <td>2018-12-31</td>\n",
              "    </tr>\n",
              "    <tr>\n",
              "      <th>2</th>\n",
              "      <td>1000_223</td>\n",
              "      <td>1000</td>\n",
              "      <td>2018-12-31</td>\n",
              "    </tr>\n",
              "    <tr>\n",
              "      <th>3</th>\n",
              "      <td>1000_251</td>\n",
              "      <td>1000</td>\n",
              "      <td>2018-12-27</td>\n",
              "    </tr>\n",
              "    <tr>\n",
              "      <th>4</th>\n",
              "      <td>1000_255</td>\n",
              "      <td>1000</td>\n",
              "      <td>2018-12-26</td>\n",
              "    </tr>\n",
              "  </tbody>\n",
              "</table>\n",
              "</div>\n",
              "      <button class=\"colab-df-convert\" onclick=\"convertToInteractive('df-3f266e67-08fe-44d6-90ae-79528fcc43bf')\"\n",
              "              title=\"Convert this dataframe to an interactive table.\"\n",
              "              style=\"display:none;\">\n",
              "        \n",
              "  <svg xmlns=\"http://www.w3.org/2000/svg\" height=\"24px\"viewBox=\"0 0 24 24\"\n",
              "       width=\"24px\">\n",
              "    <path d=\"M0 0h24v24H0V0z\" fill=\"none\"/>\n",
              "    <path d=\"M18.56 5.44l.94 2.06.94-2.06 2.06-.94-2.06-.94-.94-2.06-.94 2.06-2.06.94zm-11 1L8.5 8.5l.94-2.06 2.06-.94-2.06-.94L8.5 2.5l-.94 2.06-2.06.94zm10 10l.94 2.06.94-2.06 2.06-.94-2.06-.94-.94-2.06-.94 2.06-2.06.94z\"/><path d=\"M17.41 7.96l-1.37-1.37c-.4-.4-.92-.59-1.43-.59-.52 0-1.04.2-1.43.59L10.3 9.45l-7.72 7.72c-.78.78-.78 2.05 0 2.83L4 21.41c.39.39.9.59 1.41.59.51 0 1.02-.2 1.41-.59l7.78-7.78 2.81-2.81c.8-.78.8-2.07 0-2.86zM5.41 20L4 18.59l7.72-7.72 1.47 1.35L5.41 20z\"/>\n",
              "  </svg>\n",
              "      </button>\n",
              "      \n",
              "  <style>\n",
              "    .colab-df-container {\n",
              "      display:flex;\n",
              "      flex-wrap:wrap;\n",
              "      gap: 12px;\n",
              "    }\n",
              "\n",
              "    .colab-df-convert {\n",
              "      background-color: #E8F0FE;\n",
              "      border: none;\n",
              "      border-radius: 50%;\n",
              "      cursor: pointer;\n",
              "      display: none;\n",
              "      fill: #1967D2;\n",
              "      height: 32px;\n",
              "      padding: 0 0 0 0;\n",
              "      width: 32px;\n",
              "    }\n",
              "\n",
              "    .colab-df-convert:hover {\n",
              "      background-color: #E2EBFA;\n",
              "      box-shadow: 0px 1px 2px rgba(60, 64, 67, 0.3), 0px 1px 3px 1px rgba(60, 64, 67, 0.15);\n",
              "      fill: #174EA6;\n",
              "    }\n",
              "\n",
              "    [theme=dark] .colab-df-convert {\n",
              "      background-color: #3B4455;\n",
              "      fill: #D2E3FC;\n",
              "    }\n",
              "\n",
              "    [theme=dark] .colab-df-convert:hover {\n",
              "      background-color: #434B5C;\n",
              "      box-shadow: 0px 1px 3px 1px rgba(0, 0, 0, 0.15);\n",
              "      filter: drop-shadow(0px 1px 2px rgba(0, 0, 0, 0.3));\n",
              "      fill: #FFFFFF;\n",
              "    }\n",
              "  </style>\n",
              "\n",
              "      <script>\n",
              "        const buttonEl =\n",
              "          document.querySelector('#df-3f266e67-08fe-44d6-90ae-79528fcc43bf button.colab-df-convert');\n",
              "        buttonEl.style.display =\n",
              "          google.colab.kernel.accessAllowed ? 'block' : 'none';\n",
              "\n",
              "        async function convertToInteractive(key) {\n",
              "          const element = document.querySelector('#df-3f266e67-08fe-44d6-90ae-79528fcc43bf');\n",
              "          const dataTable =\n",
              "            await google.colab.kernel.invokeFunction('convertToInteractive',\n",
              "                                                     [key], {});\n",
              "          if (!dataTable) return;\n",
              "\n",
              "          const docLinkHtml = 'Like what you see? Visit the ' +\n",
              "            '<a target=\"_blank\" href=https://colab.research.google.com/notebooks/data_table.ipynb>data table notebook</a>'\n",
              "            + ' to learn more about interactive tables.';\n",
              "          element.innerHTML = '';\n",
              "          dataTable['output_type'] = 'display_data';\n",
              "          await google.colab.output.renderOutput(dataTable, element);\n",
              "          const docLink = document.createElement('div');\n",
              "          docLink.innerHTML = docLinkHtml;\n",
              "          element.appendChild(docLink);\n",
              "        }\n",
              "      </script>\n",
              "    </div>\n",
              "  </div>\n",
              "  "
            ]
          },
          "metadata": {},
          "execution_count": 8
        }
      ],
      "source": [
        "messages.head()"
      ]
    },
    {
      "cell_type": "markdown",
      "metadata": {
        "id": "glt7-9w50N_y"
      },
      "source": [
        "Tidak ada data yang hilang, namun kolom `message_date` tipe datanya masih `object`. Pada tahap selanjutnya akan disesuaikan menjadi `datetime`."
      ]
    },
    {
      "cell_type": "markdown",
      "metadata": {
        "id": "nUVfF4nq0N_z"
      },
      "source": [
        "#### plans"
      ]
    },
    {
      "cell_type": "code",
      "execution_count": null,
      "metadata": {
        "colab": {
          "base_uri": "https://localhost:8080/"
        },
        "id": "ld8vPbOB0N_z",
        "outputId": "0584403b-901d-4b5c-aa5e-f49f99054afb"
      },
      "outputs": [
        {
          "output_type": "stream",
          "name": "stdout",
          "text": [
            "<class 'pandas.core.frame.DataFrame'>\n",
            "RangeIndex: 2 entries, 0 to 1\n",
            "Data columns (total 8 columns):\n",
            " #   Column                 Non-Null Count  Dtype  \n",
            "---  ------                 --------------  -----  \n",
            " 0   messages_included      2 non-null      int64  \n",
            " 1   mb_per_month_included  2 non-null      int64  \n",
            " 2   minutes_included       2 non-null      int64  \n",
            " 3   usd_monthly_pay        2 non-null      int64  \n",
            " 4   usd_per_gb             2 non-null      int64  \n",
            " 5   usd_per_message        2 non-null      float64\n",
            " 6   usd_per_minute         2 non-null      float64\n",
            " 7   plan_name              2 non-null      object \n",
            "dtypes: float64(2), int64(5), object(1)\n",
            "memory usage: 256.0+ bytes\n"
          ]
        }
      ],
      "source": [
        "plans.info()"
      ]
    },
    {
      "cell_type": "code",
      "execution_count": null,
      "metadata": {
        "colab": {
          "base_uri": "https://localhost:8080/",
          "height": 112
        },
        "id": "015P4S9h0N_z",
        "outputId": "146890ea-60c3-46c0-b231-d8cbeb94509d"
      },
      "outputs": [
        {
          "output_type": "execute_result",
          "data": {
            "text/plain": [
              "   messages_included  mb_per_month_included  minutes_included  \\\n",
              "0                 50                  15360               500   \n",
              "1               1000                  30720              3000   \n",
              "\n",
              "   usd_monthly_pay  usd_per_gb  usd_per_message  usd_per_minute plan_name  \n",
              "0               20          10             0.03            0.03      surf  \n",
              "1               70           7             0.01            0.01  ultimate  "
            ],
            "text/html": [
              "\n",
              "  <div id=\"df-db1b6dc2-eb57-40d5-95bb-5bf6d0d98069\">\n",
              "    <div class=\"colab-df-container\">\n",
              "      <div>\n",
              "<style scoped>\n",
              "    .dataframe tbody tr th:only-of-type {\n",
              "        vertical-align: middle;\n",
              "    }\n",
              "\n",
              "    .dataframe tbody tr th {\n",
              "        vertical-align: top;\n",
              "    }\n",
              "\n",
              "    .dataframe thead th {\n",
              "        text-align: right;\n",
              "    }\n",
              "</style>\n",
              "<table border=\"1\" class=\"dataframe\">\n",
              "  <thead>\n",
              "    <tr style=\"text-align: right;\">\n",
              "      <th></th>\n",
              "      <th>messages_included</th>\n",
              "      <th>mb_per_month_included</th>\n",
              "      <th>minutes_included</th>\n",
              "      <th>usd_monthly_pay</th>\n",
              "      <th>usd_per_gb</th>\n",
              "      <th>usd_per_message</th>\n",
              "      <th>usd_per_minute</th>\n",
              "      <th>plan_name</th>\n",
              "    </tr>\n",
              "  </thead>\n",
              "  <tbody>\n",
              "    <tr>\n",
              "      <th>0</th>\n",
              "      <td>50</td>\n",
              "      <td>15360</td>\n",
              "      <td>500</td>\n",
              "      <td>20</td>\n",
              "      <td>10</td>\n",
              "      <td>0.03</td>\n",
              "      <td>0.03</td>\n",
              "      <td>surf</td>\n",
              "    </tr>\n",
              "    <tr>\n",
              "      <th>1</th>\n",
              "      <td>1000</td>\n",
              "      <td>30720</td>\n",
              "      <td>3000</td>\n",
              "      <td>70</td>\n",
              "      <td>7</td>\n",
              "      <td>0.01</td>\n",
              "      <td>0.01</td>\n",
              "      <td>ultimate</td>\n",
              "    </tr>\n",
              "  </tbody>\n",
              "</table>\n",
              "</div>\n",
              "      <button class=\"colab-df-convert\" onclick=\"convertToInteractive('df-db1b6dc2-eb57-40d5-95bb-5bf6d0d98069')\"\n",
              "              title=\"Convert this dataframe to an interactive table.\"\n",
              "              style=\"display:none;\">\n",
              "        \n",
              "  <svg xmlns=\"http://www.w3.org/2000/svg\" height=\"24px\"viewBox=\"0 0 24 24\"\n",
              "       width=\"24px\">\n",
              "    <path d=\"M0 0h24v24H0V0z\" fill=\"none\"/>\n",
              "    <path d=\"M18.56 5.44l.94 2.06.94-2.06 2.06-.94-2.06-.94-.94-2.06-.94 2.06-2.06.94zm-11 1L8.5 8.5l.94-2.06 2.06-.94-2.06-.94L8.5 2.5l-.94 2.06-2.06.94zm10 10l.94 2.06.94-2.06 2.06-.94-2.06-.94-.94-2.06-.94 2.06-2.06.94z\"/><path d=\"M17.41 7.96l-1.37-1.37c-.4-.4-.92-.59-1.43-.59-.52 0-1.04.2-1.43.59L10.3 9.45l-7.72 7.72c-.78.78-.78 2.05 0 2.83L4 21.41c.39.39.9.59 1.41.59.51 0 1.02-.2 1.41-.59l7.78-7.78 2.81-2.81c.8-.78.8-2.07 0-2.86zM5.41 20L4 18.59l7.72-7.72 1.47 1.35L5.41 20z\"/>\n",
              "  </svg>\n",
              "      </button>\n",
              "      \n",
              "  <style>\n",
              "    .colab-df-container {\n",
              "      display:flex;\n",
              "      flex-wrap:wrap;\n",
              "      gap: 12px;\n",
              "    }\n",
              "\n",
              "    .colab-df-convert {\n",
              "      background-color: #E8F0FE;\n",
              "      border: none;\n",
              "      border-radius: 50%;\n",
              "      cursor: pointer;\n",
              "      display: none;\n",
              "      fill: #1967D2;\n",
              "      height: 32px;\n",
              "      padding: 0 0 0 0;\n",
              "      width: 32px;\n",
              "    }\n",
              "\n",
              "    .colab-df-convert:hover {\n",
              "      background-color: #E2EBFA;\n",
              "      box-shadow: 0px 1px 2px rgba(60, 64, 67, 0.3), 0px 1px 3px 1px rgba(60, 64, 67, 0.15);\n",
              "      fill: #174EA6;\n",
              "    }\n",
              "\n",
              "    [theme=dark] .colab-df-convert {\n",
              "      background-color: #3B4455;\n",
              "      fill: #D2E3FC;\n",
              "    }\n",
              "\n",
              "    [theme=dark] .colab-df-convert:hover {\n",
              "      background-color: #434B5C;\n",
              "      box-shadow: 0px 1px 3px 1px rgba(0, 0, 0, 0.15);\n",
              "      filter: drop-shadow(0px 1px 2px rgba(0, 0, 0, 0.3));\n",
              "      fill: #FFFFFF;\n",
              "    }\n",
              "  </style>\n",
              "\n",
              "      <script>\n",
              "        const buttonEl =\n",
              "          document.querySelector('#df-db1b6dc2-eb57-40d5-95bb-5bf6d0d98069 button.colab-df-convert');\n",
              "        buttonEl.style.display =\n",
              "          google.colab.kernel.accessAllowed ? 'block' : 'none';\n",
              "\n",
              "        async function convertToInteractive(key) {\n",
              "          const element = document.querySelector('#df-db1b6dc2-eb57-40d5-95bb-5bf6d0d98069');\n",
              "          const dataTable =\n",
              "            await google.colab.kernel.invokeFunction('convertToInteractive',\n",
              "                                                     [key], {});\n",
              "          if (!dataTable) return;\n",
              "\n",
              "          const docLinkHtml = 'Like what you see? Visit the ' +\n",
              "            '<a target=\"_blank\" href=https://colab.research.google.com/notebooks/data_table.ipynb>data table notebook</a>'\n",
              "            + ' to learn more about interactive tables.';\n",
              "          element.innerHTML = '';\n",
              "          dataTable['output_type'] = 'display_data';\n",
              "          await google.colab.output.renderOutput(dataTable, element);\n",
              "          const docLink = document.createElement('div');\n",
              "          docLink.innerHTML = docLinkHtml;\n",
              "          element.appendChild(docLink);\n",
              "        }\n",
              "      </script>\n",
              "    </div>\n",
              "  </div>\n",
              "  "
            ]
          },
          "metadata": {},
          "execution_count": 10
        }
      ],
      "source": [
        "plans.head()"
      ]
    },
    {
      "cell_type": "markdown",
      "metadata": {
        "id": "E5boAbjD0N_z"
      },
      "source": [
        "Data pada `plans` merupakan `dictionary` dari setiap paket prabayar dari operator `megaline`. Tipe datanya sudah sesuai."
      ]
    },
    {
      "cell_type": "markdown",
      "metadata": {
        "id": "m3xJWIOY0N_0"
      },
      "source": [
        "#### users"
      ]
    },
    {
      "cell_type": "code",
      "execution_count": null,
      "metadata": {
        "colab": {
          "base_uri": "https://localhost:8080/"
        },
        "id": "sPYKbUwu0N_0",
        "outputId": "0fc4a7d8-68f5-4624-a1a5-8ec73c76ed42"
      },
      "outputs": [
        {
          "output_type": "stream",
          "name": "stdout",
          "text": [
            "<class 'pandas.core.frame.DataFrame'>\n",
            "RangeIndex: 500 entries, 0 to 499\n",
            "Data columns (total 8 columns):\n",
            " #   Column      Non-Null Count  Dtype \n",
            "---  ------      --------------  ----- \n",
            " 0   user_id     500 non-null    int64 \n",
            " 1   first_name  500 non-null    object\n",
            " 2   last_name   500 non-null    object\n",
            " 3   age         500 non-null    int64 \n",
            " 4   city        500 non-null    object\n",
            " 5   reg_date    500 non-null    object\n",
            " 6   plan        500 non-null    object\n",
            " 7   churn_date  34 non-null     object\n",
            "dtypes: int64(2), object(6)\n",
            "memory usage: 31.4+ KB\n"
          ]
        }
      ],
      "source": [
        "users.info()"
      ]
    },
    {
      "cell_type": "code",
      "execution_count": null,
      "metadata": {
        "colab": {
          "base_uri": "https://localhost:8080/",
          "height": 206
        },
        "id": "4M93suzn0N_0",
        "outputId": "abb9aeed-e9ca-42d3-a1fa-bf58e414f2f4"
      },
      "outputs": [
        {
          "output_type": "execute_result",
          "data": {
            "text/plain": [
              "   user_id first_name  last_name  age                                   city  \\\n",
              "0     1000   Anamaria      Bauer   45  Atlanta-Sandy Springs-Roswell, GA MSA   \n",
              "1     1001     Mickey  Wilkerson   28        Seattle-Tacoma-Bellevue, WA MSA   \n",
              "2     1002     Carlee    Hoffman   36   Las Vegas-Henderson-Paradise, NV MSA   \n",
              "3     1003   Reynaldo    Jenkins   52                          Tulsa, OK MSA   \n",
              "4     1004    Leonila   Thompson   40        Seattle-Tacoma-Bellevue, WA MSA   \n",
              "\n",
              "     reg_date      plan churn_date  \n",
              "0  2018-12-24  ultimate        NaN  \n",
              "1  2018-08-13      surf        NaN  \n",
              "2  2018-10-21      surf        NaN  \n",
              "3  2018-01-28      surf        NaN  \n",
              "4  2018-05-23      surf        NaN  "
            ],
            "text/html": [
              "\n",
              "  <div id=\"df-a909ca10-029a-4a11-949d-511dfaf7429b\">\n",
              "    <div class=\"colab-df-container\">\n",
              "      <div>\n",
              "<style scoped>\n",
              "    .dataframe tbody tr th:only-of-type {\n",
              "        vertical-align: middle;\n",
              "    }\n",
              "\n",
              "    .dataframe tbody tr th {\n",
              "        vertical-align: top;\n",
              "    }\n",
              "\n",
              "    .dataframe thead th {\n",
              "        text-align: right;\n",
              "    }\n",
              "</style>\n",
              "<table border=\"1\" class=\"dataframe\">\n",
              "  <thead>\n",
              "    <tr style=\"text-align: right;\">\n",
              "      <th></th>\n",
              "      <th>user_id</th>\n",
              "      <th>first_name</th>\n",
              "      <th>last_name</th>\n",
              "      <th>age</th>\n",
              "      <th>city</th>\n",
              "      <th>reg_date</th>\n",
              "      <th>plan</th>\n",
              "      <th>churn_date</th>\n",
              "    </tr>\n",
              "  </thead>\n",
              "  <tbody>\n",
              "    <tr>\n",
              "      <th>0</th>\n",
              "      <td>1000</td>\n",
              "      <td>Anamaria</td>\n",
              "      <td>Bauer</td>\n",
              "      <td>45</td>\n",
              "      <td>Atlanta-Sandy Springs-Roswell, GA MSA</td>\n",
              "      <td>2018-12-24</td>\n",
              "      <td>ultimate</td>\n",
              "      <td>NaN</td>\n",
              "    </tr>\n",
              "    <tr>\n",
              "      <th>1</th>\n",
              "      <td>1001</td>\n",
              "      <td>Mickey</td>\n",
              "      <td>Wilkerson</td>\n",
              "      <td>28</td>\n",
              "      <td>Seattle-Tacoma-Bellevue, WA MSA</td>\n",
              "      <td>2018-08-13</td>\n",
              "      <td>surf</td>\n",
              "      <td>NaN</td>\n",
              "    </tr>\n",
              "    <tr>\n",
              "      <th>2</th>\n",
              "      <td>1002</td>\n",
              "      <td>Carlee</td>\n",
              "      <td>Hoffman</td>\n",
              "      <td>36</td>\n",
              "      <td>Las Vegas-Henderson-Paradise, NV MSA</td>\n",
              "      <td>2018-10-21</td>\n",
              "      <td>surf</td>\n",
              "      <td>NaN</td>\n",
              "    </tr>\n",
              "    <tr>\n",
              "      <th>3</th>\n",
              "      <td>1003</td>\n",
              "      <td>Reynaldo</td>\n",
              "      <td>Jenkins</td>\n",
              "      <td>52</td>\n",
              "      <td>Tulsa, OK MSA</td>\n",
              "      <td>2018-01-28</td>\n",
              "      <td>surf</td>\n",
              "      <td>NaN</td>\n",
              "    </tr>\n",
              "    <tr>\n",
              "      <th>4</th>\n",
              "      <td>1004</td>\n",
              "      <td>Leonila</td>\n",
              "      <td>Thompson</td>\n",
              "      <td>40</td>\n",
              "      <td>Seattle-Tacoma-Bellevue, WA MSA</td>\n",
              "      <td>2018-05-23</td>\n",
              "      <td>surf</td>\n",
              "      <td>NaN</td>\n",
              "    </tr>\n",
              "  </tbody>\n",
              "</table>\n",
              "</div>\n",
              "      <button class=\"colab-df-convert\" onclick=\"convertToInteractive('df-a909ca10-029a-4a11-949d-511dfaf7429b')\"\n",
              "              title=\"Convert this dataframe to an interactive table.\"\n",
              "              style=\"display:none;\">\n",
              "        \n",
              "  <svg xmlns=\"http://www.w3.org/2000/svg\" height=\"24px\"viewBox=\"0 0 24 24\"\n",
              "       width=\"24px\">\n",
              "    <path d=\"M0 0h24v24H0V0z\" fill=\"none\"/>\n",
              "    <path d=\"M18.56 5.44l.94 2.06.94-2.06 2.06-.94-2.06-.94-.94-2.06-.94 2.06-2.06.94zm-11 1L8.5 8.5l.94-2.06 2.06-.94-2.06-.94L8.5 2.5l-.94 2.06-2.06.94zm10 10l.94 2.06.94-2.06 2.06-.94-2.06-.94-.94-2.06-.94 2.06-2.06.94z\"/><path d=\"M17.41 7.96l-1.37-1.37c-.4-.4-.92-.59-1.43-.59-.52 0-1.04.2-1.43.59L10.3 9.45l-7.72 7.72c-.78.78-.78 2.05 0 2.83L4 21.41c.39.39.9.59 1.41.59.51 0 1.02-.2 1.41-.59l7.78-7.78 2.81-2.81c.8-.78.8-2.07 0-2.86zM5.41 20L4 18.59l7.72-7.72 1.47 1.35L5.41 20z\"/>\n",
              "  </svg>\n",
              "      </button>\n",
              "      \n",
              "  <style>\n",
              "    .colab-df-container {\n",
              "      display:flex;\n",
              "      flex-wrap:wrap;\n",
              "      gap: 12px;\n",
              "    }\n",
              "\n",
              "    .colab-df-convert {\n",
              "      background-color: #E8F0FE;\n",
              "      border: none;\n",
              "      border-radius: 50%;\n",
              "      cursor: pointer;\n",
              "      display: none;\n",
              "      fill: #1967D2;\n",
              "      height: 32px;\n",
              "      padding: 0 0 0 0;\n",
              "      width: 32px;\n",
              "    }\n",
              "\n",
              "    .colab-df-convert:hover {\n",
              "      background-color: #E2EBFA;\n",
              "      box-shadow: 0px 1px 2px rgba(60, 64, 67, 0.3), 0px 1px 3px 1px rgba(60, 64, 67, 0.15);\n",
              "      fill: #174EA6;\n",
              "    }\n",
              "\n",
              "    [theme=dark] .colab-df-convert {\n",
              "      background-color: #3B4455;\n",
              "      fill: #D2E3FC;\n",
              "    }\n",
              "\n",
              "    [theme=dark] .colab-df-convert:hover {\n",
              "      background-color: #434B5C;\n",
              "      box-shadow: 0px 1px 3px 1px rgba(0, 0, 0, 0.15);\n",
              "      filter: drop-shadow(0px 1px 2px rgba(0, 0, 0, 0.3));\n",
              "      fill: #FFFFFF;\n",
              "    }\n",
              "  </style>\n",
              "\n",
              "      <script>\n",
              "        const buttonEl =\n",
              "          document.querySelector('#df-a909ca10-029a-4a11-949d-511dfaf7429b button.colab-df-convert');\n",
              "        buttonEl.style.display =\n",
              "          google.colab.kernel.accessAllowed ? 'block' : 'none';\n",
              "\n",
              "        async function convertToInteractive(key) {\n",
              "          const element = document.querySelector('#df-a909ca10-029a-4a11-949d-511dfaf7429b');\n",
              "          const dataTable =\n",
              "            await google.colab.kernel.invokeFunction('convertToInteractive',\n",
              "                                                     [key], {});\n",
              "          if (!dataTable) return;\n",
              "\n",
              "          const docLinkHtml = 'Like what you see? Visit the ' +\n",
              "            '<a target=\"_blank\" href=https://colab.research.google.com/notebooks/data_table.ipynb>data table notebook</a>'\n",
              "            + ' to learn more about interactive tables.';\n",
              "          element.innerHTML = '';\n",
              "          dataTable['output_type'] = 'display_data';\n",
              "          await google.colab.output.renderOutput(dataTable, element);\n",
              "          const docLink = document.createElement('div');\n",
              "          docLink.innerHTML = docLinkHtml;\n",
              "          element.appendChild(docLink);\n",
              "        }\n",
              "      </script>\n",
              "    </div>\n",
              "  </div>\n",
              "  "
            ]
          },
          "metadata": {},
          "execution_count": 12
        }
      ],
      "source": [
        "users.head()"
      ]
    },
    {
      "cell_type": "markdown",
      "metadata": {
        "id": "fWuGiw6K0N_1"
      },
      "source": [
        "Tabel ini berisi daftar 500 konsumen dari `Megaline`. Pada kolom `reg_date` seharusnya bertipe `datetime`, namun tipenya masih `object`. Hal tersebut akan disesuaikan pada langkah selanjutnya. Pada kolom `churn_date` banyak data yang `NaN`. Data tersebut bukanlah hilang, namun artinya customer masih menggunakan jasa dari `megaline`. Jika datanya bukan `NaN`, artinya itu adalah tanggal terakhir customer menggunakan jasa dari `megaline`.    "
      ]
    },
    {
      "cell_type": "markdown",
      "metadata": {
        "id": "wKmW0Dxp0N_2"
      },
      "source": [
        "### Mengkonversikan Tipe Data dan Satuan yang Sesuai"
      ]
    },
    {
      "cell_type": "markdown",
      "metadata": {
        "id": "Y6lA1LNN0N_2"
      },
      "source": [
        "Dari seluruh dataset yang telah dimuat, ada tiga dataset yang perlu dikonversi dan disesuaikan. Ketiga dataset yang dimaksud yaitu:\n",
        "- calls\n",
        "- internet\n",
        "- messages"
      ]
    },
    {
      "cell_type": "markdown",
      "metadata": {
        "id": "bkoHtw6o0N_2"
      },
      "source": [
        "#### calls"
      ]
    },
    {
      "cell_type": "markdown",
      "metadata": {
        "id": "SM8OYKNw0N_3"
      },
      "source": [
        "Langkah pertama yang akan dilakukan adalah mengkonversi kolom `call_date` yang tadinya dari `object` menjadi `datetime`. Setelah tipe data berubah menjadi `datetime`, maka saya dapat membuat kolom bulannya agar dapat menghitung total `duration` perbulan."
      ]
    },
    {
      "cell_type": "code",
      "execution_count": null,
      "metadata": {
        "colab": {
          "base_uri": "https://localhost:8080/"
        },
        "id": "b3hiFGCc0N_3",
        "outputId": "949d638d-2769-4b02-9d41-ecfe5b54a436"
      },
      "outputs": [
        {
          "output_type": "stream",
          "name": "stdout",
          "text": [
            "<class 'pandas.core.frame.DataFrame'>\n",
            "RangeIndex: 137735 entries, 0 to 137734\n",
            "Data columns (total 5 columns):\n",
            " #   Column     Non-Null Count   Dtype         \n",
            "---  ------     --------------   -----         \n",
            " 0   id         137735 non-null  object        \n",
            " 1   user_id    137735 non-null  int64         \n",
            " 2   call_date  137735 non-null  datetime64[ns]\n",
            " 3   duration   137735 non-null  float64       \n",
            " 4   month      137735 non-null  period[M]     \n",
            "dtypes: datetime64[ns](1), float64(1), int64(1), object(1), period[M](1)\n",
            "memory usage: 5.3+ MB\n"
          ]
        }
      ],
      "source": [
        "calls['call_date'] = pd.to_datetime(calls['call_date'])\n",
        "calls['month'] = calls['call_date'].dt.to_period('M')\n",
        "\n",
        "calls.info()"
      ]
    },
    {
      "cell_type": "code",
      "execution_count": null,
      "metadata": {
        "id": "-nlbrY8F0N_4"
      },
      "outputs": [],
      "source": [
        "calls['duration'] = py.ceil(calls['duration'])\n",
        "calls['duration'] = calls['duration'].astype(int)"
      ]
    },
    {
      "cell_type": "code",
      "execution_count": null,
      "metadata": {
        "colab": {
          "base_uri": "https://localhost:8080/",
          "height": 206
        },
        "id": "Nxj7fye30N_4",
        "outputId": "dc9e40ab-e0bd-4ec4-fe65-8074532af89f"
      },
      "outputs": [
        {
          "output_type": "execute_result",
          "data": {
            "text/plain": [
              "         id  user_id  call_date  duration    month\n",
              "0   1000_93     1000 2018-12-27         9  2018-12\n",
              "1  1000_145     1000 2018-12-27        14  2018-12\n",
              "2  1000_247     1000 2018-12-27        15  2018-12\n",
              "3  1000_309     1000 2018-12-28         6  2018-12\n",
              "4  1000_380     1000 2018-12-30         5  2018-12"
            ],
            "text/html": [
              "\n",
              "  <div id=\"df-3ef5f67b-9614-473d-96be-4ff662d1ee01\">\n",
              "    <div class=\"colab-df-container\">\n",
              "      <div>\n",
              "<style scoped>\n",
              "    .dataframe tbody tr th:only-of-type {\n",
              "        vertical-align: middle;\n",
              "    }\n",
              "\n",
              "    .dataframe tbody tr th {\n",
              "        vertical-align: top;\n",
              "    }\n",
              "\n",
              "    .dataframe thead th {\n",
              "        text-align: right;\n",
              "    }\n",
              "</style>\n",
              "<table border=\"1\" class=\"dataframe\">\n",
              "  <thead>\n",
              "    <tr style=\"text-align: right;\">\n",
              "      <th></th>\n",
              "      <th>id</th>\n",
              "      <th>user_id</th>\n",
              "      <th>call_date</th>\n",
              "      <th>duration</th>\n",
              "      <th>month</th>\n",
              "    </tr>\n",
              "  </thead>\n",
              "  <tbody>\n",
              "    <tr>\n",
              "      <th>0</th>\n",
              "      <td>1000_93</td>\n",
              "      <td>1000</td>\n",
              "      <td>2018-12-27</td>\n",
              "      <td>9</td>\n",
              "      <td>2018-12</td>\n",
              "    </tr>\n",
              "    <tr>\n",
              "      <th>1</th>\n",
              "      <td>1000_145</td>\n",
              "      <td>1000</td>\n",
              "      <td>2018-12-27</td>\n",
              "      <td>14</td>\n",
              "      <td>2018-12</td>\n",
              "    </tr>\n",
              "    <tr>\n",
              "      <th>2</th>\n",
              "      <td>1000_247</td>\n",
              "      <td>1000</td>\n",
              "      <td>2018-12-27</td>\n",
              "      <td>15</td>\n",
              "      <td>2018-12</td>\n",
              "    </tr>\n",
              "    <tr>\n",
              "      <th>3</th>\n",
              "      <td>1000_309</td>\n",
              "      <td>1000</td>\n",
              "      <td>2018-12-28</td>\n",
              "      <td>6</td>\n",
              "      <td>2018-12</td>\n",
              "    </tr>\n",
              "    <tr>\n",
              "      <th>4</th>\n",
              "      <td>1000_380</td>\n",
              "      <td>1000</td>\n",
              "      <td>2018-12-30</td>\n",
              "      <td>5</td>\n",
              "      <td>2018-12</td>\n",
              "    </tr>\n",
              "  </tbody>\n",
              "</table>\n",
              "</div>\n",
              "      <button class=\"colab-df-convert\" onclick=\"convertToInteractive('df-3ef5f67b-9614-473d-96be-4ff662d1ee01')\"\n",
              "              title=\"Convert this dataframe to an interactive table.\"\n",
              "              style=\"display:none;\">\n",
              "        \n",
              "  <svg xmlns=\"http://www.w3.org/2000/svg\" height=\"24px\"viewBox=\"0 0 24 24\"\n",
              "       width=\"24px\">\n",
              "    <path d=\"M0 0h24v24H0V0z\" fill=\"none\"/>\n",
              "    <path d=\"M18.56 5.44l.94 2.06.94-2.06 2.06-.94-2.06-.94-.94-2.06-.94 2.06-2.06.94zm-11 1L8.5 8.5l.94-2.06 2.06-.94-2.06-.94L8.5 2.5l-.94 2.06-2.06.94zm10 10l.94 2.06.94-2.06 2.06-.94-2.06-.94-.94-2.06-.94 2.06-2.06.94z\"/><path d=\"M17.41 7.96l-1.37-1.37c-.4-.4-.92-.59-1.43-.59-.52 0-1.04.2-1.43.59L10.3 9.45l-7.72 7.72c-.78.78-.78 2.05 0 2.83L4 21.41c.39.39.9.59 1.41.59.51 0 1.02-.2 1.41-.59l7.78-7.78 2.81-2.81c.8-.78.8-2.07 0-2.86zM5.41 20L4 18.59l7.72-7.72 1.47 1.35L5.41 20z\"/>\n",
              "  </svg>\n",
              "      </button>\n",
              "      \n",
              "  <style>\n",
              "    .colab-df-container {\n",
              "      display:flex;\n",
              "      flex-wrap:wrap;\n",
              "      gap: 12px;\n",
              "    }\n",
              "\n",
              "    .colab-df-convert {\n",
              "      background-color: #E8F0FE;\n",
              "      border: none;\n",
              "      border-radius: 50%;\n",
              "      cursor: pointer;\n",
              "      display: none;\n",
              "      fill: #1967D2;\n",
              "      height: 32px;\n",
              "      padding: 0 0 0 0;\n",
              "      width: 32px;\n",
              "    }\n",
              "\n",
              "    .colab-df-convert:hover {\n",
              "      background-color: #E2EBFA;\n",
              "      box-shadow: 0px 1px 2px rgba(60, 64, 67, 0.3), 0px 1px 3px 1px rgba(60, 64, 67, 0.15);\n",
              "      fill: #174EA6;\n",
              "    }\n",
              "\n",
              "    [theme=dark] .colab-df-convert {\n",
              "      background-color: #3B4455;\n",
              "      fill: #D2E3FC;\n",
              "    }\n",
              "\n",
              "    [theme=dark] .colab-df-convert:hover {\n",
              "      background-color: #434B5C;\n",
              "      box-shadow: 0px 1px 3px 1px rgba(0, 0, 0, 0.15);\n",
              "      filter: drop-shadow(0px 1px 2px rgba(0, 0, 0, 0.3));\n",
              "      fill: #FFFFFF;\n",
              "    }\n",
              "  </style>\n",
              "\n",
              "      <script>\n",
              "        const buttonEl =\n",
              "          document.querySelector('#df-3ef5f67b-9614-473d-96be-4ff662d1ee01 button.colab-df-convert');\n",
              "        buttonEl.style.display =\n",
              "          google.colab.kernel.accessAllowed ? 'block' : 'none';\n",
              "\n",
              "        async function convertToInteractive(key) {\n",
              "          const element = document.querySelector('#df-3ef5f67b-9614-473d-96be-4ff662d1ee01');\n",
              "          const dataTable =\n",
              "            await google.colab.kernel.invokeFunction('convertToInteractive',\n",
              "                                                     [key], {});\n",
              "          if (!dataTable) return;\n",
              "\n",
              "          const docLinkHtml = 'Like what you see? Visit the ' +\n",
              "            '<a target=\"_blank\" href=https://colab.research.google.com/notebooks/data_table.ipynb>data table notebook</a>'\n",
              "            + ' to learn more about interactive tables.';\n",
              "          element.innerHTML = '';\n",
              "          dataTable['output_type'] = 'display_data';\n",
              "          await google.colab.output.renderOutput(dataTable, element);\n",
              "          const docLink = document.createElement('div');\n",
              "          docLink.innerHTML = docLinkHtml;\n",
              "          element.appendChild(docLink);\n",
              "        }\n",
              "      </script>\n",
              "    </div>\n",
              "  </div>\n",
              "  "
            ]
          },
          "metadata": {},
          "execution_count": 15
        }
      ],
      "source": [
        "calls.head()"
      ]
    },
    {
      "cell_type": "markdown",
      "metadata": {
        "id": "gVCX31Cc0N_5"
      },
      "source": [
        "Kolom `duration` telah berhasil dibulatkan keatas dari durasi telefon customer. Dan kolom `month` telah berhasil ditambahkan agar dapat menghitung total `duration` dalam setiap bulannya.  "
      ]
    },
    {
      "cell_type": "code",
      "execution_count": null,
      "metadata": {
        "scrolled": true,
        "colab": {
          "base_uri": "https://localhost:8080/"
        },
        "id": "vP2KKqgq0N_6",
        "outputId": "0afdc485-4332-4aa0-a840-07c5f95759d2"
      },
      "outputs": [
        {
          "output_type": "execute_result",
          "data": {
            "text/plain": [
              "0"
            ]
          },
          "metadata": {},
          "execution_count": 16
        }
      ],
      "source": [
        "calls.duplicated().sum()"
      ]
    },
    {
      "cell_type": "markdown",
      "metadata": {
        "id": "jBiqF0xJ0N_6"
      },
      "source": [
        "Tidak ada nilai duplikat."
      ]
    },
    {
      "cell_type": "code",
      "execution_count": null,
      "metadata": {
        "colab": {
          "base_uri": "https://localhost:8080/",
          "height": 423
        },
        "id": "oxQBPBGc0N_7",
        "outputId": "736e32c3-b7b1-498a-bc8f-5be3ee7d764b"
      },
      "outputs": [
        {
          "output_type": "execute_result",
          "data": {
            "text/plain": [
              "      user_id    month  duration\n",
              "0        1000  2018-12       124\n",
              "1        1001  2018-08       182\n",
              "2        1001  2018-09       315\n",
              "3        1001  2018-10       393\n",
              "4        1001  2018-11       426\n",
              "...       ...      ...       ...\n",
              "2253     1498  2018-12       339\n",
              "2254     1499  2018-09       346\n",
              "2255     1499  2018-10       385\n",
              "2256     1499  2018-11       308\n",
              "2257     1499  2018-12       496\n",
              "\n",
              "[2258 rows x 3 columns]"
            ],
            "text/html": [
              "\n",
              "  <div id=\"df-724af8f5-08e0-4f12-b703-19b760412554\">\n",
              "    <div class=\"colab-df-container\">\n",
              "      <div>\n",
              "<style scoped>\n",
              "    .dataframe tbody tr th:only-of-type {\n",
              "        vertical-align: middle;\n",
              "    }\n",
              "\n",
              "    .dataframe tbody tr th {\n",
              "        vertical-align: top;\n",
              "    }\n",
              "\n",
              "    .dataframe thead th {\n",
              "        text-align: right;\n",
              "    }\n",
              "</style>\n",
              "<table border=\"1\" class=\"dataframe\">\n",
              "  <thead>\n",
              "    <tr style=\"text-align: right;\">\n",
              "      <th></th>\n",
              "      <th>user_id</th>\n",
              "      <th>month</th>\n",
              "      <th>duration</th>\n",
              "    </tr>\n",
              "  </thead>\n",
              "  <tbody>\n",
              "    <tr>\n",
              "      <th>0</th>\n",
              "      <td>1000</td>\n",
              "      <td>2018-12</td>\n",
              "      <td>124</td>\n",
              "    </tr>\n",
              "    <tr>\n",
              "      <th>1</th>\n",
              "      <td>1001</td>\n",
              "      <td>2018-08</td>\n",
              "      <td>182</td>\n",
              "    </tr>\n",
              "    <tr>\n",
              "      <th>2</th>\n",
              "      <td>1001</td>\n",
              "      <td>2018-09</td>\n",
              "      <td>315</td>\n",
              "    </tr>\n",
              "    <tr>\n",
              "      <th>3</th>\n",
              "      <td>1001</td>\n",
              "      <td>2018-10</td>\n",
              "      <td>393</td>\n",
              "    </tr>\n",
              "    <tr>\n",
              "      <th>4</th>\n",
              "      <td>1001</td>\n",
              "      <td>2018-11</td>\n",
              "      <td>426</td>\n",
              "    </tr>\n",
              "    <tr>\n",
              "      <th>...</th>\n",
              "      <td>...</td>\n",
              "      <td>...</td>\n",
              "      <td>...</td>\n",
              "    </tr>\n",
              "    <tr>\n",
              "      <th>2253</th>\n",
              "      <td>1498</td>\n",
              "      <td>2018-12</td>\n",
              "      <td>339</td>\n",
              "    </tr>\n",
              "    <tr>\n",
              "      <th>2254</th>\n",
              "      <td>1499</td>\n",
              "      <td>2018-09</td>\n",
              "      <td>346</td>\n",
              "    </tr>\n",
              "    <tr>\n",
              "      <th>2255</th>\n",
              "      <td>1499</td>\n",
              "      <td>2018-10</td>\n",
              "      <td>385</td>\n",
              "    </tr>\n",
              "    <tr>\n",
              "      <th>2256</th>\n",
              "      <td>1499</td>\n",
              "      <td>2018-11</td>\n",
              "      <td>308</td>\n",
              "    </tr>\n",
              "    <tr>\n",
              "      <th>2257</th>\n",
              "      <td>1499</td>\n",
              "      <td>2018-12</td>\n",
              "      <td>496</td>\n",
              "    </tr>\n",
              "  </tbody>\n",
              "</table>\n",
              "<p>2258 rows × 3 columns</p>\n",
              "</div>\n",
              "      <button class=\"colab-df-convert\" onclick=\"convertToInteractive('df-724af8f5-08e0-4f12-b703-19b760412554')\"\n",
              "              title=\"Convert this dataframe to an interactive table.\"\n",
              "              style=\"display:none;\">\n",
              "        \n",
              "  <svg xmlns=\"http://www.w3.org/2000/svg\" height=\"24px\"viewBox=\"0 0 24 24\"\n",
              "       width=\"24px\">\n",
              "    <path d=\"M0 0h24v24H0V0z\" fill=\"none\"/>\n",
              "    <path d=\"M18.56 5.44l.94 2.06.94-2.06 2.06-.94-2.06-.94-.94-2.06-.94 2.06-2.06.94zm-11 1L8.5 8.5l.94-2.06 2.06-.94-2.06-.94L8.5 2.5l-.94 2.06-2.06.94zm10 10l.94 2.06.94-2.06 2.06-.94-2.06-.94-.94-2.06-.94 2.06-2.06.94z\"/><path d=\"M17.41 7.96l-1.37-1.37c-.4-.4-.92-.59-1.43-.59-.52 0-1.04.2-1.43.59L10.3 9.45l-7.72 7.72c-.78.78-.78 2.05 0 2.83L4 21.41c.39.39.9.59 1.41.59.51 0 1.02-.2 1.41-.59l7.78-7.78 2.81-2.81c.8-.78.8-2.07 0-2.86zM5.41 20L4 18.59l7.72-7.72 1.47 1.35L5.41 20z\"/>\n",
              "  </svg>\n",
              "      </button>\n",
              "      \n",
              "  <style>\n",
              "    .colab-df-container {\n",
              "      display:flex;\n",
              "      flex-wrap:wrap;\n",
              "      gap: 12px;\n",
              "    }\n",
              "\n",
              "    .colab-df-convert {\n",
              "      background-color: #E8F0FE;\n",
              "      border: none;\n",
              "      border-radius: 50%;\n",
              "      cursor: pointer;\n",
              "      display: none;\n",
              "      fill: #1967D2;\n",
              "      height: 32px;\n",
              "      padding: 0 0 0 0;\n",
              "      width: 32px;\n",
              "    }\n",
              "\n",
              "    .colab-df-convert:hover {\n",
              "      background-color: #E2EBFA;\n",
              "      box-shadow: 0px 1px 2px rgba(60, 64, 67, 0.3), 0px 1px 3px 1px rgba(60, 64, 67, 0.15);\n",
              "      fill: #174EA6;\n",
              "    }\n",
              "\n",
              "    [theme=dark] .colab-df-convert {\n",
              "      background-color: #3B4455;\n",
              "      fill: #D2E3FC;\n",
              "    }\n",
              "\n",
              "    [theme=dark] .colab-df-convert:hover {\n",
              "      background-color: #434B5C;\n",
              "      box-shadow: 0px 1px 3px 1px rgba(0, 0, 0, 0.15);\n",
              "      filter: drop-shadow(0px 1px 2px rgba(0, 0, 0, 0.3));\n",
              "      fill: #FFFFFF;\n",
              "    }\n",
              "  </style>\n",
              "\n",
              "      <script>\n",
              "        const buttonEl =\n",
              "          document.querySelector('#df-724af8f5-08e0-4f12-b703-19b760412554 button.colab-df-convert');\n",
              "        buttonEl.style.display =\n",
              "          google.colab.kernel.accessAllowed ? 'block' : 'none';\n",
              "\n",
              "        async function convertToInteractive(key) {\n",
              "          const element = document.querySelector('#df-724af8f5-08e0-4f12-b703-19b760412554');\n",
              "          const dataTable =\n",
              "            await google.colab.kernel.invokeFunction('convertToInteractive',\n",
              "                                                     [key], {});\n",
              "          if (!dataTable) return;\n",
              "\n",
              "          const docLinkHtml = 'Like what you see? Visit the ' +\n",
              "            '<a target=\"_blank\" href=https://colab.research.google.com/notebooks/data_table.ipynb>data table notebook</a>'\n",
              "            + ' to learn more about interactive tables.';\n",
              "          element.innerHTML = '';\n",
              "          dataTable['output_type'] = 'display_data';\n",
              "          await google.colab.output.renderOutput(dataTable, element);\n",
              "          const docLink = document.createElement('div');\n",
              "          docLink.innerHTML = docLinkHtml;\n",
              "          element.appendChild(docLink);\n",
              "        }\n",
              "      </script>\n",
              "    </div>\n",
              "  </div>\n",
              "  "
            ]
          },
          "metadata": {},
          "execution_count": 17
        }
      ],
      "source": [
        "calls_by_month = calls.pivot_table(values='duration', index=['user_id', 'month'], aggfunc='sum')\n",
        "calls_by_month.reset_index(inplace=True)\n",
        "calls_by_month"
      ]
    },
    {
      "cell_type": "markdown",
      "metadata": {
        "id": "A6AqYgEr0N_8"
      },
      "source": [
        "Kolom month sudah ditambahkan."
      ]
    },
    {
      "cell_type": "markdown",
      "metadata": {
        "id": "CviQv3zS0N_9"
      },
      "source": [
        "#### internet"
      ]
    },
    {
      "cell_type": "markdown",
      "metadata": {
        "id": "3IAe_Si-0N_9"
      },
      "source": [
        "Konversi yang dilakukan pada dataset `internet` adalah mengubah tipe data dari kolom `session_date` dan menambahkan kolom `month` agar dapat mengakses bulan untuk menghitung penggunaan `megabyte` per bulan."
      ]
    },
    {
      "cell_type": "code",
      "execution_count": null,
      "metadata": {
        "scrolled": true,
        "colab": {
          "base_uri": "https://localhost:8080/"
        },
        "id": "g63nmefW0N_-",
        "outputId": "0a6c3626-f3c5-42a1-e0f9-facea4a15a0a"
      },
      "outputs": [
        {
          "output_type": "stream",
          "name": "stdout",
          "text": [
            "<class 'pandas.core.frame.DataFrame'>\n",
            "RangeIndex: 104825 entries, 0 to 104824\n",
            "Data columns (total 5 columns):\n",
            " #   Column        Non-Null Count   Dtype         \n",
            "---  ------        --------------   -----         \n",
            " 0   id            104825 non-null  object        \n",
            " 1   user_id       104825 non-null  int64         \n",
            " 2   session_date  104825 non-null  datetime64[ns]\n",
            " 3   mb_used       104825 non-null  float64       \n",
            " 4   month         104825 non-null  period[M]     \n",
            "dtypes: datetime64[ns](1), float64(1), int64(1), object(1), period[M](1)\n",
            "memory usage: 4.0+ MB\n"
          ]
        }
      ],
      "source": [
        "internet['session_date'] = pd.to_datetime(internet['session_date'])\n",
        "internet['month'] = internet['session_date'].dt.to_period('M')\n",
        "internet.info()"
      ]
    },
    {
      "cell_type": "markdown",
      "metadata": {
        "id": "uPKugaWJ0N__"
      },
      "source": [
        "tipe data `session_date` telah berubah menjadi `datetime` dan kolom `month` telah berhasil ditambahkan."
      ]
    },
    {
      "cell_type": "code",
      "execution_count": null,
      "metadata": {
        "colab": {
          "base_uri": "https://localhost:8080/",
          "height": 206
        },
        "id": "LeSS2Iaw0N__",
        "outputId": "db5de3fb-8273-49b7-ea00-08296be1de1a"
      },
      "outputs": [
        {
          "output_type": "execute_result",
          "data": {
            "text/plain": [
              "         id  user_id session_date  mb_used    month\n",
              "0   1000_13     1000   2018-12-29    89.86  2018-12\n",
              "1  1000_204     1000   2018-12-31     0.00  2018-12\n",
              "2  1000_379     1000   2018-12-28   660.40  2018-12\n",
              "3  1000_413     1000   2018-12-26   270.99  2018-12\n",
              "4  1000_442     1000   2018-12-27   880.22  2018-12"
            ],
            "text/html": [
              "\n",
              "  <div id=\"df-8c71d1ea-d3c9-422f-be70-d5a0e800b01b\">\n",
              "    <div class=\"colab-df-container\">\n",
              "      <div>\n",
              "<style scoped>\n",
              "    .dataframe tbody tr th:only-of-type {\n",
              "        vertical-align: middle;\n",
              "    }\n",
              "\n",
              "    .dataframe tbody tr th {\n",
              "        vertical-align: top;\n",
              "    }\n",
              "\n",
              "    .dataframe thead th {\n",
              "        text-align: right;\n",
              "    }\n",
              "</style>\n",
              "<table border=\"1\" class=\"dataframe\">\n",
              "  <thead>\n",
              "    <tr style=\"text-align: right;\">\n",
              "      <th></th>\n",
              "      <th>id</th>\n",
              "      <th>user_id</th>\n",
              "      <th>session_date</th>\n",
              "      <th>mb_used</th>\n",
              "      <th>month</th>\n",
              "    </tr>\n",
              "  </thead>\n",
              "  <tbody>\n",
              "    <tr>\n",
              "      <th>0</th>\n",
              "      <td>1000_13</td>\n",
              "      <td>1000</td>\n",
              "      <td>2018-12-29</td>\n",
              "      <td>89.86</td>\n",
              "      <td>2018-12</td>\n",
              "    </tr>\n",
              "    <tr>\n",
              "      <th>1</th>\n",
              "      <td>1000_204</td>\n",
              "      <td>1000</td>\n",
              "      <td>2018-12-31</td>\n",
              "      <td>0.00</td>\n",
              "      <td>2018-12</td>\n",
              "    </tr>\n",
              "    <tr>\n",
              "      <th>2</th>\n",
              "      <td>1000_379</td>\n",
              "      <td>1000</td>\n",
              "      <td>2018-12-28</td>\n",
              "      <td>660.40</td>\n",
              "      <td>2018-12</td>\n",
              "    </tr>\n",
              "    <tr>\n",
              "      <th>3</th>\n",
              "      <td>1000_413</td>\n",
              "      <td>1000</td>\n",
              "      <td>2018-12-26</td>\n",
              "      <td>270.99</td>\n",
              "      <td>2018-12</td>\n",
              "    </tr>\n",
              "    <tr>\n",
              "      <th>4</th>\n",
              "      <td>1000_442</td>\n",
              "      <td>1000</td>\n",
              "      <td>2018-12-27</td>\n",
              "      <td>880.22</td>\n",
              "      <td>2018-12</td>\n",
              "    </tr>\n",
              "  </tbody>\n",
              "</table>\n",
              "</div>\n",
              "      <button class=\"colab-df-convert\" onclick=\"convertToInteractive('df-8c71d1ea-d3c9-422f-be70-d5a0e800b01b')\"\n",
              "              title=\"Convert this dataframe to an interactive table.\"\n",
              "              style=\"display:none;\">\n",
              "        \n",
              "  <svg xmlns=\"http://www.w3.org/2000/svg\" height=\"24px\"viewBox=\"0 0 24 24\"\n",
              "       width=\"24px\">\n",
              "    <path d=\"M0 0h24v24H0V0z\" fill=\"none\"/>\n",
              "    <path d=\"M18.56 5.44l.94 2.06.94-2.06 2.06-.94-2.06-.94-.94-2.06-.94 2.06-2.06.94zm-11 1L8.5 8.5l.94-2.06 2.06-.94-2.06-.94L8.5 2.5l-.94 2.06-2.06.94zm10 10l.94 2.06.94-2.06 2.06-.94-2.06-.94-.94-2.06-.94 2.06-2.06.94z\"/><path d=\"M17.41 7.96l-1.37-1.37c-.4-.4-.92-.59-1.43-.59-.52 0-1.04.2-1.43.59L10.3 9.45l-7.72 7.72c-.78.78-.78 2.05 0 2.83L4 21.41c.39.39.9.59 1.41.59.51 0 1.02-.2 1.41-.59l7.78-7.78 2.81-2.81c.8-.78.8-2.07 0-2.86zM5.41 20L4 18.59l7.72-7.72 1.47 1.35L5.41 20z\"/>\n",
              "  </svg>\n",
              "      </button>\n",
              "      \n",
              "  <style>\n",
              "    .colab-df-container {\n",
              "      display:flex;\n",
              "      flex-wrap:wrap;\n",
              "      gap: 12px;\n",
              "    }\n",
              "\n",
              "    .colab-df-convert {\n",
              "      background-color: #E8F0FE;\n",
              "      border: none;\n",
              "      border-radius: 50%;\n",
              "      cursor: pointer;\n",
              "      display: none;\n",
              "      fill: #1967D2;\n",
              "      height: 32px;\n",
              "      padding: 0 0 0 0;\n",
              "      width: 32px;\n",
              "    }\n",
              "\n",
              "    .colab-df-convert:hover {\n",
              "      background-color: #E2EBFA;\n",
              "      box-shadow: 0px 1px 2px rgba(60, 64, 67, 0.3), 0px 1px 3px 1px rgba(60, 64, 67, 0.15);\n",
              "      fill: #174EA6;\n",
              "    }\n",
              "\n",
              "    [theme=dark] .colab-df-convert {\n",
              "      background-color: #3B4455;\n",
              "      fill: #D2E3FC;\n",
              "    }\n",
              "\n",
              "    [theme=dark] .colab-df-convert:hover {\n",
              "      background-color: #434B5C;\n",
              "      box-shadow: 0px 1px 3px 1px rgba(0, 0, 0, 0.15);\n",
              "      filter: drop-shadow(0px 1px 2px rgba(0, 0, 0, 0.3));\n",
              "      fill: #FFFFFF;\n",
              "    }\n",
              "  </style>\n",
              "\n",
              "      <script>\n",
              "        const buttonEl =\n",
              "          document.querySelector('#df-8c71d1ea-d3c9-422f-be70-d5a0e800b01b button.colab-df-convert');\n",
              "        buttonEl.style.display =\n",
              "          google.colab.kernel.accessAllowed ? 'block' : 'none';\n",
              "\n",
              "        async function convertToInteractive(key) {\n",
              "          const element = document.querySelector('#df-8c71d1ea-d3c9-422f-be70-d5a0e800b01b');\n",
              "          const dataTable =\n",
              "            await google.colab.kernel.invokeFunction('convertToInteractive',\n",
              "                                                     [key], {});\n",
              "          if (!dataTable) return;\n",
              "\n",
              "          const docLinkHtml = 'Like what you see? Visit the ' +\n",
              "            '<a target=\"_blank\" href=https://colab.research.google.com/notebooks/data_table.ipynb>data table notebook</a>'\n",
              "            + ' to learn more about interactive tables.';\n",
              "          element.innerHTML = '';\n",
              "          dataTable['output_type'] = 'display_data';\n",
              "          await google.colab.output.renderOutput(dataTable, element);\n",
              "          const docLink = document.createElement('div');\n",
              "          docLink.innerHTML = docLinkHtml;\n",
              "          element.appendChild(docLink);\n",
              "        }\n",
              "      </script>\n",
              "    </div>\n",
              "  </div>\n",
              "  "
            ]
          },
          "metadata": {},
          "execution_count": 19
        }
      ],
      "source": [
        "internet.head()"
      ]
    },
    {
      "cell_type": "markdown",
      "metadata": {
        "id": "dzXioRu90OAA"
      },
      "source": [
        "`mb_used` diatas masih per sesi, perlu disatukan kedalam per bulan sebelum dibulatkan. Sebelum menggabungkan per bulan. Tidak ada keterangan tahun, karena sudah diinformasikan bahwa data yang diolah khusus untuk tahun 2018. Saya akan memeriksa apakah ada duplikat."
      ]
    },
    {
      "cell_type": "code",
      "execution_count": null,
      "metadata": {
        "colab": {
          "base_uri": "https://localhost:8080/"
        },
        "id": "zAI8VVZ70OAA",
        "outputId": "e4c27a87-411e-4f7e-9c1c-a723d132257b"
      },
      "outputs": [
        {
          "output_type": "execute_result",
          "data": {
            "text/plain": [
              "0"
            ]
          },
          "metadata": {},
          "execution_count": 20
        }
      ],
      "source": [
        "internet.duplicated().sum()"
      ]
    },
    {
      "cell_type": "markdown",
      "metadata": {
        "id": "wHLK5_6Q0OAB"
      },
      "source": [
        "tidak ada data duplikat."
      ]
    },
    {
      "cell_type": "code",
      "execution_count": null,
      "metadata": {
        "colab": {
          "base_uri": "https://localhost:8080/",
          "height": 206
        },
        "id": "B2ZaZAF50OAB",
        "outputId": "186f96fc-5666-4a5c-81ec-809dd1820e2d"
      },
      "outputs": [
        {
          "output_type": "execute_result",
          "data": {
            "text/plain": [
              "   user_id    month   mb_used\n",
              "0     1000  2018-12   1901.47\n",
              "1     1001  2018-08   6919.15\n",
              "2     1001  2018-09  13314.82\n",
              "3     1001  2018-10  22330.49\n",
              "4     1001  2018-11  18504.30"
            ],
            "text/html": [
              "\n",
              "  <div id=\"df-895ac691-320c-468c-a580-996c7c16da93\">\n",
              "    <div class=\"colab-df-container\">\n",
              "      <div>\n",
              "<style scoped>\n",
              "    .dataframe tbody tr th:only-of-type {\n",
              "        vertical-align: middle;\n",
              "    }\n",
              "\n",
              "    .dataframe tbody tr th {\n",
              "        vertical-align: top;\n",
              "    }\n",
              "\n",
              "    .dataframe thead th {\n",
              "        text-align: right;\n",
              "    }\n",
              "</style>\n",
              "<table border=\"1\" class=\"dataframe\">\n",
              "  <thead>\n",
              "    <tr style=\"text-align: right;\">\n",
              "      <th></th>\n",
              "      <th>user_id</th>\n",
              "      <th>month</th>\n",
              "      <th>mb_used</th>\n",
              "    </tr>\n",
              "  </thead>\n",
              "  <tbody>\n",
              "    <tr>\n",
              "      <th>0</th>\n",
              "      <td>1000</td>\n",
              "      <td>2018-12</td>\n",
              "      <td>1901.47</td>\n",
              "    </tr>\n",
              "    <tr>\n",
              "      <th>1</th>\n",
              "      <td>1001</td>\n",
              "      <td>2018-08</td>\n",
              "      <td>6919.15</td>\n",
              "    </tr>\n",
              "    <tr>\n",
              "      <th>2</th>\n",
              "      <td>1001</td>\n",
              "      <td>2018-09</td>\n",
              "      <td>13314.82</td>\n",
              "    </tr>\n",
              "    <tr>\n",
              "      <th>3</th>\n",
              "      <td>1001</td>\n",
              "      <td>2018-10</td>\n",
              "      <td>22330.49</td>\n",
              "    </tr>\n",
              "    <tr>\n",
              "      <th>4</th>\n",
              "      <td>1001</td>\n",
              "      <td>2018-11</td>\n",
              "      <td>18504.30</td>\n",
              "    </tr>\n",
              "  </tbody>\n",
              "</table>\n",
              "</div>\n",
              "      <button class=\"colab-df-convert\" onclick=\"convertToInteractive('df-895ac691-320c-468c-a580-996c7c16da93')\"\n",
              "              title=\"Convert this dataframe to an interactive table.\"\n",
              "              style=\"display:none;\">\n",
              "        \n",
              "  <svg xmlns=\"http://www.w3.org/2000/svg\" height=\"24px\"viewBox=\"0 0 24 24\"\n",
              "       width=\"24px\">\n",
              "    <path d=\"M0 0h24v24H0V0z\" fill=\"none\"/>\n",
              "    <path d=\"M18.56 5.44l.94 2.06.94-2.06 2.06-.94-2.06-.94-.94-2.06-.94 2.06-2.06.94zm-11 1L8.5 8.5l.94-2.06 2.06-.94-2.06-.94L8.5 2.5l-.94 2.06-2.06.94zm10 10l.94 2.06.94-2.06 2.06-.94-2.06-.94-.94-2.06-.94 2.06-2.06.94z\"/><path d=\"M17.41 7.96l-1.37-1.37c-.4-.4-.92-.59-1.43-.59-.52 0-1.04.2-1.43.59L10.3 9.45l-7.72 7.72c-.78.78-.78 2.05 0 2.83L4 21.41c.39.39.9.59 1.41.59.51 0 1.02-.2 1.41-.59l7.78-7.78 2.81-2.81c.8-.78.8-2.07 0-2.86zM5.41 20L4 18.59l7.72-7.72 1.47 1.35L5.41 20z\"/>\n",
              "  </svg>\n",
              "      </button>\n",
              "      \n",
              "  <style>\n",
              "    .colab-df-container {\n",
              "      display:flex;\n",
              "      flex-wrap:wrap;\n",
              "      gap: 12px;\n",
              "    }\n",
              "\n",
              "    .colab-df-convert {\n",
              "      background-color: #E8F0FE;\n",
              "      border: none;\n",
              "      border-radius: 50%;\n",
              "      cursor: pointer;\n",
              "      display: none;\n",
              "      fill: #1967D2;\n",
              "      height: 32px;\n",
              "      padding: 0 0 0 0;\n",
              "      width: 32px;\n",
              "    }\n",
              "\n",
              "    .colab-df-convert:hover {\n",
              "      background-color: #E2EBFA;\n",
              "      box-shadow: 0px 1px 2px rgba(60, 64, 67, 0.3), 0px 1px 3px 1px rgba(60, 64, 67, 0.15);\n",
              "      fill: #174EA6;\n",
              "    }\n",
              "\n",
              "    [theme=dark] .colab-df-convert {\n",
              "      background-color: #3B4455;\n",
              "      fill: #D2E3FC;\n",
              "    }\n",
              "\n",
              "    [theme=dark] .colab-df-convert:hover {\n",
              "      background-color: #434B5C;\n",
              "      box-shadow: 0px 1px 3px 1px rgba(0, 0, 0, 0.15);\n",
              "      filter: drop-shadow(0px 1px 2px rgba(0, 0, 0, 0.3));\n",
              "      fill: #FFFFFF;\n",
              "    }\n",
              "  </style>\n",
              "\n",
              "      <script>\n",
              "        const buttonEl =\n",
              "          document.querySelector('#df-895ac691-320c-468c-a580-996c7c16da93 button.colab-df-convert');\n",
              "        buttonEl.style.display =\n",
              "          google.colab.kernel.accessAllowed ? 'block' : 'none';\n",
              "\n",
              "        async function convertToInteractive(key) {\n",
              "          const element = document.querySelector('#df-895ac691-320c-468c-a580-996c7c16da93');\n",
              "          const dataTable =\n",
              "            await google.colab.kernel.invokeFunction('convertToInteractive',\n",
              "                                                     [key], {});\n",
              "          if (!dataTable) return;\n",
              "\n",
              "          const docLinkHtml = 'Like what you see? Visit the ' +\n",
              "            '<a target=\"_blank\" href=https://colab.research.google.com/notebooks/data_table.ipynb>data table notebook</a>'\n",
              "            + ' to learn more about interactive tables.';\n",
              "          element.innerHTML = '';\n",
              "          dataTable['output_type'] = 'display_data';\n",
              "          await google.colab.output.renderOutput(dataTable, element);\n",
              "          const docLink = document.createElement('div');\n",
              "          docLink.innerHTML = docLinkHtml;\n",
              "          element.appendChild(docLink);\n",
              "        }\n",
              "      </script>\n",
              "    </div>\n",
              "  </div>\n",
              "  "
            ]
          },
          "metadata": {},
          "execution_count": 21
        }
      ],
      "source": [
        "internet_by_month = internet.pivot_table(values='mb_used', index=['user_id', 'month'], aggfunc='sum')\n",
        "internet_by_month.reset_index(inplace=True)\n",
        "internet_by_month.head()"
      ]
    },
    {
      "cell_type": "markdown",
      "metadata": {
        "id": "otxFxDJK0OAC"
      },
      "source": [
        "Penggunaan data konsumen per bulan telah berhasil dibuat datasetnya, namun satuannya masih dalam `megabyte`. Selanjutnya saya akan mengubahnya dalam `gigabyte` dan membulatkan keatas. "
      ]
    },
    {
      "cell_type": "code",
      "execution_count": null,
      "metadata": {
        "colab": {
          "base_uri": "https://localhost:8080/",
          "height": 206
        },
        "id": "jXmVcH040OAC",
        "outputId": "75c0846a-0182-46b5-cdee-2398837fb766"
      },
      "outputs": [
        {
          "output_type": "execute_result",
          "data": {
            "text/plain": [
              "   user_id    month  gb_used\n",
              "0     1000  2018-12        2\n",
              "1     1001  2018-08        7\n",
              "2     1001  2018-09       14\n",
              "3     1001  2018-10       22\n",
              "4     1001  2018-11       19"
            ],
            "text/html": [
              "\n",
              "  <div id=\"df-acd47304-fdd5-4512-8b56-9cb9fb30812e\">\n",
              "    <div class=\"colab-df-container\">\n",
              "      <div>\n",
              "<style scoped>\n",
              "    .dataframe tbody tr th:only-of-type {\n",
              "        vertical-align: middle;\n",
              "    }\n",
              "\n",
              "    .dataframe tbody tr th {\n",
              "        vertical-align: top;\n",
              "    }\n",
              "\n",
              "    .dataframe thead th {\n",
              "        text-align: right;\n",
              "    }\n",
              "</style>\n",
              "<table border=\"1\" class=\"dataframe\">\n",
              "  <thead>\n",
              "    <tr style=\"text-align: right;\">\n",
              "      <th></th>\n",
              "      <th>user_id</th>\n",
              "      <th>month</th>\n",
              "      <th>gb_used</th>\n",
              "    </tr>\n",
              "  </thead>\n",
              "  <tbody>\n",
              "    <tr>\n",
              "      <th>0</th>\n",
              "      <td>1000</td>\n",
              "      <td>2018-12</td>\n",
              "      <td>2</td>\n",
              "    </tr>\n",
              "    <tr>\n",
              "      <th>1</th>\n",
              "      <td>1001</td>\n",
              "      <td>2018-08</td>\n",
              "      <td>7</td>\n",
              "    </tr>\n",
              "    <tr>\n",
              "      <th>2</th>\n",
              "      <td>1001</td>\n",
              "      <td>2018-09</td>\n",
              "      <td>14</td>\n",
              "    </tr>\n",
              "    <tr>\n",
              "      <th>3</th>\n",
              "      <td>1001</td>\n",
              "      <td>2018-10</td>\n",
              "      <td>22</td>\n",
              "    </tr>\n",
              "    <tr>\n",
              "      <th>4</th>\n",
              "      <td>1001</td>\n",
              "      <td>2018-11</td>\n",
              "      <td>19</td>\n",
              "    </tr>\n",
              "  </tbody>\n",
              "</table>\n",
              "</div>\n",
              "      <button class=\"colab-df-convert\" onclick=\"convertToInteractive('df-acd47304-fdd5-4512-8b56-9cb9fb30812e')\"\n",
              "              title=\"Convert this dataframe to an interactive table.\"\n",
              "              style=\"display:none;\">\n",
              "        \n",
              "  <svg xmlns=\"http://www.w3.org/2000/svg\" height=\"24px\"viewBox=\"0 0 24 24\"\n",
              "       width=\"24px\">\n",
              "    <path d=\"M0 0h24v24H0V0z\" fill=\"none\"/>\n",
              "    <path d=\"M18.56 5.44l.94 2.06.94-2.06 2.06-.94-2.06-.94-.94-2.06-.94 2.06-2.06.94zm-11 1L8.5 8.5l.94-2.06 2.06-.94-2.06-.94L8.5 2.5l-.94 2.06-2.06.94zm10 10l.94 2.06.94-2.06 2.06-.94-2.06-.94-.94-2.06-.94 2.06-2.06.94z\"/><path d=\"M17.41 7.96l-1.37-1.37c-.4-.4-.92-.59-1.43-.59-.52 0-1.04.2-1.43.59L10.3 9.45l-7.72 7.72c-.78.78-.78 2.05 0 2.83L4 21.41c.39.39.9.59 1.41.59.51 0 1.02-.2 1.41-.59l7.78-7.78 2.81-2.81c.8-.78.8-2.07 0-2.86zM5.41 20L4 18.59l7.72-7.72 1.47 1.35L5.41 20z\"/>\n",
              "  </svg>\n",
              "      </button>\n",
              "      \n",
              "  <style>\n",
              "    .colab-df-container {\n",
              "      display:flex;\n",
              "      flex-wrap:wrap;\n",
              "      gap: 12px;\n",
              "    }\n",
              "\n",
              "    .colab-df-convert {\n",
              "      background-color: #E8F0FE;\n",
              "      border: none;\n",
              "      border-radius: 50%;\n",
              "      cursor: pointer;\n",
              "      display: none;\n",
              "      fill: #1967D2;\n",
              "      height: 32px;\n",
              "      padding: 0 0 0 0;\n",
              "      width: 32px;\n",
              "    }\n",
              "\n",
              "    .colab-df-convert:hover {\n",
              "      background-color: #E2EBFA;\n",
              "      box-shadow: 0px 1px 2px rgba(60, 64, 67, 0.3), 0px 1px 3px 1px rgba(60, 64, 67, 0.15);\n",
              "      fill: #174EA6;\n",
              "    }\n",
              "\n",
              "    [theme=dark] .colab-df-convert {\n",
              "      background-color: #3B4455;\n",
              "      fill: #D2E3FC;\n",
              "    }\n",
              "\n",
              "    [theme=dark] .colab-df-convert:hover {\n",
              "      background-color: #434B5C;\n",
              "      box-shadow: 0px 1px 3px 1px rgba(0, 0, 0, 0.15);\n",
              "      filter: drop-shadow(0px 1px 2px rgba(0, 0, 0, 0.3));\n",
              "      fill: #FFFFFF;\n",
              "    }\n",
              "  </style>\n",
              "\n",
              "      <script>\n",
              "        const buttonEl =\n",
              "          document.querySelector('#df-acd47304-fdd5-4512-8b56-9cb9fb30812e button.colab-df-convert');\n",
              "        buttonEl.style.display =\n",
              "          google.colab.kernel.accessAllowed ? 'block' : 'none';\n",
              "\n",
              "        async function convertToInteractive(key) {\n",
              "          const element = document.querySelector('#df-acd47304-fdd5-4512-8b56-9cb9fb30812e');\n",
              "          const dataTable =\n",
              "            await google.colab.kernel.invokeFunction('convertToInteractive',\n",
              "                                                     [key], {});\n",
              "          if (!dataTable) return;\n",
              "\n",
              "          const docLinkHtml = 'Like what you see? Visit the ' +\n",
              "            '<a target=\"_blank\" href=https://colab.research.google.com/notebooks/data_table.ipynb>data table notebook</a>'\n",
              "            + ' to learn more about interactive tables.';\n",
              "          element.innerHTML = '';\n",
              "          dataTable['output_type'] = 'display_data';\n",
              "          await google.colab.output.renderOutput(dataTable, element);\n",
              "          const docLink = document.createElement('div');\n",
              "          docLink.innerHTML = docLinkHtml;\n",
              "          element.appendChild(docLink);\n",
              "        }\n",
              "      </script>\n",
              "    </div>\n",
              "  </div>\n",
              "  "
            ]
          },
          "metadata": {},
          "execution_count": 22
        }
      ],
      "source": [
        "internet_by_month['mb_used'] = py.ceil(internet_by_month['mb_used'] / 1024)\n",
        "internet_by_month['mb_used'] = internet_by_month['mb_used'].astype(int)\n",
        "internet_by_month.columns = ['user_id', 'month', 'gb_used']\n",
        "internet_by_month.head()"
      ]
    },
    {
      "cell_type": "markdown",
      "metadata": {
        "id": "EmHkFsFS0OAC"
      },
      "source": [
        "Kolom `mb_used` telah berhasil diubah menjadi `gb_used` dan isinya juga sudah berhasil dikonversikan dan pembulatan keatas dalam `gigabyte`."
      ]
    },
    {
      "cell_type": "code",
      "execution_count": null,
      "metadata": {
        "colab": {
          "base_uri": "https://localhost:8080/"
        },
        "id": "fky6k00b0OAC",
        "outputId": "b3a57dc9-18c2-4f29-f385-8f1bc32d9766"
      },
      "outputs": [
        {
          "output_type": "stream",
          "name": "stdout",
          "text": [
            "<class 'pandas.core.frame.DataFrame'>\n",
            "RangeIndex: 2277 entries, 0 to 2276\n",
            "Data columns (total 3 columns):\n",
            " #   Column   Non-Null Count  Dtype    \n",
            "---  ------   --------------  -----    \n",
            " 0   user_id  2277 non-null   int64    \n",
            " 1   month    2277 non-null   period[M]\n",
            " 2   gb_used  2277 non-null   int64    \n",
            "dtypes: int64(2), period[M](1)\n",
            "memory usage: 53.5 KB\n"
          ]
        }
      ],
      "source": [
        "internet_by_month.info()"
      ]
    },
    {
      "cell_type": "markdown",
      "metadata": {
        "id": "Wc-1B1kF0OAC"
      },
      "source": [
        "#### messages"
      ]
    },
    {
      "cell_type": "markdown",
      "metadata": {
        "id": "c_WFXOco0OAD"
      },
      "source": [
        "Langkah konversi dan penyesuaian untuk dataset `message` adalah mengubah data type kolom `message_date`menjadi `datetime`. Selanjutnya menambahkan kolom `month` agar dapat menghitung total `message` per bulan dari setiap konsumen.  "
      ]
    },
    {
      "cell_type": "code",
      "execution_count": null,
      "metadata": {
        "colab": {
          "base_uri": "https://localhost:8080/",
          "height": 206
        },
        "id": "1P5RxtR80OAD",
        "outputId": "70028389-acaa-4e1a-d17c-6f5e00ec2e4f"
      },
      "outputs": [
        {
          "output_type": "execute_result",
          "data": {
            "text/plain": [
              "         id  user_id message_date    month\n",
              "0  1000_125     1000   2018-12-27  2018-12\n",
              "1  1000_160     1000   2018-12-31  2018-12\n",
              "2  1000_223     1000   2018-12-31  2018-12\n",
              "3  1000_251     1000   2018-12-27  2018-12\n",
              "4  1000_255     1000   2018-12-26  2018-12"
            ],
            "text/html": [
              "\n",
              "  <div id=\"df-287167be-3f5e-4f70-b235-fc25532a0ac8\">\n",
              "    <div class=\"colab-df-container\">\n",
              "      <div>\n",
              "<style scoped>\n",
              "    .dataframe tbody tr th:only-of-type {\n",
              "        vertical-align: middle;\n",
              "    }\n",
              "\n",
              "    .dataframe tbody tr th {\n",
              "        vertical-align: top;\n",
              "    }\n",
              "\n",
              "    .dataframe thead th {\n",
              "        text-align: right;\n",
              "    }\n",
              "</style>\n",
              "<table border=\"1\" class=\"dataframe\">\n",
              "  <thead>\n",
              "    <tr style=\"text-align: right;\">\n",
              "      <th></th>\n",
              "      <th>id</th>\n",
              "      <th>user_id</th>\n",
              "      <th>message_date</th>\n",
              "      <th>month</th>\n",
              "    </tr>\n",
              "  </thead>\n",
              "  <tbody>\n",
              "    <tr>\n",
              "      <th>0</th>\n",
              "      <td>1000_125</td>\n",
              "      <td>1000</td>\n",
              "      <td>2018-12-27</td>\n",
              "      <td>2018-12</td>\n",
              "    </tr>\n",
              "    <tr>\n",
              "      <th>1</th>\n",
              "      <td>1000_160</td>\n",
              "      <td>1000</td>\n",
              "      <td>2018-12-31</td>\n",
              "      <td>2018-12</td>\n",
              "    </tr>\n",
              "    <tr>\n",
              "      <th>2</th>\n",
              "      <td>1000_223</td>\n",
              "      <td>1000</td>\n",
              "      <td>2018-12-31</td>\n",
              "      <td>2018-12</td>\n",
              "    </tr>\n",
              "    <tr>\n",
              "      <th>3</th>\n",
              "      <td>1000_251</td>\n",
              "      <td>1000</td>\n",
              "      <td>2018-12-27</td>\n",
              "      <td>2018-12</td>\n",
              "    </tr>\n",
              "    <tr>\n",
              "      <th>4</th>\n",
              "      <td>1000_255</td>\n",
              "      <td>1000</td>\n",
              "      <td>2018-12-26</td>\n",
              "      <td>2018-12</td>\n",
              "    </tr>\n",
              "  </tbody>\n",
              "</table>\n",
              "</div>\n",
              "      <button class=\"colab-df-convert\" onclick=\"convertToInteractive('df-287167be-3f5e-4f70-b235-fc25532a0ac8')\"\n",
              "              title=\"Convert this dataframe to an interactive table.\"\n",
              "              style=\"display:none;\">\n",
              "        \n",
              "  <svg xmlns=\"http://www.w3.org/2000/svg\" height=\"24px\"viewBox=\"0 0 24 24\"\n",
              "       width=\"24px\">\n",
              "    <path d=\"M0 0h24v24H0V0z\" fill=\"none\"/>\n",
              "    <path d=\"M18.56 5.44l.94 2.06.94-2.06 2.06-.94-2.06-.94-.94-2.06-.94 2.06-2.06.94zm-11 1L8.5 8.5l.94-2.06 2.06-.94-2.06-.94L8.5 2.5l-.94 2.06-2.06.94zm10 10l.94 2.06.94-2.06 2.06-.94-2.06-.94-.94-2.06-.94 2.06-2.06.94z\"/><path d=\"M17.41 7.96l-1.37-1.37c-.4-.4-.92-.59-1.43-.59-.52 0-1.04.2-1.43.59L10.3 9.45l-7.72 7.72c-.78.78-.78 2.05 0 2.83L4 21.41c.39.39.9.59 1.41.59.51 0 1.02-.2 1.41-.59l7.78-7.78 2.81-2.81c.8-.78.8-2.07 0-2.86zM5.41 20L4 18.59l7.72-7.72 1.47 1.35L5.41 20z\"/>\n",
              "  </svg>\n",
              "      </button>\n",
              "      \n",
              "  <style>\n",
              "    .colab-df-container {\n",
              "      display:flex;\n",
              "      flex-wrap:wrap;\n",
              "      gap: 12px;\n",
              "    }\n",
              "\n",
              "    .colab-df-convert {\n",
              "      background-color: #E8F0FE;\n",
              "      border: none;\n",
              "      border-radius: 50%;\n",
              "      cursor: pointer;\n",
              "      display: none;\n",
              "      fill: #1967D2;\n",
              "      height: 32px;\n",
              "      padding: 0 0 0 0;\n",
              "      width: 32px;\n",
              "    }\n",
              "\n",
              "    .colab-df-convert:hover {\n",
              "      background-color: #E2EBFA;\n",
              "      box-shadow: 0px 1px 2px rgba(60, 64, 67, 0.3), 0px 1px 3px 1px rgba(60, 64, 67, 0.15);\n",
              "      fill: #174EA6;\n",
              "    }\n",
              "\n",
              "    [theme=dark] .colab-df-convert {\n",
              "      background-color: #3B4455;\n",
              "      fill: #D2E3FC;\n",
              "    }\n",
              "\n",
              "    [theme=dark] .colab-df-convert:hover {\n",
              "      background-color: #434B5C;\n",
              "      box-shadow: 0px 1px 3px 1px rgba(0, 0, 0, 0.15);\n",
              "      filter: drop-shadow(0px 1px 2px rgba(0, 0, 0, 0.3));\n",
              "      fill: #FFFFFF;\n",
              "    }\n",
              "  </style>\n",
              "\n",
              "      <script>\n",
              "        const buttonEl =\n",
              "          document.querySelector('#df-287167be-3f5e-4f70-b235-fc25532a0ac8 button.colab-df-convert');\n",
              "        buttonEl.style.display =\n",
              "          google.colab.kernel.accessAllowed ? 'block' : 'none';\n",
              "\n",
              "        async function convertToInteractive(key) {\n",
              "          const element = document.querySelector('#df-287167be-3f5e-4f70-b235-fc25532a0ac8');\n",
              "          const dataTable =\n",
              "            await google.colab.kernel.invokeFunction('convertToInteractive',\n",
              "                                                     [key], {});\n",
              "          if (!dataTable) return;\n",
              "\n",
              "          const docLinkHtml = 'Like what you see? Visit the ' +\n",
              "            '<a target=\"_blank\" href=https://colab.research.google.com/notebooks/data_table.ipynb>data table notebook</a>'\n",
              "            + ' to learn more about interactive tables.';\n",
              "          element.innerHTML = '';\n",
              "          dataTable['output_type'] = 'display_data';\n",
              "          await google.colab.output.renderOutput(dataTable, element);\n",
              "          const docLink = document.createElement('div');\n",
              "          docLink.innerHTML = docLinkHtml;\n",
              "          element.appendChild(docLink);\n",
              "        }\n",
              "      </script>\n",
              "    </div>\n",
              "  </div>\n",
              "  "
            ]
          },
          "metadata": {},
          "execution_count": 24
        }
      ],
      "source": [
        "messages['message_date'] = pd.to_datetime(messages['message_date'])\n",
        "messages['month'] = messages['message_date'].dt.to_period('M')\n",
        "messages.head()"
      ]
    },
    {
      "cell_type": "markdown",
      "metadata": {
        "id": "y5Qknksz0OAD"
      },
      "source": [
        "kolom `month` sudah berhasil ditambahkan."
      ]
    },
    {
      "cell_type": "code",
      "execution_count": null,
      "metadata": {
        "colab": {
          "base_uri": "https://localhost:8080/"
        },
        "id": "RUUzDm7a0OAD",
        "outputId": "704ff5b4-5f52-44a2-f691-9d5bfc271075"
      },
      "outputs": [
        {
          "output_type": "stream",
          "name": "stdout",
          "text": [
            "<class 'pandas.core.frame.DataFrame'>\n",
            "RangeIndex: 76051 entries, 0 to 76050\n",
            "Data columns (total 4 columns):\n",
            " #   Column        Non-Null Count  Dtype         \n",
            "---  ------        --------------  -----         \n",
            " 0   id            76051 non-null  object        \n",
            " 1   user_id       76051 non-null  int64         \n",
            " 2   message_date  76051 non-null  datetime64[ns]\n",
            " 3   month         76051 non-null  period[M]     \n",
            "dtypes: datetime64[ns](1), int64(1), object(1), period[M](1)\n",
            "memory usage: 2.3+ MB\n"
          ]
        }
      ],
      "source": [
        "messages.info()"
      ]
    },
    {
      "cell_type": "markdown",
      "metadata": {
        "id": "_n_Tn0dL0OAD"
      },
      "source": [
        "Tipe kolom `message_date`dan kolom `month` juga telah berhasil disesuaikan dan ditambahkan. Selanjutnya saya kan menghitung jumlah `message` per bulan dari setiap konsumen."
      ]
    },
    {
      "cell_type": "code",
      "execution_count": null,
      "metadata": {
        "colab": {
          "base_uri": "https://localhost:8080/",
          "height": 206
        },
        "id": "oqHo4wgo0OAD",
        "outputId": "82a46902-8803-44d2-a212-a5a112d52ef4"
      },
      "outputs": [
        {
          "output_type": "execute_result",
          "data": {
            "text/plain": [
              "   user_id    month  messages_count\n",
              "0     1000  2018-12              11\n",
              "1     1001  2018-08              30\n",
              "2     1001  2018-09              44\n",
              "3     1001  2018-10              53\n",
              "4     1001  2018-11              36"
            ],
            "text/html": [
              "\n",
              "  <div id=\"df-c7b14f39-821f-48c1-b959-458b2df8e9f1\">\n",
              "    <div class=\"colab-df-container\">\n",
              "      <div>\n",
              "<style scoped>\n",
              "    .dataframe tbody tr th:only-of-type {\n",
              "        vertical-align: middle;\n",
              "    }\n",
              "\n",
              "    .dataframe tbody tr th {\n",
              "        vertical-align: top;\n",
              "    }\n",
              "\n",
              "    .dataframe thead th {\n",
              "        text-align: right;\n",
              "    }\n",
              "</style>\n",
              "<table border=\"1\" class=\"dataframe\">\n",
              "  <thead>\n",
              "    <tr style=\"text-align: right;\">\n",
              "      <th></th>\n",
              "      <th>user_id</th>\n",
              "      <th>month</th>\n",
              "      <th>messages_count</th>\n",
              "    </tr>\n",
              "  </thead>\n",
              "  <tbody>\n",
              "    <tr>\n",
              "      <th>0</th>\n",
              "      <td>1000</td>\n",
              "      <td>2018-12</td>\n",
              "      <td>11</td>\n",
              "    </tr>\n",
              "    <tr>\n",
              "      <th>1</th>\n",
              "      <td>1001</td>\n",
              "      <td>2018-08</td>\n",
              "      <td>30</td>\n",
              "    </tr>\n",
              "    <tr>\n",
              "      <th>2</th>\n",
              "      <td>1001</td>\n",
              "      <td>2018-09</td>\n",
              "      <td>44</td>\n",
              "    </tr>\n",
              "    <tr>\n",
              "      <th>3</th>\n",
              "      <td>1001</td>\n",
              "      <td>2018-10</td>\n",
              "      <td>53</td>\n",
              "    </tr>\n",
              "    <tr>\n",
              "      <th>4</th>\n",
              "      <td>1001</td>\n",
              "      <td>2018-11</td>\n",
              "      <td>36</td>\n",
              "    </tr>\n",
              "  </tbody>\n",
              "</table>\n",
              "</div>\n",
              "      <button class=\"colab-df-convert\" onclick=\"convertToInteractive('df-c7b14f39-821f-48c1-b959-458b2df8e9f1')\"\n",
              "              title=\"Convert this dataframe to an interactive table.\"\n",
              "              style=\"display:none;\">\n",
              "        \n",
              "  <svg xmlns=\"http://www.w3.org/2000/svg\" height=\"24px\"viewBox=\"0 0 24 24\"\n",
              "       width=\"24px\">\n",
              "    <path d=\"M0 0h24v24H0V0z\" fill=\"none\"/>\n",
              "    <path d=\"M18.56 5.44l.94 2.06.94-2.06 2.06-.94-2.06-.94-.94-2.06-.94 2.06-2.06.94zm-11 1L8.5 8.5l.94-2.06 2.06-.94-2.06-.94L8.5 2.5l-.94 2.06-2.06.94zm10 10l.94 2.06.94-2.06 2.06-.94-2.06-.94-.94-2.06-.94 2.06-2.06.94z\"/><path d=\"M17.41 7.96l-1.37-1.37c-.4-.4-.92-.59-1.43-.59-.52 0-1.04.2-1.43.59L10.3 9.45l-7.72 7.72c-.78.78-.78 2.05 0 2.83L4 21.41c.39.39.9.59 1.41.59.51 0 1.02-.2 1.41-.59l7.78-7.78 2.81-2.81c.8-.78.8-2.07 0-2.86zM5.41 20L4 18.59l7.72-7.72 1.47 1.35L5.41 20z\"/>\n",
              "  </svg>\n",
              "      </button>\n",
              "      \n",
              "  <style>\n",
              "    .colab-df-container {\n",
              "      display:flex;\n",
              "      flex-wrap:wrap;\n",
              "      gap: 12px;\n",
              "    }\n",
              "\n",
              "    .colab-df-convert {\n",
              "      background-color: #E8F0FE;\n",
              "      border: none;\n",
              "      border-radius: 50%;\n",
              "      cursor: pointer;\n",
              "      display: none;\n",
              "      fill: #1967D2;\n",
              "      height: 32px;\n",
              "      padding: 0 0 0 0;\n",
              "      width: 32px;\n",
              "    }\n",
              "\n",
              "    .colab-df-convert:hover {\n",
              "      background-color: #E2EBFA;\n",
              "      box-shadow: 0px 1px 2px rgba(60, 64, 67, 0.3), 0px 1px 3px 1px rgba(60, 64, 67, 0.15);\n",
              "      fill: #174EA6;\n",
              "    }\n",
              "\n",
              "    [theme=dark] .colab-df-convert {\n",
              "      background-color: #3B4455;\n",
              "      fill: #D2E3FC;\n",
              "    }\n",
              "\n",
              "    [theme=dark] .colab-df-convert:hover {\n",
              "      background-color: #434B5C;\n",
              "      box-shadow: 0px 1px 3px 1px rgba(0, 0, 0, 0.15);\n",
              "      filter: drop-shadow(0px 1px 2px rgba(0, 0, 0, 0.3));\n",
              "      fill: #FFFFFF;\n",
              "    }\n",
              "  </style>\n",
              "\n",
              "      <script>\n",
              "        const buttonEl =\n",
              "          document.querySelector('#df-c7b14f39-821f-48c1-b959-458b2df8e9f1 button.colab-df-convert');\n",
              "        buttonEl.style.display =\n",
              "          google.colab.kernel.accessAllowed ? 'block' : 'none';\n",
              "\n",
              "        async function convertToInteractive(key) {\n",
              "          const element = document.querySelector('#df-c7b14f39-821f-48c1-b959-458b2df8e9f1');\n",
              "          const dataTable =\n",
              "            await google.colab.kernel.invokeFunction('convertToInteractive',\n",
              "                                                     [key], {});\n",
              "          if (!dataTable) return;\n",
              "\n",
              "          const docLinkHtml = 'Like what you see? Visit the ' +\n",
              "            '<a target=\"_blank\" href=https://colab.research.google.com/notebooks/data_table.ipynb>data table notebook</a>'\n",
              "            + ' to learn more about interactive tables.';\n",
              "          element.innerHTML = '';\n",
              "          dataTable['output_type'] = 'display_data';\n",
              "          await google.colab.output.renderOutput(dataTable, element);\n",
              "          const docLink = document.createElement('div');\n",
              "          docLink.innerHTML = docLinkHtml;\n",
              "          element.appendChild(docLink);\n",
              "        }\n",
              "      </script>\n",
              "    </div>\n",
              "  </div>\n",
              "  "
            ]
          },
          "metadata": {},
          "execution_count": 26
        }
      ],
      "source": [
        "messages_by_month = messages.pivot_table(values='id', index=['user_id', 'month'], aggfunc='count')\n",
        "messages_by_month.reset_index(inplace=True)\n",
        "messages_by_month.columns = ['user_id', 'month', 'messages_count']\n",
        "messages_by_month.head()"
      ]
    },
    {
      "cell_type": "markdown",
      "metadata": {
        "id": "rmryxa970OAE"
      },
      "source": [
        "### Menggabungkan Dataframe"
      ]
    },
    {
      "cell_type": "markdown",
      "metadata": {
        "id": "gjjX7M2x0OAE"
      },
      "source": [
        "Selanjutnya saya bertujuan untuk menghitung total penggunaan `messages`, `calls`, dan `internet` dari setiap konsumen dalam  setiap bulannya. Karena itu saya perlu menggabungkan ketiga `dataframe` diatas.\n",
        "\n",
        "Agar dapat melakukan itu saya memerlukan satu kolom yang dapat menghubungkan ketiga `dataframe` tersebut dan mengelompokan penggunaan `messages`, `calls`, dan `internet` dari setiap konsumen dalam setiap bulannya. Sehingga saya akan membuat kolom baru `user_id-month` untuk keperluan tersebut."
      ]
    },
    {
      "cell_type": "markdown",
      "metadata": {
        "id": "maIEwAsC0OAE"
      },
      "source": [
        "#### Menggabungkan antara `internet` dengan `calls`"
      ]
    },
    {
      "cell_type": "code",
      "execution_count": null,
      "metadata": {
        "colab": {
          "base_uri": "https://localhost:8080/"
        },
        "id": "34LarxOy0OAE",
        "outputId": "c3345acf-70c4-48d2-ad08-34b9e61ceaeb"
      },
      "outputs": [
        {
          "output_type": "stream",
          "name": "stdout",
          "text": [
            "<class 'pandas.core.frame.DataFrame'>\n",
            "RangeIndex: 2258 entries, 0 to 2257\n",
            "Data columns (total 3 columns):\n",
            " #   Column    Non-Null Count  Dtype    \n",
            "---  ------    --------------  -----    \n",
            " 0   user_id   2258 non-null   int64    \n",
            " 1   month     2258 non-null   period[M]\n",
            " 2   duration  2258 non-null   int64    \n",
            "dtypes: int64(2), period[M](1)\n",
            "memory usage: 53.0 KB\n"
          ]
        }
      ],
      "source": [
        "calls_by_month.info()"
      ]
    },
    {
      "cell_type": "markdown",
      "metadata": {
        "id": "lqCegu4x0OAE"
      },
      "source": [
        "Ada `2,258` data dari dataframe `calls_by_month`"
      ]
    },
    {
      "cell_type": "code",
      "execution_count": null,
      "metadata": {
        "colab": {
          "base_uri": "https://localhost:8080/"
        },
        "id": "BilGdk_a0OAF",
        "outputId": "e0052e0d-e666-4a19-c9a2-246caa0e30c4"
      },
      "outputs": [
        {
          "output_type": "stream",
          "name": "stdout",
          "text": [
            "<class 'pandas.core.frame.DataFrame'>\n",
            "RangeIndex: 2277 entries, 0 to 2276\n",
            "Data columns (total 3 columns):\n",
            " #   Column   Non-Null Count  Dtype    \n",
            "---  ------   --------------  -----    \n",
            " 0   user_id  2277 non-null   int64    \n",
            " 1   month    2277 non-null   period[M]\n",
            " 2   gb_used  2277 non-null   int64    \n",
            "dtypes: int64(2), period[M](1)\n",
            "memory usage: 53.5 KB\n"
          ]
        }
      ],
      "source": [
        "internet_by_month.info()"
      ]
    },
    {
      "cell_type": "markdown",
      "metadata": {
        "id": "rKCe7PQ-0OAF"
      },
      "source": [
        "Ada `2,277` data kolom dari dataframe `internet_by_month`"
      ]
    },
    {
      "cell_type": "code",
      "execution_count": null,
      "metadata": {
        "colab": {
          "base_uri": "https://localhost:8080/",
          "height": 206
        },
        "id": "Ml-bkU0J0OAF",
        "outputId": "1557b800-1ba6-41fd-87df-bcbb37dab56e"
      },
      "outputs": [
        {
          "output_type": "execute_result",
          "data": {
            "text/plain": [
              "   user_id    month  duration  gb_used\n",
              "0     1000  2018-12     124.0      2.0\n",
              "1     1001  2018-08     182.0      7.0\n",
              "2     1001  2018-09     315.0     14.0\n",
              "3     1001  2018-10     393.0     22.0\n",
              "4     1001  2018-11     426.0     19.0"
            ],
            "text/html": [
              "\n",
              "  <div id=\"df-46772a7a-e6b8-4dff-b3e5-6100500522f4\">\n",
              "    <div class=\"colab-df-container\">\n",
              "      <div>\n",
              "<style scoped>\n",
              "    .dataframe tbody tr th:only-of-type {\n",
              "        vertical-align: middle;\n",
              "    }\n",
              "\n",
              "    .dataframe tbody tr th {\n",
              "        vertical-align: top;\n",
              "    }\n",
              "\n",
              "    .dataframe thead th {\n",
              "        text-align: right;\n",
              "    }\n",
              "</style>\n",
              "<table border=\"1\" class=\"dataframe\">\n",
              "  <thead>\n",
              "    <tr style=\"text-align: right;\">\n",
              "      <th></th>\n",
              "      <th>user_id</th>\n",
              "      <th>month</th>\n",
              "      <th>duration</th>\n",
              "      <th>gb_used</th>\n",
              "    </tr>\n",
              "  </thead>\n",
              "  <tbody>\n",
              "    <tr>\n",
              "      <th>0</th>\n",
              "      <td>1000</td>\n",
              "      <td>2018-12</td>\n",
              "      <td>124.0</td>\n",
              "      <td>2.0</td>\n",
              "    </tr>\n",
              "    <tr>\n",
              "      <th>1</th>\n",
              "      <td>1001</td>\n",
              "      <td>2018-08</td>\n",
              "      <td>182.0</td>\n",
              "      <td>7.0</td>\n",
              "    </tr>\n",
              "    <tr>\n",
              "      <th>2</th>\n",
              "      <td>1001</td>\n",
              "      <td>2018-09</td>\n",
              "      <td>315.0</td>\n",
              "      <td>14.0</td>\n",
              "    </tr>\n",
              "    <tr>\n",
              "      <th>3</th>\n",
              "      <td>1001</td>\n",
              "      <td>2018-10</td>\n",
              "      <td>393.0</td>\n",
              "      <td>22.0</td>\n",
              "    </tr>\n",
              "    <tr>\n",
              "      <th>4</th>\n",
              "      <td>1001</td>\n",
              "      <td>2018-11</td>\n",
              "      <td>426.0</td>\n",
              "      <td>19.0</td>\n",
              "    </tr>\n",
              "  </tbody>\n",
              "</table>\n",
              "</div>\n",
              "      <button class=\"colab-df-convert\" onclick=\"convertToInteractive('df-46772a7a-e6b8-4dff-b3e5-6100500522f4')\"\n",
              "              title=\"Convert this dataframe to an interactive table.\"\n",
              "              style=\"display:none;\">\n",
              "        \n",
              "  <svg xmlns=\"http://www.w3.org/2000/svg\" height=\"24px\"viewBox=\"0 0 24 24\"\n",
              "       width=\"24px\">\n",
              "    <path d=\"M0 0h24v24H0V0z\" fill=\"none\"/>\n",
              "    <path d=\"M18.56 5.44l.94 2.06.94-2.06 2.06-.94-2.06-.94-.94-2.06-.94 2.06-2.06.94zm-11 1L8.5 8.5l.94-2.06 2.06-.94-2.06-.94L8.5 2.5l-.94 2.06-2.06.94zm10 10l.94 2.06.94-2.06 2.06-.94-2.06-.94-.94-2.06-.94 2.06-2.06.94z\"/><path d=\"M17.41 7.96l-1.37-1.37c-.4-.4-.92-.59-1.43-.59-.52 0-1.04.2-1.43.59L10.3 9.45l-7.72 7.72c-.78.78-.78 2.05 0 2.83L4 21.41c.39.39.9.59 1.41.59.51 0 1.02-.2 1.41-.59l7.78-7.78 2.81-2.81c.8-.78.8-2.07 0-2.86zM5.41 20L4 18.59l7.72-7.72 1.47 1.35L5.41 20z\"/>\n",
              "  </svg>\n",
              "      </button>\n",
              "      \n",
              "  <style>\n",
              "    .colab-df-container {\n",
              "      display:flex;\n",
              "      flex-wrap:wrap;\n",
              "      gap: 12px;\n",
              "    }\n",
              "\n",
              "    .colab-df-convert {\n",
              "      background-color: #E8F0FE;\n",
              "      border: none;\n",
              "      border-radius: 50%;\n",
              "      cursor: pointer;\n",
              "      display: none;\n",
              "      fill: #1967D2;\n",
              "      height: 32px;\n",
              "      padding: 0 0 0 0;\n",
              "      width: 32px;\n",
              "    }\n",
              "\n",
              "    .colab-df-convert:hover {\n",
              "      background-color: #E2EBFA;\n",
              "      box-shadow: 0px 1px 2px rgba(60, 64, 67, 0.3), 0px 1px 3px 1px rgba(60, 64, 67, 0.15);\n",
              "      fill: #174EA6;\n",
              "    }\n",
              "\n",
              "    [theme=dark] .colab-df-convert {\n",
              "      background-color: #3B4455;\n",
              "      fill: #D2E3FC;\n",
              "    }\n",
              "\n",
              "    [theme=dark] .colab-df-convert:hover {\n",
              "      background-color: #434B5C;\n",
              "      box-shadow: 0px 1px 3px 1px rgba(0, 0, 0, 0.15);\n",
              "      filter: drop-shadow(0px 1px 2px rgba(0, 0, 0, 0.3));\n",
              "      fill: #FFFFFF;\n",
              "    }\n",
              "  </style>\n",
              "\n",
              "      <script>\n",
              "        const buttonEl =\n",
              "          document.querySelector('#df-46772a7a-e6b8-4dff-b3e5-6100500522f4 button.colab-df-convert');\n",
              "        buttonEl.style.display =\n",
              "          google.colab.kernel.accessAllowed ? 'block' : 'none';\n",
              "\n",
              "        async function convertToInteractive(key) {\n",
              "          const element = document.querySelector('#df-46772a7a-e6b8-4dff-b3e5-6100500522f4');\n",
              "          const dataTable =\n",
              "            await google.colab.kernel.invokeFunction('convertToInteractive',\n",
              "                                                     [key], {});\n",
              "          if (!dataTable) return;\n",
              "\n",
              "          const docLinkHtml = 'Like what you see? Visit the ' +\n",
              "            '<a target=\"_blank\" href=https://colab.research.google.com/notebooks/data_table.ipynb>data table notebook</a>'\n",
              "            + ' to learn more about interactive tables.';\n",
              "          element.innerHTML = '';\n",
              "          dataTable['output_type'] = 'display_data';\n",
              "          await google.colab.output.renderOutput(dataTable, element);\n",
              "          const docLink = document.createElement('div');\n",
              "          docLink.innerHTML = docLinkHtml;\n",
              "          element.appendChild(docLink);\n",
              "        }\n",
              "      </script>\n",
              "    </div>\n",
              "  </div>\n",
              "  "
            ]
          },
          "metadata": {},
          "execution_count": 29
        }
      ],
      "source": [
        "new_df = calls_by_month.merge(internet_by_month, how='outer', on=['user_id', 'month'])\n",
        "new_df.head()"
      ]
    },
    {
      "cell_type": "code",
      "execution_count": null,
      "metadata": {
        "colab": {
          "base_uri": "https://localhost:8080/"
        },
        "id": "uzFOHD5_0OAF",
        "outputId": "d8ab9c4d-7fa5-45dc-9da7-2766fdfa984c"
      },
      "outputs": [
        {
          "output_type": "stream",
          "name": "stdout",
          "text": [
            "<class 'pandas.core.frame.DataFrame'>\n",
            "Int64Index: 2292 entries, 0 to 2291\n",
            "Data columns (total 4 columns):\n",
            " #   Column    Non-Null Count  Dtype    \n",
            "---  ------    --------------  -----    \n",
            " 0   user_id   2292 non-null   int64    \n",
            " 1   month     2292 non-null   period[M]\n",
            " 2   duration  2258 non-null   float64  \n",
            " 3   gb_used   2277 non-null   float64  \n",
            "dtypes: float64(2), int64(1), period[M](1)\n",
            "memory usage: 89.5 KB\n"
          ]
        }
      ],
      "source": [
        "new_df.info()"
      ]
    },
    {
      "cell_type": "markdown",
      "metadata": {
        "id": "tbpXqT1j0OAF"
      },
      "source": [
        "Datasetnya sudah berhasil digabungkan namun perlu disesuaikan tipe datanya dan dirapikan terlebih dahulu. Selain itu dari method `info()` menunjukan ada data yg hilang pada kolom `duration` dan `gb_used`. Artinya pada bulan tertentu ada konsumen yang sama sekali tidak menggunakan layanan panggilan suara atau internet."
      ]
    },
    {
      "cell_type": "code",
      "execution_count": null,
      "metadata": {
        "colab": {
          "base_uri": "https://localhost:8080/"
        },
        "id": "PIYTu_wg0OAG",
        "outputId": "956a6470-dde2-47de-d724-d7768eef4d99"
      },
      "outputs": [
        {
          "output_type": "stream",
          "name": "stdout",
          "text": [
            "<class 'pandas.core.frame.DataFrame'>\n",
            "Int64Index: 2292 entries, 0 to 2291\n",
            "Data columns (total 4 columns):\n",
            " #   Column    Non-Null Count  Dtype    \n",
            "---  ------    --------------  -----    \n",
            " 0   user_id   2292 non-null   int64    \n",
            " 1   month     2292 non-null   period[M]\n",
            " 2   duration  2292 non-null   int64    \n",
            " 3   gb_used   2292 non-null   int64    \n",
            "dtypes: int64(3), period[M](1)\n",
            "memory usage: 89.5 KB\n"
          ]
        }
      ],
      "source": [
        "new_df.loc[new_df['duration'].isna(), 'duration'] = 0\n",
        "new_df.loc[new_df['gb_used'].isna(), 'gb_used'] = 0\n",
        "new_df['duration'] = new_df['duration'].astype(int)\n",
        "new_df['gb_used'] = new_df['gb_used'].astype(int)\n",
        "new_df.info()"
      ]
    },
    {
      "cell_type": "markdown",
      "metadata": {
        "id": "HrzS-wsB0OAG"
      },
      "source": [
        "Data yang hilang telah terisi. sehingga dataframe sudah bisa digabungkan dengan `messages_by_month`."
      ]
    },
    {
      "cell_type": "markdown",
      "metadata": {
        "id": "_La9TtaR0OAH"
      },
      "source": [
        "#### Menggabungkan `internet` dan `calls` dengan `messages`"
      ]
    },
    {
      "cell_type": "code",
      "execution_count": null,
      "metadata": {
        "colab": {
          "base_uri": "https://localhost:8080/"
        },
        "id": "K2OPzgrg0OAH",
        "outputId": "58ddd1d2-f12c-4d2f-e397-2b2d7fb25fbf"
      },
      "outputs": [
        {
          "output_type": "stream",
          "name": "stdout",
          "text": [
            "<class 'pandas.core.frame.DataFrame'>\n",
            "RangeIndex: 1806 entries, 0 to 1805\n",
            "Data columns (total 3 columns):\n",
            " #   Column          Non-Null Count  Dtype    \n",
            "---  ------          --------------  -----    \n",
            " 0   user_id         1806 non-null   int64    \n",
            " 1   month           1806 non-null   period[M]\n",
            " 2   messages_count  1806 non-null   int64    \n",
            "dtypes: int64(2), period[M](1)\n",
            "memory usage: 42.5 KB\n"
          ]
        }
      ],
      "source": [
        "messages_by_month.info()"
      ]
    },
    {
      "cell_type": "markdown",
      "metadata": {
        "id": "tVxNZFfZ0OAH"
      },
      "source": [
        "Ada `1,806` data kolom dari dataframe `messages_by_month`."
      ]
    },
    {
      "cell_type": "code",
      "execution_count": null,
      "metadata": {
        "colab": {
          "base_uri": "https://localhost:8080/",
          "height": 206
        },
        "id": "M5ft8qTZ0OAH",
        "outputId": "c9baf394-65a0-4b54-e06b-8e37f5c227d9"
      },
      "outputs": [
        {
          "output_type": "execute_result",
          "data": {
            "text/plain": [
              "   user_id    month  duration  gb_used  messages_count\n",
              "0     1000  2018-12     124.0      2.0            11.0\n",
              "1     1001  2018-08     182.0      7.0            30.0\n",
              "2     1001  2018-09     315.0     14.0            44.0\n",
              "3     1001  2018-10     393.0     22.0            53.0\n",
              "4     1001  2018-11     426.0     19.0            36.0"
            ],
            "text/html": [
              "\n",
              "  <div id=\"df-50951107-814f-412f-a4a4-9de7f89b9262\">\n",
              "    <div class=\"colab-df-container\">\n",
              "      <div>\n",
              "<style scoped>\n",
              "    .dataframe tbody tr th:only-of-type {\n",
              "        vertical-align: middle;\n",
              "    }\n",
              "\n",
              "    .dataframe tbody tr th {\n",
              "        vertical-align: top;\n",
              "    }\n",
              "\n",
              "    .dataframe thead th {\n",
              "        text-align: right;\n",
              "    }\n",
              "</style>\n",
              "<table border=\"1\" class=\"dataframe\">\n",
              "  <thead>\n",
              "    <tr style=\"text-align: right;\">\n",
              "      <th></th>\n",
              "      <th>user_id</th>\n",
              "      <th>month</th>\n",
              "      <th>duration</th>\n",
              "      <th>gb_used</th>\n",
              "      <th>messages_count</th>\n",
              "    </tr>\n",
              "  </thead>\n",
              "  <tbody>\n",
              "    <tr>\n",
              "      <th>0</th>\n",
              "      <td>1000</td>\n",
              "      <td>2018-12</td>\n",
              "      <td>124.0</td>\n",
              "      <td>2.0</td>\n",
              "      <td>11.0</td>\n",
              "    </tr>\n",
              "    <tr>\n",
              "      <th>1</th>\n",
              "      <td>1001</td>\n",
              "      <td>2018-08</td>\n",
              "      <td>182.0</td>\n",
              "      <td>7.0</td>\n",
              "      <td>30.0</td>\n",
              "    </tr>\n",
              "    <tr>\n",
              "      <th>2</th>\n",
              "      <td>1001</td>\n",
              "      <td>2018-09</td>\n",
              "      <td>315.0</td>\n",
              "      <td>14.0</td>\n",
              "      <td>44.0</td>\n",
              "    </tr>\n",
              "    <tr>\n",
              "      <th>3</th>\n",
              "      <td>1001</td>\n",
              "      <td>2018-10</td>\n",
              "      <td>393.0</td>\n",
              "      <td>22.0</td>\n",
              "      <td>53.0</td>\n",
              "    </tr>\n",
              "    <tr>\n",
              "      <th>4</th>\n",
              "      <td>1001</td>\n",
              "      <td>2018-11</td>\n",
              "      <td>426.0</td>\n",
              "      <td>19.0</td>\n",
              "      <td>36.0</td>\n",
              "    </tr>\n",
              "  </tbody>\n",
              "</table>\n",
              "</div>\n",
              "      <button class=\"colab-df-convert\" onclick=\"convertToInteractive('df-50951107-814f-412f-a4a4-9de7f89b9262')\"\n",
              "              title=\"Convert this dataframe to an interactive table.\"\n",
              "              style=\"display:none;\">\n",
              "        \n",
              "  <svg xmlns=\"http://www.w3.org/2000/svg\" height=\"24px\"viewBox=\"0 0 24 24\"\n",
              "       width=\"24px\">\n",
              "    <path d=\"M0 0h24v24H0V0z\" fill=\"none\"/>\n",
              "    <path d=\"M18.56 5.44l.94 2.06.94-2.06 2.06-.94-2.06-.94-.94-2.06-.94 2.06-2.06.94zm-11 1L8.5 8.5l.94-2.06 2.06-.94-2.06-.94L8.5 2.5l-.94 2.06-2.06.94zm10 10l.94 2.06.94-2.06 2.06-.94-2.06-.94-.94-2.06-.94 2.06-2.06.94z\"/><path d=\"M17.41 7.96l-1.37-1.37c-.4-.4-.92-.59-1.43-.59-.52 0-1.04.2-1.43.59L10.3 9.45l-7.72 7.72c-.78.78-.78 2.05 0 2.83L4 21.41c.39.39.9.59 1.41.59.51 0 1.02-.2 1.41-.59l7.78-7.78 2.81-2.81c.8-.78.8-2.07 0-2.86zM5.41 20L4 18.59l7.72-7.72 1.47 1.35L5.41 20z\"/>\n",
              "  </svg>\n",
              "      </button>\n",
              "      \n",
              "  <style>\n",
              "    .colab-df-container {\n",
              "      display:flex;\n",
              "      flex-wrap:wrap;\n",
              "      gap: 12px;\n",
              "    }\n",
              "\n",
              "    .colab-df-convert {\n",
              "      background-color: #E8F0FE;\n",
              "      border: none;\n",
              "      border-radius: 50%;\n",
              "      cursor: pointer;\n",
              "      display: none;\n",
              "      fill: #1967D2;\n",
              "      height: 32px;\n",
              "      padding: 0 0 0 0;\n",
              "      width: 32px;\n",
              "    }\n",
              "\n",
              "    .colab-df-convert:hover {\n",
              "      background-color: #E2EBFA;\n",
              "      box-shadow: 0px 1px 2px rgba(60, 64, 67, 0.3), 0px 1px 3px 1px rgba(60, 64, 67, 0.15);\n",
              "      fill: #174EA6;\n",
              "    }\n",
              "\n",
              "    [theme=dark] .colab-df-convert {\n",
              "      background-color: #3B4455;\n",
              "      fill: #D2E3FC;\n",
              "    }\n",
              "\n",
              "    [theme=dark] .colab-df-convert:hover {\n",
              "      background-color: #434B5C;\n",
              "      box-shadow: 0px 1px 3px 1px rgba(0, 0, 0, 0.15);\n",
              "      filter: drop-shadow(0px 1px 2px rgba(0, 0, 0, 0.3));\n",
              "      fill: #FFFFFF;\n",
              "    }\n",
              "  </style>\n",
              "\n",
              "      <script>\n",
              "        const buttonEl =\n",
              "          document.querySelector('#df-50951107-814f-412f-a4a4-9de7f89b9262 button.colab-df-convert');\n",
              "        buttonEl.style.display =\n",
              "          google.colab.kernel.accessAllowed ? 'block' : 'none';\n",
              "\n",
              "        async function convertToInteractive(key) {\n",
              "          const element = document.querySelector('#df-50951107-814f-412f-a4a4-9de7f89b9262');\n",
              "          const dataTable =\n",
              "            await google.colab.kernel.invokeFunction('convertToInteractive',\n",
              "                                                     [key], {});\n",
              "          if (!dataTable) return;\n",
              "\n",
              "          const docLinkHtml = 'Like what you see? Visit the ' +\n",
              "            '<a target=\"_blank\" href=https://colab.research.google.com/notebooks/data_table.ipynb>data table notebook</a>'\n",
              "            + ' to learn more about interactive tables.';\n",
              "          element.innerHTML = '';\n",
              "          dataTable['output_type'] = 'display_data';\n",
              "          await google.colab.output.renderOutput(dataTable, element);\n",
              "          const docLink = document.createElement('div');\n",
              "          docLink.innerHTML = docLinkHtml;\n",
              "          element.appendChild(docLink);\n",
              "        }\n",
              "      </script>\n",
              "    </div>\n",
              "  </div>\n",
              "  "
            ]
          },
          "metadata": {},
          "execution_count": 33
        }
      ],
      "source": [
        "new_df = new_df.merge(messages_by_month, how='outer', on=['user_id', 'month'])\n",
        "new_df.head()"
      ]
    },
    {
      "cell_type": "code",
      "execution_count": null,
      "metadata": {
        "colab": {
          "base_uri": "https://localhost:8080/"
        },
        "id": "K94MNHtD0OAI",
        "outputId": "a87db309-e3c7-4693-9c60-3a001913a460"
      },
      "outputs": [
        {
          "output_type": "stream",
          "name": "stdout",
          "text": [
            "<class 'pandas.core.frame.DataFrame'>\n",
            "Int64Index: 2293 entries, 0 to 2292\n",
            "Data columns (total 5 columns):\n",
            " #   Column          Non-Null Count  Dtype    \n",
            "---  ------          --------------  -----    \n",
            " 0   user_id         2293 non-null   int64    \n",
            " 1   month           2293 non-null   period[M]\n",
            " 2   duration        2292 non-null   float64  \n",
            " 3   gb_used         2292 non-null   float64  \n",
            " 4   messages_count  1806 non-null   float64  \n",
            "dtypes: float64(3), int64(1), period[M](1)\n",
            "memory usage: 107.5 KB\n"
          ]
        }
      ],
      "source": [
        "new_df.info()"
      ]
    },
    {
      "cell_type": "markdown",
      "metadata": {
        "id": "EUjgbCYW0OAI"
      },
      "source": [
        "`messages` telah digabungkan kedalam `dataframe`. Setelah dilihat dari method `info()` ada satu konsumen yang yang hanya menggunakan layanan `messages`, tapi tidak menggunakan `internet` dan `calls`. Selain itu selanjutnya akan saya lakukan adalah menyesuaikan tipe data yang berubah setelah penggabungan.  "
      ]
    },
    {
      "cell_type": "code",
      "execution_count": null,
      "metadata": {
        "id": "GDk8EC-e0OAI"
      },
      "outputs": [],
      "source": [
        "new_df.loc[new_df['duration'].isna(), 'duration'] = 0\n",
        "new_df.loc[new_df['gb_used'].isna(), 'gb_used'] = 0\n",
        "new_df.loc[new_df['messages_count'].isna(), 'messages_count'] = 0"
      ]
    },
    {
      "cell_type": "code",
      "execution_count": null,
      "metadata": {
        "id": "ui30_sp90OAI"
      },
      "outputs": [],
      "source": [
        "new_df['duration'] =  new_df['duration'].astype(int)\n",
        "new_df['gb_used'] = new_df['gb_used'].astype(int)\n",
        "new_df['messages_count'] = new_df['messages_count'].astype(int)"
      ]
    },
    {
      "cell_type": "code",
      "execution_count": null,
      "metadata": {
        "scrolled": true,
        "colab": {
          "base_uri": "https://localhost:8080/"
        },
        "id": "Y0gFkYkZ0OAJ",
        "outputId": "20bb9bd3-708b-4ef5-869e-84f5cae5490c"
      },
      "outputs": [
        {
          "output_type": "stream",
          "name": "stdout",
          "text": [
            "<class 'pandas.core.frame.DataFrame'>\n",
            "Int64Index: 2293 entries, 0 to 2292\n",
            "Data columns (total 5 columns):\n",
            " #   Column          Non-Null Count  Dtype    \n",
            "---  ------          --------------  -----    \n",
            " 0   user_id         2293 non-null   int64    \n",
            " 1   month           2293 non-null   period[M]\n",
            " 2   duration        2293 non-null   int64    \n",
            " 3   gb_used         2293 non-null   int64    \n",
            " 4   messages_count  2293 non-null   int64    \n",
            "dtypes: int64(4), period[M](1)\n",
            "memory usage: 107.5 KB\n"
          ]
        }
      ],
      "source": [
        "new_df.info()"
      ]
    },
    {
      "cell_type": "code",
      "execution_count": null,
      "metadata": {
        "colab": {
          "base_uri": "https://localhost:8080/",
          "height": 206
        },
        "id": "uyr-tCgd0OAJ",
        "outputId": "cbdc71b5-3048-4fc9-ae0b-482b6c62ea20"
      },
      "outputs": [
        {
          "output_type": "execute_result",
          "data": {
            "text/plain": [
              "   user_id    month  duration  gb_used  messages_count\n",
              "0     1000  2018-12       124        2              11\n",
              "1     1001  2018-08       182        7              30\n",
              "2     1001  2018-09       315       14              44\n",
              "3     1001  2018-10       393       22              53\n",
              "4     1001  2018-11       426       19              36"
            ],
            "text/html": [
              "\n",
              "  <div id=\"df-9811c847-a8eb-4c4f-a47b-9168bac7df71\">\n",
              "    <div class=\"colab-df-container\">\n",
              "      <div>\n",
              "<style scoped>\n",
              "    .dataframe tbody tr th:only-of-type {\n",
              "        vertical-align: middle;\n",
              "    }\n",
              "\n",
              "    .dataframe tbody tr th {\n",
              "        vertical-align: top;\n",
              "    }\n",
              "\n",
              "    .dataframe thead th {\n",
              "        text-align: right;\n",
              "    }\n",
              "</style>\n",
              "<table border=\"1\" class=\"dataframe\">\n",
              "  <thead>\n",
              "    <tr style=\"text-align: right;\">\n",
              "      <th></th>\n",
              "      <th>user_id</th>\n",
              "      <th>month</th>\n",
              "      <th>duration</th>\n",
              "      <th>gb_used</th>\n",
              "      <th>messages_count</th>\n",
              "    </tr>\n",
              "  </thead>\n",
              "  <tbody>\n",
              "    <tr>\n",
              "      <th>0</th>\n",
              "      <td>1000</td>\n",
              "      <td>2018-12</td>\n",
              "      <td>124</td>\n",
              "      <td>2</td>\n",
              "      <td>11</td>\n",
              "    </tr>\n",
              "    <tr>\n",
              "      <th>1</th>\n",
              "      <td>1001</td>\n",
              "      <td>2018-08</td>\n",
              "      <td>182</td>\n",
              "      <td>7</td>\n",
              "      <td>30</td>\n",
              "    </tr>\n",
              "    <tr>\n",
              "      <th>2</th>\n",
              "      <td>1001</td>\n",
              "      <td>2018-09</td>\n",
              "      <td>315</td>\n",
              "      <td>14</td>\n",
              "      <td>44</td>\n",
              "    </tr>\n",
              "    <tr>\n",
              "      <th>3</th>\n",
              "      <td>1001</td>\n",
              "      <td>2018-10</td>\n",
              "      <td>393</td>\n",
              "      <td>22</td>\n",
              "      <td>53</td>\n",
              "    </tr>\n",
              "    <tr>\n",
              "      <th>4</th>\n",
              "      <td>1001</td>\n",
              "      <td>2018-11</td>\n",
              "      <td>426</td>\n",
              "      <td>19</td>\n",
              "      <td>36</td>\n",
              "    </tr>\n",
              "  </tbody>\n",
              "</table>\n",
              "</div>\n",
              "      <button class=\"colab-df-convert\" onclick=\"convertToInteractive('df-9811c847-a8eb-4c4f-a47b-9168bac7df71')\"\n",
              "              title=\"Convert this dataframe to an interactive table.\"\n",
              "              style=\"display:none;\">\n",
              "        \n",
              "  <svg xmlns=\"http://www.w3.org/2000/svg\" height=\"24px\"viewBox=\"0 0 24 24\"\n",
              "       width=\"24px\">\n",
              "    <path d=\"M0 0h24v24H0V0z\" fill=\"none\"/>\n",
              "    <path d=\"M18.56 5.44l.94 2.06.94-2.06 2.06-.94-2.06-.94-.94-2.06-.94 2.06-2.06.94zm-11 1L8.5 8.5l.94-2.06 2.06-.94-2.06-.94L8.5 2.5l-.94 2.06-2.06.94zm10 10l.94 2.06.94-2.06 2.06-.94-2.06-.94-.94-2.06-.94 2.06-2.06.94z\"/><path d=\"M17.41 7.96l-1.37-1.37c-.4-.4-.92-.59-1.43-.59-.52 0-1.04.2-1.43.59L10.3 9.45l-7.72 7.72c-.78.78-.78 2.05 0 2.83L4 21.41c.39.39.9.59 1.41.59.51 0 1.02-.2 1.41-.59l7.78-7.78 2.81-2.81c.8-.78.8-2.07 0-2.86zM5.41 20L4 18.59l7.72-7.72 1.47 1.35L5.41 20z\"/>\n",
              "  </svg>\n",
              "      </button>\n",
              "      \n",
              "  <style>\n",
              "    .colab-df-container {\n",
              "      display:flex;\n",
              "      flex-wrap:wrap;\n",
              "      gap: 12px;\n",
              "    }\n",
              "\n",
              "    .colab-df-convert {\n",
              "      background-color: #E8F0FE;\n",
              "      border: none;\n",
              "      border-radius: 50%;\n",
              "      cursor: pointer;\n",
              "      display: none;\n",
              "      fill: #1967D2;\n",
              "      height: 32px;\n",
              "      padding: 0 0 0 0;\n",
              "      width: 32px;\n",
              "    }\n",
              "\n",
              "    .colab-df-convert:hover {\n",
              "      background-color: #E2EBFA;\n",
              "      box-shadow: 0px 1px 2px rgba(60, 64, 67, 0.3), 0px 1px 3px 1px rgba(60, 64, 67, 0.15);\n",
              "      fill: #174EA6;\n",
              "    }\n",
              "\n",
              "    [theme=dark] .colab-df-convert {\n",
              "      background-color: #3B4455;\n",
              "      fill: #D2E3FC;\n",
              "    }\n",
              "\n",
              "    [theme=dark] .colab-df-convert:hover {\n",
              "      background-color: #434B5C;\n",
              "      box-shadow: 0px 1px 3px 1px rgba(0, 0, 0, 0.15);\n",
              "      filter: drop-shadow(0px 1px 2px rgba(0, 0, 0, 0.3));\n",
              "      fill: #FFFFFF;\n",
              "    }\n",
              "  </style>\n",
              "\n",
              "      <script>\n",
              "        const buttonEl =\n",
              "          document.querySelector('#df-9811c847-a8eb-4c4f-a47b-9168bac7df71 button.colab-df-convert');\n",
              "        buttonEl.style.display =\n",
              "          google.colab.kernel.accessAllowed ? 'block' : 'none';\n",
              "\n",
              "        async function convertToInteractive(key) {\n",
              "          const element = document.querySelector('#df-9811c847-a8eb-4c4f-a47b-9168bac7df71');\n",
              "          const dataTable =\n",
              "            await google.colab.kernel.invokeFunction('convertToInteractive',\n",
              "                                                     [key], {});\n",
              "          if (!dataTable) return;\n",
              "\n",
              "          const docLinkHtml = 'Like what you see? Visit the ' +\n",
              "            '<a target=\"_blank\" href=https://colab.research.google.com/notebooks/data_table.ipynb>data table notebook</a>'\n",
              "            + ' to learn more about interactive tables.';\n",
              "          element.innerHTML = '';\n",
              "          dataTable['output_type'] = 'display_data';\n",
              "          await google.colab.output.renderOutput(dataTable, element);\n",
              "          const docLink = document.createElement('div');\n",
              "          docLink.innerHTML = docLinkHtml;\n",
              "          element.appendChild(docLink);\n",
              "        }\n",
              "      </script>\n",
              "    </div>\n",
              "  </div>\n",
              "  "
            ]
          },
          "metadata": {},
          "execution_count": 38
        }
      ],
      "source": [
        "new_df.head()"
      ]
    },
    {
      "cell_type": "markdown",
      "metadata": {
        "id": "A1MboC-e0OAK"
      },
      "source": [
        "Ketiga `dataframe` tentang penggunaan layanan (`messages`, `calls`, dan `internet`) dari per konsumen dan per bulan telah berhasil digabungkan kedalam satu `dataframe`. Langkah selanjutnya adalah menggabungkan `dataframe` gabungan dengan `dataframe` data konsumen. Langkah ini perlu dilakukan agar data pendapatan `Megaline` dari seluruh layanan yang digunakan oleh konsumen."
      ]
    },
    {
      "cell_type": "markdown",
      "metadata": {
        "id": "hosL9yWz0OAL"
      },
      "source": [
        "#### Menggabungkan `internet`,  `calls`, dan `messages` dengan Data Konsumen (`users`)"
      ]
    },
    {
      "cell_type": "code",
      "execution_count": null,
      "metadata": {
        "id": "6JhNDLeI0OAL"
      },
      "outputs": [],
      "source": [
        "new_df = new_df.merge(users, how='outer', on='user_id')"
      ]
    },
    {
      "cell_type": "code",
      "execution_count": null,
      "metadata": {
        "colab": {
          "base_uri": "https://localhost:8080/",
          "height": 206
        },
        "id": "kRe6ppX90OAM",
        "outputId": "def0e4f5-7f9f-4208-eb4a-cfa1643a606b"
      },
      "outputs": [
        {
          "output_type": "execute_result",
          "data": {
            "text/plain": [
              "   user_id    month  duration  gb_used  messages_count first_name  last_name  \\\n",
              "0     1000  2018-12     124.0      2.0            11.0   Anamaria      Bauer   \n",
              "1     1001  2018-08     182.0      7.0            30.0     Mickey  Wilkerson   \n",
              "2     1001  2018-09     315.0     14.0            44.0     Mickey  Wilkerson   \n",
              "3     1001  2018-10     393.0     22.0            53.0     Mickey  Wilkerson   \n",
              "4     1001  2018-11     426.0     19.0            36.0     Mickey  Wilkerson   \n",
              "\n",
              "   age                                   city    reg_date      plan churn_date  \n",
              "0   45  Atlanta-Sandy Springs-Roswell, GA MSA  2018-12-24  ultimate        NaN  \n",
              "1   28        Seattle-Tacoma-Bellevue, WA MSA  2018-08-13      surf        NaN  \n",
              "2   28        Seattle-Tacoma-Bellevue, WA MSA  2018-08-13      surf        NaN  \n",
              "3   28        Seattle-Tacoma-Bellevue, WA MSA  2018-08-13      surf        NaN  \n",
              "4   28        Seattle-Tacoma-Bellevue, WA MSA  2018-08-13      surf        NaN  "
            ],
            "text/html": [
              "\n",
              "  <div id=\"df-31533d7e-c219-4af0-ba4b-62c7294be4af\">\n",
              "    <div class=\"colab-df-container\">\n",
              "      <div>\n",
              "<style scoped>\n",
              "    .dataframe tbody tr th:only-of-type {\n",
              "        vertical-align: middle;\n",
              "    }\n",
              "\n",
              "    .dataframe tbody tr th {\n",
              "        vertical-align: top;\n",
              "    }\n",
              "\n",
              "    .dataframe thead th {\n",
              "        text-align: right;\n",
              "    }\n",
              "</style>\n",
              "<table border=\"1\" class=\"dataframe\">\n",
              "  <thead>\n",
              "    <tr style=\"text-align: right;\">\n",
              "      <th></th>\n",
              "      <th>user_id</th>\n",
              "      <th>month</th>\n",
              "      <th>duration</th>\n",
              "      <th>gb_used</th>\n",
              "      <th>messages_count</th>\n",
              "      <th>first_name</th>\n",
              "      <th>last_name</th>\n",
              "      <th>age</th>\n",
              "      <th>city</th>\n",
              "      <th>reg_date</th>\n",
              "      <th>plan</th>\n",
              "      <th>churn_date</th>\n",
              "    </tr>\n",
              "  </thead>\n",
              "  <tbody>\n",
              "    <tr>\n",
              "      <th>0</th>\n",
              "      <td>1000</td>\n",
              "      <td>2018-12</td>\n",
              "      <td>124.0</td>\n",
              "      <td>2.0</td>\n",
              "      <td>11.0</td>\n",
              "      <td>Anamaria</td>\n",
              "      <td>Bauer</td>\n",
              "      <td>45</td>\n",
              "      <td>Atlanta-Sandy Springs-Roswell, GA MSA</td>\n",
              "      <td>2018-12-24</td>\n",
              "      <td>ultimate</td>\n",
              "      <td>NaN</td>\n",
              "    </tr>\n",
              "    <tr>\n",
              "      <th>1</th>\n",
              "      <td>1001</td>\n",
              "      <td>2018-08</td>\n",
              "      <td>182.0</td>\n",
              "      <td>7.0</td>\n",
              "      <td>30.0</td>\n",
              "      <td>Mickey</td>\n",
              "      <td>Wilkerson</td>\n",
              "      <td>28</td>\n",
              "      <td>Seattle-Tacoma-Bellevue, WA MSA</td>\n",
              "      <td>2018-08-13</td>\n",
              "      <td>surf</td>\n",
              "      <td>NaN</td>\n",
              "    </tr>\n",
              "    <tr>\n",
              "      <th>2</th>\n",
              "      <td>1001</td>\n",
              "      <td>2018-09</td>\n",
              "      <td>315.0</td>\n",
              "      <td>14.0</td>\n",
              "      <td>44.0</td>\n",
              "      <td>Mickey</td>\n",
              "      <td>Wilkerson</td>\n",
              "      <td>28</td>\n",
              "      <td>Seattle-Tacoma-Bellevue, WA MSA</td>\n",
              "      <td>2018-08-13</td>\n",
              "      <td>surf</td>\n",
              "      <td>NaN</td>\n",
              "    </tr>\n",
              "    <tr>\n",
              "      <th>3</th>\n",
              "      <td>1001</td>\n",
              "      <td>2018-10</td>\n",
              "      <td>393.0</td>\n",
              "      <td>22.0</td>\n",
              "      <td>53.0</td>\n",
              "      <td>Mickey</td>\n",
              "      <td>Wilkerson</td>\n",
              "      <td>28</td>\n",
              "      <td>Seattle-Tacoma-Bellevue, WA MSA</td>\n",
              "      <td>2018-08-13</td>\n",
              "      <td>surf</td>\n",
              "      <td>NaN</td>\n",
              "    </tr>\n",
              "    <tr>\n",
              "      <th>4</th>\n",
              "      <td>1001</td>\n",
              "      <td>2018-11</td>\n",
              "      <td>426.0</td>\n",
              "      <td>19.0</td>\n",
              "      <td>36.0</td>\n",
              "      <td>Mickey</td>\n",
              "      <td>Wilkerson</td>\n",
              "      <td>28</td>\n",
              "      <td>Seattle-Tacoma-Bellevue, WA MSA</td>\n",
              "      <td>2018-08-13</td>\n",
              "      <td>surf</td>\n",
              "      <td>NaN</td>\n",
              "    </tr>\n",
              "  </tbody>\n",
              "</table>\n",
              "</div>\n",
              "      <button class=\"colab-df-convert\" onclick=\"convertToInteractive('df-31533d7e-c219-4af0-ba4b-62c7294be4af')\"\n",
              "              title=\"Convert this dataframe to an interactive table.\"\n",
              "              style=\"display:none;\">\n",
              "        \n",
              "  <svg xmlns=\"http://www.w3.org/2000/svg\" height=\"24px\"viewBox=\"0 0 24 24\"\n",
              "       width=\"24px\">\n",
              "    <path d=\"M0 0h24v24H0V0z\" fill=\"none\"/>\n",
              "    <path d=\"M18.56 5.44l.94 2.06.94-2.06 2.06-.94-2.06-.94-.94-2.06-.94 2.06-2.06.94zm-11 1L8.5 8.5l.94-2.06 2.06-.94-2.06-.94L8.5 2.5l-.94 2.06-2.06.94zm10 10l.94 2.06.94-2.06 2.06-.94-2.06-.94-.94-2.06-.94 2.06-2.06.94z\"/><path d=\"M17.41 7.96l-1.37-1.37c-.4-.4-.92-.59-1.43-.59-.52 0-1.04.2-1.43.59L10.3 9.45l-7.72 7.72c-.78.78-.78 2.05 0 2.83L4 21.41c.39.39.9.59 1.41.59.51 0 1.02-.2 1.41-.59l7.78-7.78 2.81-2.81c.8-.78.8-2.07 0-2.86zM5.41 20L4 18.59l7.72-7.72 1.47 1.35L5.41 20z\"/>\n",
              "  </svg>\n",
              "      </button>\n",
              "      \n",
              "  <style>\n",
              "    .colab-df-container {\n",
              "      display:flex;\n",
              "      flex-wrap:wrap;\n",
              "      gap: 12px;\n",
              "    }\n",
              "\n",
              "    .colab-df-convert {\n",
              "      background-color: #E8F0FE;\n",
              "      border: none;\n",
              "      border-radius: 50%;\n",
              "      cursor: pointer;\n",
              "      display: none;\n",
              "      fill: #1967D2;\n",
              "      height: 32px;\n",
              "      padding: 0 0 0 0;\n",
              "      width: 32px;\n",
              "    }\n",
              "\n",
              "    .colab-df-convert:hover {\n",
              "      background-color: #E2EBFA;\n",
              "      box-shadow: 0px 1px 2px rgba(60, 64, 67, 0.3), 0px 1px 3px 1px rgba(60, 64, 67, 0.15);\n",
              "      fill: #174EA6;\n",
              "    }\n",
              "\n",
              "    [theme=dark] .colab-df-convert {\n",
              "      background-color: #3B4455;\n",
              "      fill: #D2E3FC;\n",
              "    }\n",
              "\n",
              "    [theme=dark] .colab-df-convert:hover {\n",
              "      background-color: #434B5C;\n",
              "      box-shadow: 0px 1px 3px 1px rgba(0, 0, 0, 0.15);\n",
              "      filter: drop-shadow(0px 1px 2px rgba(0, 0, 0, 0.3));\n",
              "      fill: #FFFFFF;\n",
              "    }\n",
              "  </style>\n",
              "\n",
              "      <script>\n",
              "        const buttonEl =\n",
              "          document.querySelector('#df-31533d7e-c219-4af0-ba4b-62c7294be4af button.colab-df-convert');\n",
              "        buttonEl.style.display =\n",
              "          google.colab.kernel.accessAllowed ? 'block' : 'none';\n",
              "\n",
              "        async function convertToInteractive(key) {\n",
              "          const element = document.querySelector('#df-31533d7e-c219-4af0-ba4b-62c7294be4af');\n",
              "          const dataTable =\n",
              "            await google.colab.kernel.invokeFunction('convertToInteractive',\n",
              "                                                     [key], {});\n",
              "          if (!dataTable) return;\n",
              "\n",
              "          const docLinkHtml = 'Like what you see? Visit the ' +\n",
              "            '<a target=\"_blank\" href=https://colab.research.google.com/notebooks/data_table.ipynb>data table notebook</a>'\n",
              "            + ' to learn more about interactive tables.';\n",
              "          element.innerHTML = '';\n",
              "          dataTable['output_type'] = 'display_data';\n",
              "          await google.colab.output.renderOutput(dataTable, element);\n",
              "          const docLink = document.createElement('div');\n",
              "          docLink.innerHTML = docLinkHtml;\n",
              "          element.appendChild(docLink);\n",
              "        }\n",
              "      </script>\n",
              "    </div>\n",
              "  </div>\n",
              "  "
            ]
          },
          "metadata": {},
          "execution_count": 40
        }
      ],
      "source": [
        "new_df.head()"
      ]
    },
    {
      "cell_type": "code",
      "execution_count": null,
      "metadata": {
        "scrolled": true,
        "colab": {
          "base_uri": "https://localhost:8080/"
        },
        "id": "Kg1T_N_E0OAM",
        "outputId": "a66f5cbd-634a-4623-f90b-a4d3e4c58bb4"
      },
      "outputs": [
        {
          "output_type": "stream",
          "name": "stdout",
          "text": [
            "<class 'pandas.core.frame.DataFrame'>\n",
            "Int64Index: 2303 entries, 0 to 2302\n",
            "Data columns (total 12 columns):\n",
            " #   Column          Non-Null Count  Dtype    \n",
            "---  ------          --------------  -----    \n",
            " 0   user_id         2303 non-null   int64    \n",
            " 1   month           2293 non-null   period[M]\n",
            " 2   duration        2293 non-null   float64  \n",
            " 3   gb_used         2293 non-null   float64  \n",
            " 4   messages_count  2293 non-null   float64  \n",
            " 5   first_name      2303 non-null   object   \n",
            " 6   last_name       2303 non-null   object   \n",
            " 7   age             2303 non-null   int64    \n",
            " 8   city            2303 non-null   object   \n",
            " 9   reg_date        2303 non-null   object   \n",
            " 10  plan            2303 non-null   object   \n",
            " 11  churn_date      160 non-null    object   \n",
            "dtypes: float64(3), int64(2), object(6), period[M](1)\n",
            "memory usage: 233.9+ KB\n"
          ]
        }
      ],
      "source": [
        "new_df.info()"
      ]
    },
    {
      "cell_type": "code",
      "execution_count": null,
      "metadata": {
        "colab": {
          "base_uri": "https://localhost:8080/",
          "height": 363
        },
        "id": "H1BX_czv0OAM",
        "outputId": "c4a95699-cc63-48da-c0dc-da7c7eab1fa7"
      },
      "outputs": [
        {
          "output_type": "execute_result",
          "data": {
            "text/plain": [
              "      user_id month  duration  gb_used  messages_count  first_name  last_name  \\\n",
              "2293     1025   NaT       NaN      NaN             NaN        Jess  Wilkinson   \n",
              "2294     1129   NaT       NaN      NaN             NaN       Marin     Bolton   \n",
              "2295     1143   NaT       NaN      NaN             NaN      Lorina    Stevens   \n",
              "2296     1269   NaT       NaN      NaN             NaN      Irving   Thompson   \n",
              "2297     1275   NaT       NaN      NaN             NaN       Elvie  Velazquez   \n",
              "2298     1307   NaT       NaN      NaN             NaN  Kristopher       Lang   \n",
              "2299     1319   NaT       NaN      NaN             NaN      Eliseo     Carson   \n",
              "2300     1378   NaT       NaN      NaN             NaN    Mckinley    Clayton   \n",
              "2301     1463   NaT       NaN      NaN             NaN     Dinorah    Simmons   \n",
              "2302     1473   NaT       NaN      NaN             NaN        Kirk      Velez   \n",
              "\n",
              "      age                                       city    reg_date      plan  \\\n",
              "2293   64      Atlanta-Sandy Springs-Roswell, GA MSA  2018-10-28  ultimate   \n",
              "2294   70                        Baton Rouge, LA MSA  2018-11-10      surf   \n",
              "2295   69                   Cincinnati, OH-KY-IN MSA  2018-10-26      surf   \n",
              "2296   39        Dallas-Fort Worth-Arlington, TX MSA  2018-09-13  ultimate   \n",
              "2297   33  New York-Newark-Jersey City, NY-NJ-PA MSA  2018-11-29  ultimate   \n",
              "2298   28         Boston-Cambridge-Newton, MA-NH MSA  2018-12-31      surf   \n",
              "2299   21                   Colorado Springs, CO MSA  2018-06-17      surf   \n",
              "2300   22             Denver-Aurora-Lakewood, CO MSA  2018-12-17      surf   \n",
              "2301   30      Atlanta-Sandy Springs-Roswell, GA MSA  2018-11-27  ultimate   \n",
              "2302   61     Louisville/Jefferson County, KY-IN MSA  2018-12-31      surf   \n",
              "\n",
              "      churn_date  \n",
              "2293         NaN  \n",
              "2294  2018-12-27  \n",
              "2295         NaN  \n",
              "2296  2018-12-15  \n",
              "2297         NaN  \n",
              "2298         NaN  \n",
              "2299         NaN  \n",
              "2300         NaN  \n",
              "2301         NaN  \n",
              "2302         NaN  "
            ],
            "text/html": [
              "\n",
              "  <div id=\"df-f23d9f1f-98d7-4083-bef0-f98210cda02d\">\n",
              "    <div class=\"colab-df-container\">\n",
              "      <div>\n",
              "<style scoped>\n",
              "    .dataframe tbody tr th:only-of-type {\n",
              "        vertical-align: middle;\n",
              "    }\n",
              "\n",
              "    .dataframe tbody tr th {\n",
              "        vertical-align: top;\n",
              "    }\n",
              "\n",
              "    .dataframe thead th {\n",
              "        text-align: right;\n",
              "    }\n",
              "</style>\n",
              "<table border=\"1\" class=\"dataframe\">\n",
              "  <thead>\n",
              "    <tr style=\"text-align: right;\">\n",
              "      <th></th>\n",
              "      <th>user_id</th>\n",
              "      <th>month</th>\n",
              "      <th>duration</th>\n",
              "      <th>gb_used</th>\n",
              "      <th>messages_count</th>\n",
              "      <th>first_name</th>\n",
              "      <th>last_name</th>\n",
              "      <th>age</th>\n",
              "      <th>city</th>\n",
              "      <th>reg_date</th>\n",
              "      <th>plan</th>\n",
              "      <th>churn_date</th>\n",
              "    </tr>\n",
              "  </thead>\n",
              "  <tbody>\n",
              "    <tr>\n",
              "      <th>2293</th>\n",
              "      <td>1025</td>\n",
              "      <td>NaT</td>\n",
              "      <td>NaN</td>\n",
              "      <td>NaN</td>\n",
              "      <td>NaN</td>\n",
              "      <td>Jess</td>\n",
              "      <td>Wilkinson</td>\n",
              "      <td>64</td>\n",
              "      <td>Atlanta-Sandy Springs-Roswell, GA MSA</td>\n",
              "      <td>2018-10-28</td>\n",
              "      <td>ultimate</td>\n",
              "      <td>NaN</td>\n",
              "    </tr>\n",
              "    <tr>\n",
              "      <th>2294</th>\n",
              "      <td>1129</td>\n",
              "      <td>NaT</td>\n",
              "      <td>NaN</td>\n",
              "      <td>NaN</td>\n",
              "      <td>NaN</td>\n",
              "      <td>Marin</td>\n",
              "      <td>Bolton</td>\n",
              "      <td>70</td>\n",
              "      <td>Baton Rouge, LA MSA</td>\n",
              "      <td>2018-11-10</td>\n",
              "      <td>surf</td>\n",
              "      <td>2018-12-27</td>\n",
              "    </tr>\n",
              "    <tr>\n",
              "      <th>2295</th>\n",
              "      <td>1143</td>\n",
              "      <td>NaT</td>\n",
              "      <td>NaN</td>\n",
              "      <td>NaN</td>\n",
              "      <td>NaN</td>\n",
              "      <td>Lorina</td>\n",
              "      <td>Stevens</td>\n",
              "      <td>69</td>\n",
              "      <td>Cincinnati, OH-KY-IN MSA</td>\n",
              "      <td>2018-10-26</td>\n",
              "      <td>surf</td>\n",
              "      <td>NaN</td>\n",
              "    </tr>\n",
              "    <tr>\n",
              "      <th>2296</th>\n",
              "      <td>1269</td>\n",
              "      <td>NaT</td>\n",
              "      <td>NaN</td>\n",
              "      <td>NaN</td>\n",
              "      <td>NaN</td>\n",
              "      <td>Irving</td>\n",
              "      <td>Thompson</td>\n",
              "      <td>39</td>\n",
              "      <td>Dallas-Fort Worth-Arlington, TX MSA</td>\n",
              "      <td>2018-09-13</td>\n",
              "      <td>ultimate</td>\n",
              "      <td>2018-12-15</td>\n",
              "    </tr>\n",
              "    <tr>\n",
              "      <th>2297</th>\n",
              "      <td>1275</td>\n",
              "      <td>NaT</td>\n",
              "      <td>NaN</td>\n",
              "      <td>NaN</td>\n",
              "      <td>NaN</td>\n",
              "      <td>Elvie</td>\n",
              "      <td>Velazquez</td>\n",
              "      <td>33</td>\n",
              "      <td>New York-Newark-Jersey City, NY-NJ-PA MSA</td>\n",
              "      <td>2018-11-29</td>\n",
              "      <td>ultimate</td>\n",
              "      <td>NaN</td>\n",
              "    </tr>\n",
              "    <tr>\n",
              "      <th>2298</th>\n",
              "      <td>1307</td>\n",
              "      <td>NaT</td>\n",
              "      <td>NaN</td>\n",
              "      <td>NaN</td>\n",
              "      <td>NaN</td>\n",
              "      <td>Kristopher</td>\n",
              "      <td>Lang</td>\n",
              "      <td>28</td>\n",
              "      <td>Boston-Cambridge-Newton, MA-NH MSA</td>\n",
              "      <td>2018-12-31</td>\n",
              "      <td>surf</td>\n",
              "      <td>NaN</td>\n",
              "    </tr>\n",
              "    <tr>\n",
              "      <th>2299</th>\n",
              "      <td>1319</td>\n",
              "      <td>NaT</td>\n",
              "      <td>NaN</td>\n",
              "      <td>NaN</td>\n",
              "      <td>NaN</td>\n",
              "      <td>Eliseo</td>\n",
              "      <td>Carson</td>\n",
              "      <td>21</td>\n",
              "      <td>Colorado Springs, CO MSA</td>\n",
              "      <td>2018-06-17</td>\n",
              "      <td>surf</td>\n",
              "      <td>NaN</td>\n",
              "    </tr>\n",
              "    <tr>\n",
              "      <th>2300</th>\n",
              "      <td>1378</td>\n",
              "      <td>NaT</td>\n",
              "      <td>NaN</td>\n",
              "      <td>NaN</td>\n",
              "      <td>NaN</td>\n",
              "      <td>Mckinley</td>\n",
              "      <td>Clayton</td>\n",
              "      <td>22</td>\n",
              "      <td>Denver-Aurora-Lakewood, CO MSA</td>\n",
              "      <td>2018-12-17</td>\n",
              "      <td>surf</td>\n",
              "      <td>NaN</td>\n",
              "    </tr>\n",
              "    <tr>\n",
              "      <th>2301</th>\n",
              "      <td>1463</td>\n",
              "      <td>NaT</td>\n",
              "      <td>NaN</td>\n",
              "      <td>NaN</td>\n",
              "      <td>NaN</td>\n",
              "      <td>Dinorah</td>\n",
              "      <td>Simmons</td>\n",
              "      <td>30</td>\n",
              "      <td>Atlanta-Sandy Springs-Roswell, GA MSA</td>\n",
              "      <td>2018-11-27</td>\n",
              "      <td>ultimate</td>\n",
              "      <td>NaN</td>\n",
              "    </tr>\n",
              "    <tr>\n",
              "      <th>2302</th>\n",
              "      <td>1473</td>\n",
              "      <td>NaT</td>\n",
              "      <td>NaN</td>\n",
              "      <td>NaN</td>\n",
              "      <td>NaN</td>\n",
              "      <td>Kirk</td>\n",
              "      <td>Velez</td>\n",
              "      <td>61</td>\n",
              "      <td>Louisville/Jefferson County, KY-IN MSA</td>\n",
              "      <td>2018-12-31</td>\n",
              "      <td>surf</td>\n",
              "      <td>NaN</td>\n",
              "    </tr>\n",
              "  </tbody>\n",
              "</table>\n",
              "</div>\n",
              "      <button class=\"colab-df-convert\" onclick=\"convertToInteractive('df-f23d9f1f-98d7-4083-bef0-f98210cda02d')\"\n",
              "              title=\"Convert this dataframe to an interactive table.\"\n",
              "              style=\"display:none;\">\n",
              "        \n",
              "  <svg xmlns=\"http://www.w3.org/2000/svg\" height=\"24px\"viewBox=\"0 0 24 24\"\n",
              "       width=\"24px\">\n",
              "    <path d=\"M0 0h24v24H0V0z\" fill=\"none\"/>\n",
              "    <path d=\"M18.56 5.44l.94 2.06.94-2.06 2.06-.94-2.06-.94-.94-2.06-.94 2.06-2.06.94zm-11 1L8.5 8.5l.94-2.06 2.06-.94-2.06-.94L8.5 2.5l-.94 2.06-2.06.94zm10 10l.94 2.06.94-2.06 2.06-.94-2.06-.94-.94-2.06-.94 2.06-2.06.94z\"/><path d=\"M17.41 7.96l-1.37-1.37c-.4-.4-.92-.59-1.43-.59-.52 0-1.04.2-1.43.59L10.3 9.45l-7.72 7.72c-.78.78-.78 2.05 0 2.83L4 21.41c.39.39.9.59 1.41.59.51 0 1.02-.2 1.41-.59l7.78-7.78 2.81-2.81c.8-.78.8-2.07 0-2.86zM5.41 20L4 18.59l7.72-7.72 1.47 1.35L5.41 20z\"/>\n",
              "  </svg>\n",
              "      </button>\n",
              "      \n",
              "  <style>\n",
              "    .colab-df-container {\n",
              "      display:flex;\n",
              "      flex-wrap:wrap;\n",
              "      gap: 12px;\n",
              "    }\n",
              "\n",
              "    .colab-df-convert {\n",
              "      background-color: #E8F0FE;\n",
              "      border: none;\n",
              "      border-radius: 50%;\n",
              "      cursor: pointer;\n",
              "      display: none;\n",
              "      fill: #1967D2;\n",
              "      height: 32px;\n",
              "      padding: 0 0 0 0;\n",
              "      width: 32px;\n",
              "    }\n",
              "\n",
              "    .colab-df-convert:hover {\n",
              "      background-color: #E2EBFA;\n",
              "      box-shadow: 0px 1px 2px rgba(60, 64, 67, 0.3), 0px 1px 3px 1px rgba(60, 64, 67, 0.15);\n",
              "      fill: #174EA6;\n",
              "    }\n",
              "\n",
              "    [theme=dark] .colab-df-convert {\n",
              "      background-color: #3B4455;\n",
              "      fill: #D2E3FC;\n",
              "    }\n",
              "\n",
              "    [theme=dark] .colab-df-convert:hover {\n",
              "      background-color: #434B5C;\n",
              "      box-shadow: 0px 1px 3px 1px rgba(0, 0, 0, 0.15);\n",
              "      filter: drop-shadow(0px 1px 2px rgba(0, 0, 0, 0.3));\n",
              "      fill: #FFFFFF;\n",
              "    }\n",
              "  </style>\n",
              "\n",
              "      <script>\n",
              "        const buttonEl =\n",
              "          document.querySelector('#df-f23d9f1f-98d7-4083-bef0-f98210cda02d button.colab-df-convert');\n",
              "        buttonEl.style.display =\n",
              "          google.colab.kernel.accessAllowed ? 'block' : 'none';\n",
              "\n",
              "        async function convertToInteractive(key) {\n",
              "          const element = document.querySelector('#df-f23d9f1f-98d7-4083-bef0-f98210cda02d');\n",
              "          const dataTable =\n",
              "            await google.colab.kernel.invokeFunction('convertToInteractive',\n",
              "                                                     [key], {});\n",
              "          if (!dataTable) return;\n",
              "\n",
              "          const docLinkHtml = 'Like what you see? Visit the ' +\n",
              "            '<a target=\"_blank\" href=https://colab.research.google.com/notebooks/data_table.ipynb>data table notebook</a>'\n",
              "            + ' to learn more about interactive tables.';\n",
              "          element.innerHTML = '';\n",
              "          dataTable['output_type'] = 'display_data';\n",
              "          await google.colab.output.renderOutput(dataTable, element);\n",
              "          const docLink = document.createElement('div');\n",
              "          docLink.innerHTML = docLinkHtml;\n",
              "          element.appendChild(docLink);\n",
              "        }\n",
              "      </script>\n",
              "    </div>\n",
              "  </div>\n",
              "  "
            ]
          },
          "metadata": {},
          "execution_count": 42
        }
      ],
      "source": [
        "new_df.loc[new_df['month'].isna()]"
      ]
    },
    {
      "cell_type": "code",
      "execution_count": null,
      "metadata": {
        "colab": {
          "base_uri": "https://localhost:8080/"
        },
        "id": "hdRht2X50OAN",
        "outputId": "67e002cd-6911-4c2a-8aa8-c210bd7fcfe7"
      },
      "outputs": [
        {
          "output_type": "execute_result",
          "data": {
            "text/plain": [
              "10"
            ]
          },
          "metadata": {},
          "execution_count": 43
        }
      ],
      "source": [
        "len(new_df.loc[new_df['month'].isna(), 'user_id'].unique())"
      ]
    },
    {
      "cell_type": "markdown",
      "metadata": {
        "id": "OYtJUG3C0OAN"
      },
      "source": [
        "Setela digabungkan, baru terlihat ternyata ada 10 konsumen yang terdaftar pada paket bulanan, tetapi tidak pernah menggunakan layanan sama sekali. Karena jumlah datanya tidak banyak. Maka akan saya kesampingkan terlebih dahulu."
      ]
    },
    {
      "cell_type": "code",
      "execution_count": null,
      "metadata": {
        "scrolled": true,
        "colab": {
          "base_uri": "https://localhost:8080/"
        },
        "id": "rd3h3tEl0OAO",
        "outputId": "7daeeda3-827c-428c-ef49-4014e7411a0c"
      },
      "outputs": [
        {
          "output_type": "stream",
          "name": "stdout",
          "text": [
            "<class 'pandas.core.frame.DataFrame'>\n",
            "Int64Index: 2293 entries, 0 to 2292\n",
            "Data columns (total 12 columns):\n",
            " #   Column          Non-Null Count  Dtype    \n",
            "---  ------          --------------  -----    \n",
            " 0   user_id         2293 non-null   int64    \n",
            " 1   month           2293 non-null   period[M]\n",
            " 2   duration        2293 non-null   float64  \n",
            " 3   gb_used         2293 non-null   float64  \n",
            " 4   messages_count  2293 non-null   float64  \n",
            " 5   first_name      2293 non-null   object   \n",
            " 6   last_name       2293 non-null   object   \n",
            " 7   age             2293 non-null   int64    \n",
            " 8   city            2293 non-null   object   \n",
            " 9   reg_date        2293 non-null   object   \n",
            " 10  plan            2293 non-null   object   \n",
            " 11  churn_date      158 non-null    object   \n",
            "dtypes: float64(3), int64(2), object(6), period[M](1)\n",
            "memory usage: 232.9+ KB\n"
          ]
        }
      ],
      "source": [
        "df_filtered = new_df.loc[new_df['month'].isna() == False].copy()\n",
        "df_filtered.info()"
      ]
    },
    {
      "cell_type": "code",
      "execution_count": null,
      "metadata": {
        "colab": {
          "base_uri": "https://localhost:8080/",
          "height": 206
        },
        "id": "hPPGCGRd0OAO",
        "outputId": "5d9e7a8a-a68e-4cc8-bf26-741822ec00cf"
      },
      "outputs": [
        {
          "output_type": "execute_result",
          "data": {
            "text/plain": [
              "   user_id    month  duration  gb_used  messages_count first_name  last_name  \\\n",
              "0     1000  2018-12       124        2              11   Anamaria      Bauer   \n",
              "1     1001  2018-08       182        7              30     Mickey  Wilkerson   \n",
              "2     1001  2018-09       315       14              44     Mickey  Wilkerson   \n",
              "3     1001  2018-10       393       22              53     Mickey  Wilkerson   \n",
              "4     1001  2018-11       426       19              36     Mickey  Wilkerson   \n",
              "\n",
              "   age                                   city   reg_date      plan churn_date  \n",
              "0   45  Atlanta-Sandy Springs-Roswell, GA MSA 2018-12-24  ultimate        NaN  \n",
              "1   28        Seattle-Tacoma-Bellevue, WA MSA 2018-08-13      surf        NaN  \n",
              "2   28        Seattle-Tacoma-Bellevue, WA MSA 2018-08-13      surf        NaN  \n",
              "3   28        Seattle-Tacoma-Bellevue, WA MSA 2018-08-13      surf        NaN  \n",
              "4   28        Seattle-Tacoma-Bellevue, WA MSA 2018-08-13      surf        NaN  "
            ],
            "text/html": [
              "\n",
              "  <div id=\"df-ca56c911-4b48-45fe-9298-21e0bae0d5ca\">\n",
              "    <div class=\"colab-df-container\">\n",
              "      <div>\n",
              "<style scoped>\n",
              "    .dataframe tbody tr th:only-of-type {\n",
              "        vertical-align: middle;\n",
              "    }\n",
              "\n",
              "    .dataframe tbody tr th {\n",
              "        vertical-align: top;\n",
              "    }\n",
              "\n",
              "    .dataframe thead th {\n",
              "        text-align: right;\n",
              "    }\n",
              "</style>\n",
              "<table border=\"1\" class=\"dataframe\">\n",
              "  <thead>\n",
              "    <tr style=\"text-align: right;\">\n",
              "      <th></th>\n",
              "      <th>user_id</th>\n",
              "      <th>month</th>\n",
              "      <th>duration</th>\n",
              "      <th>gb_used</th>\n",
              "      <th>messages_count</th>\n",
              "      <th>first_name</th>\n",
              "      <th>last_name</th>\n",
              "      <th>age</th>\n",
              "      <th>city</th>\n",
              "      <th>reg_date</th>\n",
              "      <th>plan</th>\n",
              "      <th>churn_date</th>\n",
              "    </tr>\n",
              "  </thead>\n",
              "  <tbody>\n",
              "    <tr>\n",
              "      <th>0</th>\n",
              "      <td>1000</td>\n",
              "      <td>2018-12</td>\n",
              "      <td>124</td>\n",
              "      <td>2</td>\n",
              "      <td>11</td>\n",
              "      <td>Anamaria</td>\n",
              "      <td>Bauer</td>\n",
              "      <td>45</td>\n",
              "      <td>Atlanta-Sandy Springs-Roswell, GA MSA</td>\n",
              "      <td>2018-12-24</td>\n",
              "      <td>ultimate</td>\n",
              "      <td>NaN</td>\n",
              "    </tr>\n",
              "    <tr>\n",
              "      <th>1</th>\n",
              "      <td>1001</td>\n",
              "      <td>2018-08</td>\n",
              "      <td>182</td>\n",
              "      <td>7</td>\n",
              "      <td>30</td>\n",
              "      <td>Mickey</td>\n",
              "      <td>Wilkerson</td>\n",
              "      <td>28</td>\n",
              "      <td>Seattle-Tacoma-Bellevue, WA MSA</td>\n",
              "      <td>2018-08-13</td>\n",
              "      <td>surf</td>\n",
              "      <td>NaN</td>\n",
              "    </tr>\n",
              "    <tr>\n",
              "      <th>2</th>\n",
              "      <td>1001</td>\n",
              "      <td>2018-09</td>\n",
              "      <td>315</td>\n",
              "      <td>14</td>\n",
              "      <td>44</td>\n",
              "      <td>Mickey</td>\n",
              "      <td>Wilkerson</td>\n",
              "      <td>28</td>\n",
              "      <td>Seattle-Tacoma-Bellevue, WA MSA</td>\n",
              "      <td>2018-08-13</td>\n",
              "      <td>surf</td>\n",
              "      <td>NaN</td>\n",
              "    </tr>\n",
              "    <tr>\n",
              "      <th>3</th>\n",
              "      <td>1001</td>\n",
              "      <td>2018-10</td>\n",
              "      <td>393</td>\n",
              "      <td>22</td>\n",
              "      <td>53</td>\n",
              "      <td>Mickey</td>\n",
              "      <td>Wilkerson</td>\n",
              "      <td>28</td>\n",
              "      <td>Seattle-Tacoma-Bellevue, WA MSA</td>\n",
              "      <td>2018-08-13</td>\n",
              "      <td>surf</td>\n",
              "      <td>NaN</td>\n",
              "    </tr>\n",
              "    <tr>\n",
              "      <th>4</th>\n",
              "      <td>1001</td>\n",
              "      <td>2018-11</td>\n",
              "      <td>426</td>\n",
              "      <td>19</td>\n",
              "      <td>36</td>\n",
              "      <td>Mickey</td>\n",
              "      <td>Wilkerson</td>\n",
              "      <td>28</td>\n",
              "      <td>Seattle-Tacoma-Bellevue, WA MSA</td>\n",
              "      <td>2018-08-13</td>\n",
              "      <td>surf</td>\n",
              "      <td>NaN</td>\n",
              "    </tr>\n",
              "  </tbody>\n",
              "</table>\n",
              "</div>\n",
              "      <button class=\"colab-df-convert\" onclick=\"convertToInteractive('df-ca56c911-4b48-45fe-9298-21e0bae0d5ca')\"\n",
              "              title=\"Convert this dataframe to an interactive table.\"\n",
              "              style=\"display:none;\">\n",
              "        \n",
              "  <svg xmlns=\"http://www.w3.org/2000/svg\" height=\"24px\"viewBox=\"0 0 24 24\"\n",
              "       width=\"24px\">\n",
              "    <path d=\"M0 0h24v24H0V0z\" fill=\"none\"/>\n",
              "    <path d=\"M18.56 5.44l.94 2.06.94-2.06 2.06-.94-2.06-.94-.94-2.06-.94 2.06-2.06.94zm-11 1L8.5 8.5l.94-2.06 2.06-.94-2.06-.94L8.5 2.5l-.94 2.06-2.06.94zm10 10l.94 2.06.94-2.06 2.06-.94-2.06-.94-.94-2.06-.94 2.06-2.06.94z\"/><path d=\"M17.41 7.96l-1.37-1.37c-.4-.4-.92-.59-1.43-.59-.52 0-1.04.2-1.43.59L10.3 9.45l-7.72 7.72c-.78.78-.78 2.05 0 2.83L4 21.41c.39.39.9.59 1.41.59.51 0 1.02-.2 1.41-.59l7.78-7.78 2.81-2.81c.8-.78.8-2.07 0-2.86zM5.41 20L4 18.59l7.72-7.72 1.47 1.35L5.41 20z\"/>\n",
              "  </svg>\n",
              "      </button>\n",
              "      \n",
              "  <style>\n",
              "    .colab-df-container {\n",
              "      display:flex;\n",
              "      flex-wrap:wrap;\n",
              "      gap: 12px;\n",
              "    }\n",
              "\n",
              "    .colab-df-convert {\n",
              "      background-color: #E8F0FE;\n",
              "      border: none;\n",
              "      border-radius: 50%;\n",
              "      cursor: pointer;\n",
              "      display: none;\n",
              "      fill: #1967D2;\n",
              "      height: 32px;\n",
              "      padding: 0 0 0 0;\n",
              "      width: 32px;\n",
              "    }\n",
              "\n",
              "    .colab-df-convert:hover {\n",
              "      background-color: #E2EBFA;\n",
              "      box-shadow: 0px 1px 2px rgba(60, 64, 67, 0.3), 0px 1px 3px 1px rgba(60, 64, 67, 0.15);\n",
              "      fill: #174EA6;\n",
              "    }\n",
              "\n",
              "    [theme=dark] .colab-df-convert {\n",
              "      background-color: #3B4455;\n",
              "      fill: #D2E3FC;\n",
              "    }\n",
              "\n",
              "    [theme=dark] .colab-df-convert:hover {\n",
              "      background-color: #434B5C;\n",
              "      box-shadow: 0px 1px 3px 1px rgba(0, 0, 0, 0.15);\n",
              "      filter: drop-shadow(0px 1px 2px rgba(0, 0, 0, 0.3));\n",
              "      fill: #FFFFFF;\n",
              "    }\n",
              "  </style>\n",
              "\n",
              "      <script>\n",
              "        const buttonEl =\n",
              "          document.querySelector('#df-ca56c911-4b48-45fe-9298-21e0bae0d5ca button.colab-df-convert');\n",
              "        buttonEl.style.display =\n",
              "          google.colab.kernel.accessAllowed ? 'block' : 'none';\n",
              "\n",
              "        async function convertToInteractive(key) {\n",
              "          const element = document.querySelector('#df-ca56c911-4b48-45fe-9298-21e0bae0d5ca');\n",
              "          const dataTable =\n",
              "            await google.colab.kernel.invokeFunction('convertToInteractive',\n",
              "                                                     [key], {});\n",
              "          if (!dataTable) return;\n",
              "\n",
              "          const docLinkHtml = 'Like what you see? Visit the ' +\n",
              "            '<a target=\"_blank\" href=https://colab.research.google.com/notebooks/data_table.ipynb>data table notebook</a>'\n",
              "            + ' to learn more about interactive tables.';\n",
              "          element.innerHTML = '';\n",
              "          dataTable['output_type'] = 'display_data';\n",
              "          await google.colab.output.renderOutput(dataTable, element);\n",
              "          const docLink = document.createElement('div');\n",
              "          docLink.innerHTML = docLinkHtml;\n",
              "          element.appendChild(docLink);\n",
              "        }\n",
              "      </script>\n",
              "    </div>\n",
              "  </div>\n",
              "  "
            ]
          },
          "metadata": {},
          "execution_count": 45
        }
      ],
      "source": [
        "df_filtered['duration'] = df_filtered['duration'].astype(int)\n",
        "df_filtered['gb_used'] = df_filtered['gb_used'].astype(int)\n",
        "df_filtered['messages_count'] = df_filtered['messages_count'].astype(int)\n",
        "df_filtered['reg_date'] = pd.to_datetime(df_filtered['reg_date'])\n",
        "df_filtered.head()"
      ]
    },
    {
      "cell_type": "code",
      "execution_count": null,
      "metadata": {
        "scrolled": true,
        "colab": {
          "base_uri": "https://localhost:8080/"
        },
        "id": "XDIOz-JP0OAP",
        "outputId": "ec8efc3a-e200-480c-81ee-20db9ef2d095"
      },
      "outputs": [
        {
          "output_type": "stream",
          "name": "stdout",
          "text": [
            "<class 'pandas.core.frame.DataFrame'>\n",
            "Int64Index: 2293 entries, 0 to 2292\n",
            "Data columns (total 12 columns):\n",
            " #   Column          Non-Null Count  Dtype         \n",
            "---  ------          --------------  -----         \n",
            " 0   user_id         2293 non-null   int64         \n",
            " 1   month           2293 non-null   period[M]     \n",
            " 2   duration        2293 non-null   int64         \n",
            " 3   gb_used         2293 non-null   int64         \n",
            " 4   messages_count  2293 non-null   int64         \n",
            " 5   first_name      2293 non-null   object        \n",
            " 6   last_name       2293 non-null   object        \n",
            " 7   age             2293 non-null   int64         \n",
            " 8   city            2293 non-null   object        \n",
            " 9   reg_date        2293 non-null   datetime64[ns]\n",
            " 10  plan            2293 non-null   object        \n",
            " 11  churn_date      158 non-null    object        \n",
            "dtypes: datetime64[ns](1), int64(5), object(5), period[M](1)\n",
            "memory usage: 232.9+ KB\n"
          ]
        }
      ],
      "source": [
        "df_filtered.info()"
      ]
    },
    {
      "cell_type": "markdown",
      "metadata": {
        "id": "rw_Bl3yj0OAP"
      },
      "source": [
        "Sekarang datanya sudah bersih. Sekarang saya akan memulai menghitung pendapatan dari setiap konsumen per bulan."
      ]
    },
    {
      "cell_type": "markdown",
      "metadata": {
        "id": "wJxeSrfu0OAQ"
      },
      "source": [
        "### Pendapatan Bulanan dari Setiap Konsumen"
      ]
    },
    {
      "cell_type": "markdown",
      "metadata": {
        "id": "HpnAWRoC0OAQ"
      },
      "source": [
        "Hal pertama yang saya lakukan adalah membuat fungsi dan menguji fungsi untuk menghitung pendapatan dari setiap konsumen per bulan"
      ]
    },
    {
      "cell_type": "code",
      "execution_count": null,
      "metadata": {
        "id": "jWsP6a_s0OAQ"
      },
      "outputs": [],
      "source": [
        "test_df = df_filtered.loc[9].copy()"
      ]
    },
    {
      "cell_type": "code",
      "execution_count": null,
      "metadata": {
        "colab": {
          "base_uri": "https://localhost:8080/"
        },
        "id": "LssFfuwi0OAR",
        "outputId": "8baa7e9a-0251-499b-e1fc-3bc9f02ad986"
      },
      "outputs": [
        {
          "output_type": "execute_result",
          "data": {
            "text/plain": [
              "user_id                               1003\n",
              "month                              2018-12\n",
              "duration                              1104\n",
              "gb_used                                 27\n",
              "messages_count                          50\n",
              "first_name                        Reynaldo\n",
              "last_name                          Jenkins\n",
              "age                                     52\n",
              "city                         Tulsa, OK MSA\n",
              "reg_date               2018-01-28 00:00:00\n",
              "plan                                  surf\n",
              "churn_date                             NaN\n",
              "monthly_fee                             20\n",
              "call_over_quota                      18.12\n",
              "data_over_quota                      120.0\n",
              "messages_over_quota                      0\n",
              "Name: 9, dtype: object"
            ]
          },
          "metadata": {},
          "execution_count": 48
        }
      ],
      "source": [
        "def monthly_fee (row) :\n",
        "    if row['plan'] == 'ultimate':\n",
        "        return plans['usd_monthly_pay'][1]\n",
        "    elif row['plan'] == 'surf':\n",
        "        return plans['usd_monthly_pay'][0]\n",
        "\n",
        "def calls_fee (row) :\n",
        "    if row['plan'] == 'ultimate':\n",
        "        over_quota = row['duration'] - plans['minutes_included'][1] \n",
        "        if over_quota > 0 :\n",
        "            return over_quota * plans['usd_per_minute'][1]\n",
        "        else :\n",
        "            return 0\n",
        "    elif row['plan'] == 'surf':\n",
        "        over_quota = row['duration'] - plans['minutes_included'][0] \n",
        "        if over_quota > 0 :\n",
        "            return over_quota * plans['usd_per_minute'][0]\n",
        "        else :\n",
        "            return 0\n",
        "\n",
        "def internet_fee(row) :\n",
        "    if row['plan'] == 'ultimate':\n",
        "        over_quota = row['gb_used'] - py.floor(plans['mb_per_month_included'][1]/1000)\n",
        "        if over_quota > 0:\n",
        "            return over_quota * plans['usd_per_gb'][1]\n",
        "        else:\n",
        "            return 0\n",
        "    elif row['plan'] == 'surf':\n",
        "        over_quota = row['gb_used'] - py.floor(plans['mb_per_month_included'][0]/1000)\n",
        "        if over_quota > 0:\n",
        "            return over_quota * plans['usd_per_gb'][0]\n",
        "        else:\n",
        "            return 0\n",
        "\n",
        "def messages_fee (row) :\n",
        "    if row['plan'] == 'ultimate':\n",
        "        over_quota = row['messages_count'] - plans['messages_included'][1]\n",
        "        if over_quota > 0:\n",
        "            return over_quota * plans['usd_per_message'][1]\n",
        "        else:\n",
        "            return 0 \n",
        "    elif row['plan'] == 'surf':\n",
        "        over_quota = row['messages_count'] - plans['messages_included'][0]\n",
        "        if over_quota > 0:\n",
        "            return over_quota * plans['usd_per_message'][0]\n",
        "        else:\n",
        "            return 0 \n",
        "        \n",
        "test_df['monthly_fee'] = monthly_fee(test_df)\n",
        "test_df['call_over_quota'] = calls_fee(test_df)\n",
        "test_df['data_over_quota'] = internet_fee(test_df)\n",
        "test_df['messages_over_quota'] = messages_fee(test_df)\n",
        "test_df"
      ]
    },
    {
      "cell_type": "markdown",
      "metadata": {
        "id": "4kvaQPT80OAR"
      },
      "source": [
        "Fungsi telah berjalan dengan baik. Karena itu saatnya menggunakannya untuk seluruh dataset."
      ]
    },
    {
      "cell_type": "code",
      "execution_count": null,
      "metadata": {
        "colab": {
          "base_uri": "https://localhost:8080/",
          "height": 548
        },
        "id": "O18-H8YK0OAR",
        "outputId": "34a98341-92fe-4a42-925e-07491d5f9e96"
      },
      "outputs": [
        {
          "output_type": "execute_result",
          "data": {
            "text/plain": [
              "   user_id    month  duration  gb_used  messages_count first_name  last_name  \\\n",
              "0     1000  2018-12       124        2              11   Anamaria      Bauer   \n",
              "1     1001  2018-08       182        7              30     Mickey  Wilkerson   \n",
              "2     1001  2018-09       315       14              44     Mickey  Wilkerson   \n",
              "3     1001  2018-10       393       22              53     Mickey  Wilkerson   \n",
              "4     1001  2018-11       426       19              36     Mickey  Wilkerson   \n",
              "\n",
              "   age                                   city   reg_date      plan churn_date  \\\n",
              "0   45  Atlanta-Sandy Springs-Roswell, GA MSA 2018-12-24  ultimate        NaN   \n",
              "1   28        Seattle-Tacoma-Bellevue, WA MSA 2018-08-13      surf        NaN   \n",
              "2   28        Seattle-Tacoma-Bellevue, WA MSA 2018-08-13      surf        NaN   \n",
              "3   28        Seattle-Tacoma-Bellevue, WA MSA 2018-08-13      surf        NaN   \n",
              "4   28        Seattle-Tacoma-Bellevue, WA MSA 2018-08-13      surf        NaN   \n",
              "\n",
              "   monthly_fee  call_over_quota  data_over_quota  messages_over_quota  \\\n",
              "0           70              0.0              0.0                 0.00   \n",
              "1           20              0.0              0.0                 0.00   \n",
              "2           20              0.0              0.0                 0.00   \n",
              "3           20              0.0             70.0                 0.09   \n",
              "4           20              0.0             40.0                 0.00   \n",
              "\n",
              "   revenue_per_user_per_month  \n",
              "0                       70.00  \n",
              "1                       20.00  \n",
              "2                       20.00  \n",
              "3                       90.09  \n",
              "4                       60.00  "
            ],
            "text/html": [
              "\n",
              "  <div id=\"df-f7119497-66a6-4f27-aaba-36a469214a5d\">\n",
              "    <div class=\"colab-df-container\">\n",
              "      <div>\n",
              "<style scoped>\n",
              "    .dataframe tbody tr th:only-of-type {\n",
              "        vertical-align: middle;\n",
              "    }\n",
              "\n",
              "    .dataframe tbody tr th {\n",
              "        vertical-align: top;\n",
              "    }\n",
              "\n",
              "    .dataframe thead th {\n",
              "        text-align: right;\n",
              "    }\n",
              "</style>\n",
              "<table border=\"1\" class=\"dataframe\">\n",
              "  <thead>\n",
              "    <tr style=\"text-align: right;\">\n",
              "      <th></th>\n",
              "      <th>user_id</th>\n",
              "      <th>month</th>\n",
              "      <th>duration</th>\n",
              "      <th>gb_used</th>\n",
              "      <th>messages_count</th>\n",
              "      <th>first_name</th>\n",
              "      <th>last_name</th>\n",
              "      <th>age</th>\n",
              "      <th>city</th>\n",
              "      <th>reg_date</th>\n",
              "      <th>plan</th>\n",
              "      <th>churn_date</th>\n",
              "      <th>monthly_fee</th>\n",
              "      <th>call_over_quota</th>\n",
              "      <th>data_over_quota</th>\n",
              "      <th>messages_over_quota</th>\n",
              "      <th>revenue_per_user_per_month</th>\n",
              "    </tr>\n",
              "  </thead>\n",
              "  <tbody>\n",
              "    <tr>\n",
              "      <th>0</th>\n",
              "      <td>1000</td>\n",
              "      <td>2018-12</td>\n",
              "      <td>124</td>\n",
              "      <td>2</td>\n",
              "      <td>11</td>\n",
              "      <td>Anamaria</td>\n",
              "      <td>Bauer</td>\n",
              "      <td>45</td>\n",
              "      <td>Atlanta-Sandy Springs-Roswell, GA MSA</td>\n",
              "      <td>2018-12-24</td>\n",
              "      <td>ultimate</td>\n",
              "      <td>NaN</td>\n",
              "      <td>70</td>\n",
              "      <td>0.0</td>\n",
              "      <td>0.0</td>\n",
              "      <td>0.00</td>\n",
              "      <td>70.00</td>\n",
              "    </tr>\n",
              "    <tr>\n",
              "      <th>1</th>\n",
              "      <td>1001</td>\n",
              "      <td>2018-08</td>\n",
              "      <td>182</td>\n",
              "      <td>7</td>\n",
              "      <td>30</td>\n",
              "      <td>Mickey</td>\n",
              "      <td>Wilkerson</td>\n",
              "      <td>28</td>\n",
              "      <td>Seattle-Tacoma-Bellevue, WA MSA</td>\n",
              "      <td>2018-08-13</td>\n",
              "      <td>surf</td>\n",
              "      <td>NaN</td>\n",
              "      <td>20</td>\n",
              "      <td>0.0</td>\n",
              "      <td>0.0</td>\n",
              "      <td>0.00</td>\n",
              "      <td>20.00</td>\n",
              "    </tr>\n",
              "    <tr>\n",
              "      <th>2</th>\n",
              "      <td>1001</td>\n",
              "      <td>2018-09</td>\n",
              "      <td>315</td>\n",
              "      <td>14</td>\n",
              "      <td>44</td>\n",
              "      <td>Mickey</td>\n",
              "      <td>Wilkerson</td>\n",
              "      <td>28</td>\n",
              "      <td>Seattle-Tacoma-Bellevue, WA MSA</td>\n",
              "      <td>2018-08-13</td>\n",
              "      <td>surf</td>\n",
              "      <td>NaN</td>\n",
              "      <td>20</td>\n",
              "      <td>0.0</td>\n",
              "      <td>0.0</td>\n",
              "      <td>0.00</td>\n",
              "      <td>20.00</td>\n",
              "    </tr>\n",
              "    <tr>\n",
              "      <th>3</th>\n",
              "      <td>1001</td>\n",
              "      <td>2018-10</td>\n",
              "      <td>393</td>\n",
              "      <td>22</td>\n",
              "      <td>53</td>\n",
              "      <td>Mickey</td>\n",
              "      <td>Wilkerson</td>\n",
              "      <td>28</td>\n",
              "      <td>Seattle-Tacoma-Bellevue, WA MSA</td>\n",
              "      <td>2018-08-13</td>\n",
              "      <td>surf</td>\n",
              "      <td>NaN</td>\n",
              "      <td>20</td>\n",
              "      <td>0.0</td>\n",
              "      <td>70.0</td>\n",
              "      <td>0.09</td>\n",
              "      <td>90.09</td>\n",
              "    </tr>\n",
              "    <tr>\n",
              "      <th>4</th>\n",
              "      <td>1001</td>\n",
              "      <td>2018-11</td>\n",
              "      <td>426</td>\n",
              "      <td>19</td>\n",
              "      <td>36</td>\n",
              "      <td>Mickey</td>\n",
              "      <td>Wilkerson</td>\n",
              "      <td>28</td>\n",
              "      <td>Seattle-Tacoma-Bellevue, WA MSA</td>\n",
              "      <td>2018-08-13</td>\n",
              "      <td>surf</td>\n",
              "      <td>NaN</td>\n",
              "      <td>20</td>\n",
              "      <td>0.0</td>\n",
              "      <td>40.0</td>\n",
              "      <td>0.00</td>\n",
              "      <td>60.00</td>\n",
              "    </tr>\n",
              "  </tbody>\n",
              "</table>\n",
              "</div>\n",
              "      <button class=\"colab-df-convert\" onclick=\"convertToInteractive('df-f7119497-66a6-4f27-aaba-36a469214a5d')\"\n",
              "              title=\"Convert this dataframe to an interactive table.\"\n",
              "              style=\"display:none;\">\n",
              "        \n",
              "  <svg xmlns=\"http://www.w3.org/2000/svg\" height=\"24px\"viewBox=\"0 0 24 24\"\n",
              "       width=\"24px\">\n",
              "    <path d=\"M0 0h24v24H0V0z\" fill=\"none\"/>\n",
              "    <path d=\"M18.56 5.44l.94 2.06.94-2.06 2.06-.94-2.06-.94-.94-2.06-.94 2.06-2.06.94zm-11 1L8.5 8.5l.94-2.06 2.06-.94-2.06-.94L8.5 2.5l-.94 2.06-2.06.94zm10 10l.94 2.06.94-2.06 2.06-.94-2.06-.94-.94-2.06-.94 2.06-2.06.94z\"/><path d=\"M17.41 7.96l-1.37-1.37c-.4-.4-.92-.59-1.43-.59-.52 0-1.04.2-1.43.59L10.3 9.45l-7.72 7.72c-.78.78-.78 2.05 0 2.83L4 21.41c.39.39.9.59 1.41.59.51 0 1.02-.2 1.41-.59l7.78-7.78 2.81-2.81c.8-.78.8-2.07 0-2.86zM5.41 20L4 18.59l7.72-7.72 1.47 1.35L5.41 20z\"/>\n",
              "  </svg>\n",
              "      </button>\n",
              "      \n",
              "  <style>\n",
              "    .colab-df-container {\n",
              "      display:flex;\n",
              "      flex-wrap:wrap;\n",
              "      gap: 12px;\n",
              "    }\n",
              "\n",
              "    .colab-df-convert {\n",
              "      background-color: #E8F0FE;\n",
              "      border: none;\n",
              "      border-radius: 50%;\n",
              "      cursor: pointer;\n",
              "      display: none;\n",
              "      fill: #1967D2;\n",
              "      height: 32px;\n",
              "      padding: 0 0 0 0;\n",
              "      width: 32px;\n",
              "    }\n",
              "\n",
              "    .colab-df-convert:hover {\n",
              "      background-color: #E2EBFA;\n",
              "      box-shadow: 0px 1px 2px rgba(60, 64, 67, 0.3), 0px 1px 3px 1px rgba(60, 64, 67, 0.15);\n",
              "      fill: #174EA6;\n",
              "    }\n",
              "\n",
              "    [theme=dark] .colab-df-convert {\n",
              "      background-color: #3B4455;\n",
              "      fill: #D2E3FC;\n",
              "    }\n",
              "\n",
              "    [theme=dark] .colab-df-convert:hover {\n",
              "      background-color: #434B5C;\n",
              "      box-shadow: 0px 1px 3px 1px rgba(0, 0, 0, 0.15);\n",
              "      filter: drop-shadow(0px 1px 2px rgba(0, 0, 0, 0.3));\n",
              "      fill: #FFFFFF;\n",
              "    }\n",
              "  </style>\n",
              "\n",
              "      <script>\n",
              "        const buttonEl =\n",
              "          document.querySelector('#df-f7119497-66a6-4f27-aaba-36a469214a5d button.colab-df-convert');\n",
              "        buttonEl.style.display =\n",
              "          google.colab.kernel.accessAllowed ? 'block' : 'none';\n",
              "\n",
              "        async function convertToInteractive(key) {\n",
              "          const element = document.querySelector('#df-f7119497-66a6-4f27-aaba-36a469214a5d');\n",
              "          const dataTable =\n",
              "            await google.colab.kernel.invokeFunction('convertToInteractive',\n",
              "                                                     [key], {});\n",
              "          if (!dataTable) return;\n",
              "\n",
              "          const docLinkHtml = 'Like what you see? Visit the ' +\n",
              "            '<a target=\"_blank\" href=https://colab.research.google.com/notebooks/data_table.ipynb>data table notebook</a>'\n",
              "            + ' to learn more about interactive tables.';\n",
              "          element.innerHTML = '';\n",
              "          dataTable['output_type'] = 'display_data';\n",
              "          await google.colab.output.renderOutput(dataTable, element);\n",
              "          const docLink = document.createElement('div');\n",
              "          docLink.innerHTML = docLinkHtml;\n",
              "          element.appendChild(docLink);\n",
              "        }\n",
              "      </script>\n",
              "    </div>\n",
              "  </div>\n",
              "  "
            ]
          },
          "metadata": {},
          "execution_count": 49
        }
      ],
      "source": [
        "def rev_per_user_per_month (df) :\n",
        "    \n",
        "    df['monthly_fee'] = df.apply(monthly_fee, axis=1)\n",
        "    df['call_over_quota'] = df.apply(calls_fee, axis=1)\n",
        "    df['data_over_quota'] = df.apply(internet_fee, axis=1)\n",
        "    df['messages_over_quota'] = df.apply(messages_fee, axis=1)\n",
        "    \n",
        "    df['revenue_per_user_per_month'] = df['monthly_fee'] + df['call_over_quota'] + df['data_over_quota'] + df['messages_over_quota']\n",
        "    \n",
        "    return df\n",
        "\n",
        "df_revenue = rev_per_user_per_month(df_filtered)\n",
        "df_revenue.head()"
      ]
    },
    {
      "cell_type": "markdown",
      "metadata": {
        "id": "zJ8gsrDn0OAS"
      },
      "source": [
        "Nilai pendapatan per konsumen setiap bulannya sudah ditambahkan kedalam dataframe."
      ]
    },
    {
      "cell_type": "markdown",
      "metadata": {
        "id": "0mo8KvJM0OAS"
      },
      "source": [
        "Sebelum memulai analisa data. Saya kan melihat terlebih dahulu apakah ada data yang janggal. Yang dimaksud janggal adalah:\n",
        "- Data yang waktu transaksinya sebelum waktu registrasi.\n",
        "- Data yang waktu transaksinya setelah waktu berhenti dari layanan."
      ]
    },
    {
      "cell_type": "code",
      "execution_count": null,
      "metadata": {
        "scrolled": false,
        "colab": {
          "base_uri": "https://localhost:8080/",
          "height": 548
        },
        "id": "yKfJBISa0OAS",
        "outputId": "857e4ef7-e0cd-470a-a4b1-027bbcc22084"
      },
      "outputs": [
        {
          "output_type": "execute_result",
          "data": {
            "text/plain": [
              "   user_id    month  duration  gb_used  messages_count first_name  last_name  \\\n",
              "0     1000  2018-12       124        2              11   Anamaria      Bauer   \n",
              "1     1001  2018-08       182        7              30     Mickey  Wilkerson   \n",
              "2     1001  2018-09       315       14              44     Mickey  Wilkerson   \n",
              "3     1001  2018-10       393       22              53     Mickey  Wilkerson   \n",
              "4     1001  2018-11       426       19              36     Mickey  Wilkerson   \n",
              "\n",
              "   age                                   city   reg_date      plan churn_date  \\\n",
              "0   45  Atlanta-Sandy Springs-Roswell, GA MSA 2018-12-24  ultimate        NaN   \n",
              "1   28        Seattle-Tacoma-Bellevue, WA MSA 2018-08-13      surf        NaN   \n",
              "2   28        Seattle-Tacoma-Bellevue, WA MSA 2018-08-13      surf        NaN   \n",
              "3   28        Seattle-Tacoma-Bellevue, WA MSA 2018-08-13      surf        NaN   \n",
              "4   28        Seattle-Tacoma-Bellevue, WA MSA 2018-08-13      surf        NaN   \n",
              "\n",
              "   monthly_fee  call_over_quota  data_over_quota  messages_over_quota  \\\n",
              "0           70              0.0              0.0                 0.00   \n",
              "1           20              0.0              0.0                 0.00   \n",
              "2           20              0.0              0.0                 0.00   \n",
              "3           20              0.0             70.0                 0.09   \n",
              "4           20              0.0             40.0                 0.00   \n",
              "\n",
              "   revenue_per_user_per_month reg_month churn_month  \n",
              "0                       70.00   2018-12         NaT  \n",
              "1                       20.00   2018-08         NaT  \n",
              "2                       20.00   2018-08         NaT  \n",
              "3                       90.09   2018-08         NaT  \n",
              "4                       60.00   2018-08         NaT  "
            ],
            "text/html": [
              "\n",
              "  <div id=\"df-f1102232-95e8-40aa-b1f9-b711a99bd7de\">\n",
              "    <div class=\"colab-df-container\">\n",
              "      <div>\n",
              "<style scoped>\n",
              "    .dataframe tbody tr th:only-of-type {\n",
              "        vertical-align: middle;\n",
              "    }\n",
              "\n",
              "    .dataframe tbody tr th {\n",
              "        vertical-align: top;\n",
              "    }\n",
              "\n",
              "    .dataframe thead th {\n",
              "        text-align: right;\n",
              "    }\n",
              "</style>\n",
              "<table border=\"1\" class=\"dataframe\">\n",
              "  <thead>\n",
              "    <tr style=\"text-align: right;\">\n",
              "      <th></th>\n",
              "      <th>user_id</th>\n",
              "      <th>month</th>\n",
              "      <th>duration</th>\n",
              "      <th>gb_used</th>\n",
              "      <th>messages_count</th>\n",
              "      <th>first_name</th>\n",
              "      <th>last_name</th>\n",
              "      <th>age</th>\n",
              "      <th>city</th>\n",
              "      <th>reg_date</th>\n",
              "      <th>plan</th>\n",
              "      <th>churn_date</th>\n",
              "      <th>monthly_fee</th>\n",
              "      <th>call_over_quota</th>\n",
              "      <th>data_over_quota</th>\n",
              "      <th>messages_over_quota</th>\n",
              "      <th>revenue_per_user_per_month</th>\n",
              "      <th>reg_month</th>\n",
              "      <th>churn_month</th>\n",
              "    </tr>\n",
              "  </thead>\n",
              "  <tbody>\n",
              "    <tr>\n",
              "      <th>0</th>\n",
              "      <td>1000</td>\n",
              "      <td>2018-12</td>\n",
              "      <td>124</td>\n",
              "      <td>2</td>\n",
              "      <td>11</td>\n",
              "      <td>Anamaria</td>\n",
              "      <td>Bauer</td>\n",
              "      <td>45</td>\n",
              "      <td>Atlanta-Sandy Springs-Roswell, GA MSA</td>\n",
              "      <td>2018-12-24</td>\n",
              "      <td>ultimate</td>\n",
              "      <td>NaN</td>\n",
              "      <td>70</td>\n",
              "      <td>0.0</td>\n",
              "      <td>0.0</td>\n",
              "      <td>0.00</td>\n",
              "      <td>70.00</td>\n",
              "      <td>2018-12</td>\n",
              "      <td>NaT</td>\n",
              "    </tr>\n",
              "    <tr>\n",
              "      <th>1</th>\n",
              "      <td>1001</td>\n",
              "      <td>2018-08</td>\n",
              "      <td>182</td>\n",
              "      <td>7</td>\n",
              "      <td>30</td>\n",
              "      <td>Mickey</td>\n",
              "      <td>Wilkerson</td>\n",
              "      <td>28</td>\n",
              "      <td>Seattle-Tacoma-Bellevue, WA MSA</td>\n",
              "      <td>2018-08-13</td>\n",
              "      <td>surf</td>\n",
              "      <td>NaN</td>\n",
              "      <td>20</td>\n",
              "      <td>0.0</td>\n",
              "      <td>0.0</td>\n",
              "      <td>0.00</td>\n",
              "      <td>20.00</td>\n",
              "      <td>2018-08</td>\n",
              "      <td>NaT</td>\n",
              "    </tr>\n",
              "    <tr>\n",
              "      <th>2</th>\n",
              "      <td>1001</td>\n",
              "      <td>2018-09</td>\n",
              "      <td>315</td>\n",
              "      <td>14</td>\n",
              "      <td>44</td>\n",
              "      <td>Mickey</td>\n",
              "      <td>Wilkerson</td>\n",
              "      <td>28</td>\n",
              "      <td>Seattle-Tacoma-Bellevue, WA MSA</td>\n",
              "      <td>2018-08-13</td>\n",
              "      <td>surf</td>\n",
              "      <td>NaN</td>\n",
              "      <td>20</td>\n",
              "      <td>0.0</td>\n",
              "      <td>0.0</td>\n",
              "      <td>0.00</td>\n",
              "      <td>20.00</td>\n",
              "      <td>2018-08</td>\n",
              "      <td>NaT</td>\n",
              "    </tr>\n",
              "    <tr>\n",
              "      <th>3</th>\n",
              "      <td>1001</td>\n",
              "      <td>2018-10</td>\n",
              "      <td>393</td>\n",
              "      <td>22</td>\n",
              "      <td>53</td>\n",
              "      <td>Mickey</td>\n",
              "      <td>Wilkerson</td>\n",
              "      <td>28</td>\n",
              "      <td>Seattle-Tacoma-Bellevue, WA MSA</td>\n",
              "      <td>2018-08-13</td>\n",
              "      <td>surf</td>\n",
              "      <td>NaN</td>\n",
              "      <td>20</td>\n",
              "      <td>0.0</td>\n",
              "      <td>70.0</td>\n",
              "      <td>0.09</td>\n",
              "      <td>90.09</td>\n",
              "      <td>2018-08</td>\n",
              "      <td>NaT</td>\n",
              "    </tr>\n",
              "    <tr>\n",
              "      <th>4</th>\n",
              "      <td>1001</td>\n",
              "      <td>2018-11</td>\n",
              "      <td>426</td>\n",
              "      <td>19</td>\n",
              "      <td>36</td>\n",
              "      <td>Mickey</td>\n",
              "      <td>Wilkerson</td>\n",
              "      <td>28</td>\n",
              "      <td>Seattle-Tacoma-Bellevue, WA MSA</td>\n",
              "      <td>2018-08-13</td>\n",
              "      <td>surf</td>\n",
              "      <td>NaN</td>\n",
              "      <td>20</td>\n",
              "      <td>0.0</td>\n",
              "      <td>40.0</td>\n",
              "      <td>0.00</td>\n",
              "      <td>60.00</td>\n",
              "      <td>2018-08</td>\n",
              "      <td>NaT</td>\n",
              "    </tr>\n",
              "  </tbody>\n",
              "</table>\n",
              "</div>\n",
              "      <button class=\"colab-df-convert\" onclick=\"convertToInteractive('df-f1102232-95e8-40aa-b1f9-b711a99bd7de')\"\n",
              "              title=\"Convert this dataframe to an interactive table.\"\n",
              "              style=\"display:none;\">\n",
              "        \n",
              "  <svg xmlns=\"http://www.w3.org/2000/svg\" height=\"24px\"viewBox=\"0 0 24 24\"\n",
              "       width=\"24px\">\n",
              "    <path d=\"M0 0h24v24H0V0z\" fill=\"none\"/>\n",
              "    <path d=\"M18.56 5.44l.94 2.06.94-2.06 2.06-.94-2.06-.94-.94-2.06-.94 2.06-2.06.94zm-11 1L8.5 8.5l.94-2.06 2.06-.94-2.06-.94L8.5 2.5l-.94 2.06-2.06.94zm10 10l.94 2.06.94-2.06 2.06-.94-2.06-.94-.94-2.06-.94 2.06-2.06.94z\"/><path d=\"M17.41 7.96l-1.37-1.37c-.4-.4-.92-.59-1.43-.59-.52 0-1.04.2-1.43.59L10.3 9.45l-7.72 7.72c-.78.78-.78 2.05 0 2.83L4 21.41c.39.39.9.59 1.41.59.51 0 1.02-.2 1.41-.59l7.78-7.78 2.81-2.81c.8-.78.8-2.07 0-2.86zM5.41 20L4 18.59l7.72-7.72 1.47 1.35L5.41 20z\"/>\n",
              "  </svg>\n",
              "      </button>\n",
              "      \n",
              "  <style>\n",
              "    .colab-df-container {\n",
              "      display:flex;\n",
              "      flex-wrap:wrap;\n",
              "      gap: 12px;\n",
              "    }\n",
              "\n",
              "    .colab-df-convert {\n",
              "      background-color: #E8F0FE;\n",
              "      border: none;\n",
              "      border-radius: 50%;\n",
              "      cursor: pointer;\n",
              "      display: none;\n",
              "      fill: #1967D2;\n",
              "      height: 32px;\n",
              "      padding: 0 0 0 0;\n",
              "      width: 32px;\n",
              "    }\n",
              "\n",
              "    .colab-df-convert:hover {\n",
              "      background-color: #E2EBFA;\n",
              "      box-shadow: 0px 1px 2px rgba(60, 64, 67, 0.3), 0px 1px 3px 1px rgba(60, 64, 67, 0.15);\n",
              "      fill: #174EA6;\n",
              "    }\n",
              "\n",
              "    [theme=dark] .colab-df-convert {\n",
              "      background-color: #3B4455;\n",
              "      fill: #D2E3FC;\n",
              "    }\n",
              "\n",
              "    [theme=dark] .colab-df-convert:hover {\n",
              "      background-color: #434B5C;\n",
              "      box-shadow: 0px 1px 3px 1px rgba(0, 0, 0, 0.15);\n",
              "      filter: drop-shadow(0px 1px 2px rgba(0, 0, 0, 0.3));\n",
              "      fill: #FFFFFF;\n",
              "    }\n",
              "  </style>\n",
              "\n",
              "      <script>\n",
              "        const buttonEl =\n",
              "          document.querySelector('#df-f1102232-95e8-40aa-b1f9-b711a99bd7de button.colab-df-convert');\n",
              "        buttonEl.style.display =\n",
              "          google.colab.kernel.accessAllowed ? 'block' : 'none';\n",
              "\n",
              "        async function convertToInteractive(key) {\n",
              "          const element = document.querySelector('#df-f1102232-95e8-40aa-b1f9-b711a99bd7de');\n",
              "          const dataTable =\n",
              "            await google.colab.kernel.invokeFunction('convertToInteractive',\n",
              "                                                     [key], {});\n",
              "          if (!dataTable) return;\n",
              "\n",
              "          const docLinkHtml = 'Like what you see? Visit the ' +\n",
              "            '<a target=\"_blank\" href=https://colab.research.google.com/notebooks/data_table.ipynb>data table notebook</a>'\n",
              "            + ' to learn more about interactive tables.';\n",
              "          element.innerHTML = '';\n",
              "          dataTable['output_type'] = 'display_data';\n",
              "          await google.colab.output.renderOutput(dataTable, element);\n",
              "          const docLink = document.createElement('div');\n",
              "          docLink.innerHTML = docLinkHtml;\n",
              "          element.appendChild(docLink);\n",
              "        }\n",
              "      </script>\n",
              "    </div>\n",
              "  </div>\n",
              "  "
            ]
          },
          "metadata": {},
          "execution_count": 50
        }
      ],
      "source": [
        "df_revenue['reg_month'] = df_revenue['reg_date'].dt.to_period('M')\n",
        "df_revenue['churn_month'] = pd.to_datetime(df_revenue['churn_date']).dt.to_period('M')\n",
        "df_revenue.head()"
      ]
    },
    {
      "cell_type": "markdown",
      "metadata": {
        "id": "Ymdaccqk0OAT"
      },
      "source": [
        "Untuk melakukan pemeriksaan saya membutuhkan kolom `reg month` dan `churn month` untuk dibandingkan dengan kolom `month."
      ]
    },
    {
      "cell_type": "code",
      "execution_count": null,
      "metadata": {
        "colab": {
          "base_uri": "https://localhost:8080/",
          "height": 113
        },
        "id": "ZN9lrF6t0OAT",
        "outputId": "7fcf5bf1-afee-4524-9973-4e25b126a08f"
      },
      "outputs": [
        {
          "output_type": "execute_result",
          "data": {
            "text/plain": [
              "Empty DataFrame\n",
              "Columns: [user_id, month, duration, gb_used, messages_count, first_name, last_name, age, city, reg_date, plan, churn_date, monthly_fee, call_over_quota, data_over_quota, messages_over_quota, revenue_per_user_per_month, reg_month, churn_month]\n",
              "Index: []"
            ],
            "text/html": [
              "\n",
              "  <div id=\"df-89638f42-dc9a-4e2b-8627-338bc1b7e17e\">\n",
              "    <div class=\"colab-df-container\">\n",
              "      <div>\n",
              "<style scoped>\n",
              "    .dataframe tbody tr th:only-of-type {\n",
              "        vertical-align: middle;\n",
              "    }\n",
              "\n",
              "    .dataframe tbody tr th {\n",
              "        vertical-align: top;\n",
              "    }\n",
              "\n",
              "    .dataframe thead th {\n",
              "        text-align: right;\n",
              "    }\n",
              "</style>\n",
              "<table border=\"1\" class=\"dataframe\">\n",
              "  <thead>\n",
              "    <tr style=\"text-align: right;\">\n",
              "      <th></th>\n",
              "      <th>user_id</th>\n",
              "      <th>month</th>\n",
              "      <th>duration</th>\n",
              "      <th>gb_used</th>\n",
              "      <th>messages_count</th>\n",
              "      <th>first_name</th>\n",
              "      <th>last_name</th>\n",
              "      <th>age</th>\n",
              "      <th>city</th>\n",
              "      <th>reg_date</th>\n",
              "      <th>plan</th>\n",
              "      <th>churn_date</th>\n",
              "      <th>monthly_fee</th>\n",
              "      <th>call_over_quota</th>\n",
              "      <th>data_over_quota</th>\n",
              "      <th>messages_over_quota</th>\n",
              "      <th>revenue_per_user_per_month</th>\n",
              "      <th>reg_month</th>\n",
              "      <th>churn_month</th>\n",
              "    </tr>\n",
              "  </thead>\n",
              "  <tbody>\n",
              "  </tbody>\n",
              "</table>\n",
              "</div>\n",
              "      <button class=\"colab-df-convert\" onclick=\"convertToInteractive('df-89638f42-dc9a-4e2b-8627-338bc1b7e17e')\"\n",
              "              title=\"Convert this dataframe to an interactive table.\"\n",
              "              style=\"display:none;\">\n",
              "        \n",
              "  <svg xmlns=\"http://www.w3.org/2000/svg\" height=\"24px\"viewBox=\"0 0 24 24\"\n",
              "       width=\"24px\">\n",
              "    <path d=\"M0 0h24v24H0V0z\" fill=\"none\"/>\n",
              "    <path d=\"M18.56 5.44l.94 2.06.94-2.06 2.06-.94-2.06-.94-.94-2.06-.94 2.06-2.06.94zm-11 1L8.5 8.5l.94-2.06 2.06-.94-2.06-.94L8.5 2.5l-.94 2.06-2.06.94zm10 10l.94 2.06.94-2.06 2.06-.94-2.06-.94-.94-2.06-.94 2.06-2.06.94z\"/><path d=\"M17.41 7.96l-1.37-1.37c-.4-.4-.92-.59-1.43-.59-.52 0-1.04.2-1.43.59L10.3 9.45l-7.72 7.72c-.78.78-.78 2.05 0 2.83L4 21.41c.39.39.9.59 1.41.59.51 0 1.02-.2 1.41-.59l7.78-7.78 2.81-2.81c.8-.78.8-2.07 0-2.86zM5.41 20L4 18.59l7.72-7.72 1.47 1.35L5.41 20z\"/>\n",
              "  </svg>\n",
              "      </button>\n",
              "      \n",
              "  <style>\n",
              "    .colab-df-container {\n",
              "      display:flex;\n",
              "      flex-wrap:wrap;\n",
              "      gap: 12px;\n",
              "    }\n",
              "\n",
              "    .colab-df-convert {\n",
              "      background-color: #E8F0FE;\n",
              "      border: none;\n",
              "      border-radius: 50%;\n",
              "      cursor: pointer;\n",
              "      display: none;\n",
              "      fill: #1967D2;\n",
              "      height: 32px;\n",
              "      padding: 0 0 0 0;\n",
              "      width: 32px;\n",
              "    }\n",
              "\n",
              "    .colab-df-convert:hover {\n",
              "      background-color: #E2EBFA;\n",
              "      box-shadow: 0px 1px 2px rgba(60, 64, 67, 0.3), 0px 1px 3px 1px rgba(60, 64, 67, 0.15);\n",
              "      fill: #174EA6;\n",
              "    }\n",
              "\n",
              "    [theme=dark] .colab-df-convert {\n",
              "      background-color: #3B4455;\n",
              "      fill: #D2E3FC;\n",
              "    }\n",
              "\n",
              "    [theme=dark] .colab-df-convert:hover {\n",
              "      background-color: #434B5C;\n",
              "      box-shadow: 0px 1px 3px 1px rgba(0, 0, 0, 0.15);\n",
              "      filter: drop-shadow(0px 1px 2px rgba(0, 0, 0, 0.3));\n",
              "      fill: #FFFFFF;\n",
              "    }\n",
              "  </style>\n",
              "\n",
              "      <script>\n",
              "        const buttonEl =\n",
              "          document.querySelector('#df-89638f42-dc9a-4e2b-8627-338bc1b7e17e button.colab-df-convert');\n",
              "        buttonEl.style.display =\n",
              "          google.colab.kernel.accessAllowed ? 'block' : 'none';\n",
              "\n",
              "        async function convertToInteractive(key) {\n",
              "          const element = document.querySelector('#df-89638f42-dc9a-4e2b-8627-338bc1b7e17e');\n",
              "          const dataTable =\n",
              "            await google.colab.kernel.invokeFunction('convertToInteractive',\n",
              "                                                     [key], {});\n",
              "          if (!dataTable) return;\n",
              "\n",
              "          const docLinkHtml = 'Like what you see? Visit the ' +\n",
              "            '<a target=\"_blank\" href=https://colab.research.google.com/notebooks/data_table.ipynb>data table notebook</a>'\n",
              "            + ' to learn more about interactive tables.';\n",
              "          element.innerHTML = '';\n",
              "          dataTable['output_type'] = 'display_data';\n",
              "          await google.colab.output.renderOutput(dataTable, element);\n",
              "          const docLink = document.createElement('div');\n",
              "          docLink.innerHTML = docLinkHtml;\n",
              "          element.appendChild(docLink);\n",
              "        }\n",
              "      </script>\n",
              "    </div>\n",
              "  </div>\n",
              "  "
            ]
          },
          "metadata": {},
          "execution_count": 51
        }
      ],
      "source": [
        "df_revenue.loc[(df_revenue['month'] < df_revenue['reg_month']) & (df_revenue['month'] > df_revenue['churn_month'])]"
      ]
    },
    {
      "cell_type": "markdown",
      "metadata": {
        "id": "UqJ-FxeH0OAU"
      },
      "source": [
        "Setelah dilakukan pemeriksaan tidak ditemukan data yang janggal. "
      ]
    },
    {
      "cell_type": "markdown",
      "metadata": {
        "id": "stxGrlU60OAU"
      },
      "source": [
        "## Analisa Data"
      ]
    },
    {
      "cell_type": "markdown",
      "metadata": {
        "id": "yGepGSWm0OAU"
      },
      "source": [
        "### Melihat Perilaku Konsumen"
      ]
    },
    {
      "cell_type": "markdown",
      "metadata": {
        "id": "yCrmAAqU0OAV"
      },
      "source": [
        "Pada bagian ini saya kan mencari tahu perilaku dari konsumen. Saya akan melihat penggunaan `panggilan suara`, `internet`, dan `pesan teks` per bulan dari setiap paket yang ada."
      ]
    },
    {
      "cell_type": "markdown",
      "metadata": {
        "id": "dFfsimqu0OAV"
      },
      "source": [
        "#### Calls"
      ]
    },
    {
      "cell_type": "markdown",
      "metadata": {
        "id": "x07gIPy60OAV"
      },
      "source": [
        "Sebelum melakukan hal analisa, saya akan melihat apakah banyak nilai `outlier` distribusi `duration`."
      ]
    },
    {
      "cell_type": "code",
      "execution_count": null,
      "metadata": {
        "colab": {
          "base_uri": "https://localhost:8080/",
          "height": 374
        },
        "id": "oURuXuSz0OAW",
        "outputId": "db194ad6-3eaa-4c18-c76d-955ecda616e4"
      },
      "outputs": [
        {
          "output_type": "display_data",
          "data": {
            "text/plain": [
              "<Figure size 288x432 with 1 Axes>"
            ],
            "image/png": "[encoded data removed]"
          },
          "metadata": {
            "needs_background": "light"
          }
        }
      ],
      "source": [
        "df_revenue.loc[df_revenue['duration'] > 0, 'duration'].plot.box(figsize=(4,6))\n",
        "plt.show()"
      ]
    },
    {
      "cell_type": "markdown",
      "metadata": {
        "id": "7ke1IcrI0OAX"
      },
      "source": [
        "Ternyata cukup banyak nilai `outlier` diatas batas `upper whisker`. Karena itu saya akan melihat persisnya posisi `upper whisker`.  "
      ]
    },
    {
      "cell_type": "code",
      "execution_count": null,
      "metadata": {
        "scrolled": false,
        "colab": {
          "base_uri": "https://localhost:8080/"
        },
        "id": "r1xCr0zY0OAX",
        "outputId": "6fdaf0c4-af00-4542-95b4-88edba201f9b"
      },
      "outputs": [
        {
          "output_type": "execute_result",
          "data": {
            "text/plain": [
              "count    2293.000000\n",
              "mean      429.283471\n",
              "std       236.320077\n",
              "min         0.000000\n",
              "25%       265.000000\n",
              "50%       425.000000\n",
              "75%       572.000000\n",
              "max      1510.000000\n",
              "Name: duration, dtype: float64"
            ]
          },
          "metadata": {},
          "execution_count": 53
        }
      ],
      "source": [
        "df_revenue['duration'].describe()"
      ]
    },
    {
      "cell_type": "code",
      "execution_count": null,
      "metadata": {
        "colab": {
          "base_uri": "https://localhost:8080/"
        },
        "id": "rQ2o00TR0OAX",
        "outputId": "69623e34-2709-4dbb-f73c-801d5c5b6f1d"
      },
      "outputs": [
        {
          "output_type": "execute_result",
          "data": {
            "text/plain": [
              "1032.5"
            ]
          },
          "metadata": {},
          "execution_count": 54
        }
      ],
      "source": [
        "def find_upper_whisker (df_desc) :\n",
        "    IQR = df_desc['75%'] - df_desc['25%']\n",
        "    Q3 = df_desc['75%']\n",
        "    upper_whisker = Q3 + IQR*1.5\n",
        "    \n",
        "    return upper_whisker\n",
        "    \n",
        "\n",
        "upper_whisker = find_upper_whisker(df_revenue['duration'].describe())\n",
        "upper_whisker"
      ]
    },
    {
      "cell_type": "code",
      "execution_count": null,
      "metadata": {
        "colab": {
          "base_uri": "https://localhost:8080/",
          "height": 374
        },
        "id": "oQ0NMHi70OAX",
        "outputId": "44cc2884-da3d-4a50-ce18-68a7405b5b6b"
      },
      "outputs": [
        {
          "output_type": "display_data",
          "data": {
            "text/plain": [
              "<Figure size 288x432 with 1 Axes>"
            ],
            "image/png": "[encoded data removed]"
          },
          "metadata": {
            "needs_background": "light"
          }
        }
      ],
      "source": [
        "df_revenue['duration'].plot.box(figsize=(4,6))\n",
        "plt.hlines(upper_whisker, xmin=0.9, xmax=1.1, color='red')\n",
        "plt.show()"
      ]
    },
    {
      "cell_type": "markdown",
      "metadata": {
        "id": "b7iK4hFn0OAX"
      },
      "source": [
        "`Upper Whisker` berada diangka `1032.5` sesuai dengan teori. Selanjutnya saya akan melakukan filter `duration` diatas `upper whisker`. Hal ini perlu dilakukan karena `outlier` dapat mempengaruhi nilai `mean`."
      ]
    },
    {
      "cell_type": "code",
      "execution_count": null,
      "metadata": {
        "scrolled": false,
        "colab": {
          "base_uri": "https://localhost:8080/",
          "height": 113
        },
        "id": "s97Jex-r0OAX",
        "outputId": "591f0219-df22-478e-8d72-ce8311ba6882"
      },
      "outputs": [
        {
          "output_type": "execute_result",
          "data": {
            "text/plain": [
              "Empty DataFrame\n",
              "Columns: [user_id, month, duration, gb_used, messages_count, first_name, last_name, age, city, reg_date, plan, churn_date, monthly_fee, call_over_quota, data_over_quota, messages_over_quota, revenue_per_user_per_month, reg_month, churn_month]\n",
              "Index: []"
            ],
            "text/html": [
              "\n",
              "  <div id=\"df-1b07c091-52a1-4325-b42d-ea6243a860bf\">\n",
              "    <div class=\"colab-df-container\">\n",
              "      <div>\n",
              "<style scoped>\n",
              "    .dataframe tbody tr th:only-of-type {\n",
              "        vertical-align: middle;\n",
              "    }\n",
              "\n",
              "    .dataframe tbody tr th {\n",
              "        vertical-align: top;\n",
              "    }\n",
              "\n",
              "    .dataframe thead th {\n",
              "        text-align: right;\n",
              "    }\n",
              "</style>\n",
              "<table border=\"1\" class=\"dataframe\">\n",
              "  <thead>\n",
              "    <tr style=\"text-align: right;\">\n",
              "      <th></th>\n",
              "      <th>user_id</th>\n",
              "      <th>month</th>\n",
              "      <th>duration</th>\n",
              "      <th>gb_used</th>\n",
              "      <th>messages_count</th>\n",
              "      <th>first_name</th>\n",
              "      <th>last_name</th>\n",
              "      <th>age</th>\n",
              "      <th>city</th>\n",
              "      <th>reg_date</th>\n",
              "      <th>plan</th>\n",
              "      <th>churn_date</th>\n",
              "      <th>monthly_fee</th>\n",
              "      <th>call_over_quota</th>\n",
              "      <th>data_over_quota</th>\n",
              "      <th>messages_over_quota</th>\n",
              "      <th>revenue_per_user_per_month</th>\n",
              "      <th>reg_month</th>\n",
              "      <th>churn_month</th>\n",
              "    </tr>\n",
              "  </thead>\n",
              "  <tbody>\n",
              "  </tbody>\n",
              "</table>\n",
              "</div>\n",
              "      <button class=\"colab-df-convert\" onclick=\"convertToInteractive('df-1b07c091-52a1-4325-b42d-ea6243a860bf')\"\n",
              "              title=\"Convert this dataframe to an interactive table.\"\n",
              "              style=\"display:none;\">\n",
              "        \n",
              "  <svg xmlns=\"http://www.w3.org/2000/svg\" height=\"24px\"viewBox=\"0 0 24 24\"\n",
              "       width=\"24px\">\n",
              "    <path d=\"M0 0h24v24H0V0z\" fill=\"none\"/>\n",
              "    <path d=\"M18.56 5.44l.94 2.06.94-2.06 2.06-.94-2.06-.94-.94-2.06-.94 2.06-2.06.94zm-11 1L8.5 8.5l.94-2.06 2.06-.94-2.06-.94L8.5 2.5l-.94 2.06-2.06.94zm10 10l.94 2.06.94-2.06 2.06-.94-2.06-.94-.94-2.06-.94 2.06-2.06.94z\"/><path d=\"M17.41 7.96l-1.37-1.37c-.4-.4-.92-.59-1.43-.59-.52 0-1.04.2-1.43.59L10.3 9.45l-7.72 7.72c-.78.78-.78 2.05 0 2.83L4 21.41c.39.39.9.59 1.41.59.51 0 1.02-.2 1.41-.59l7.78-7.78 2.81-2.81c.8-.78.8-2.07 0-2.86zM5.41 20L4 18.59l7.72-7.72 1.47 1.35L5.41 20z\"/>\n",
              "  </svg>\n",
              "      </button>\n",
              "      \n",
              "  <style>\n",
              "    .colab-df-container {\n",
              "      display:flex;\n",
              "      flex-wrap:wrap;\n",
              "      gap: 12px;\n",
              "    }\n",
              "\n",
              "    .colab-df-convert {\n",
              "      background-color: #E8F0FE;\n",
              "      border: none;\n",
              "      border-radius: 50%;\n",
              "      cursor: pointer;\n",
              "      display: none;\n",
              "      fill: #1967D2;\n",
              "      height: 32px;\n",
              "      padding: 0 0 0 0;\n",
              "      width: 32px;\n",
              "    }\n",
              "\n",
              "    .colab-df-convert:hover {\n",
              "      background-color: #E2EBFA;\n",
              "      box-shadow: 0px 1px 2px rgba(60, 64, 67, 0.3), 0px 1px 3px 1px rgba(60, 64, 67, 0.15);\n",
              "      fill: #174EA6;\n",
              "    }\n",
              "\n",
              "    [theme=dark] .colab-df-convert {\n",
              "      background-color: #3B4455;\n",
              "      fill: #D2E3FC;\n",
              "    }\n",
              "\n",
              "    [theme=dark] .colab-df-convert:hover {\n",
              "      background-color: #434B5C;\n",
              "      box-shadow: 0px 1px 3px 1px rgba(0, 0, 0, 0.15);\n",
              "      filter: drop-shadow(0px 1px 2px rgba(0, 0, 0, 0.3));\n",
              "      fill: #FFFFFF;\n",
              "    }\n",
              "  </style>\n",
              "\n",
              "      <script>\n",
              "        const buttonEl =\n",
              "          document.querySelector('#df-1b07c091-52a1-4325-b42d-ea6243a860bf button.colab-df-convert');\n",
              "        buttonEl.style.display =\n",
              "          google.colab.kernel.accessAllowed ? 'block' : 'none';\n",
              "\n",
              "        async function convertToInteractive(key) {\n",
              "          const element = document.querySelector('#df-1b07c091-52a1-4325-b42d-ea6243a860bf');\n",
              "          const dataTable =\n",
              "            await google.colab.kernel.invokeFunction('convertToInteractive',\n",
              "                                                     [key], {});\n",
              "          if (!dataTable) return;\n",
              "\n",
              "          const docLinkHtml = 'Like what you see? Visit the ' +\n",
              "            '<a target=\"_blank\" href=https://colab.research.google.com/notebooks/data_table.ipynb>data table notebook</a>'\n",
              "            + ' to learn more about interactive tables.';\n",
              "          element.innerHTML = '';\n",
              "          dataTable['output_type'] = 'display_data';\n",
              "          await google.colab.output.renderOutput(dataTable, element);\n",
              "          const docLink = document.createElement('div');\n",
              "          docLink.innerHTML = docLinkHtml;\n",
              "          element.appendChild(docLink);\n",
              "        }\n",
              "      </script>\n",
              "    </div>\n",
              "  </div>\n",
              "  "
            ]
          },
          "metadata": {},
          "execution_count": 56
        }
      ],
      "source": [
        "analyze_call = df_revenue.loc[df_revenue['duration'] <= upper_whisker].copy()\n",
        "analyze_call.loc[analyze_call['duration'] > upper_whisker]"
      ]
    },
    {
      "cell_type": "markdown",
      "metadata": {
        "id": "sgu44PIX0OAY"
      },
      "source": [
        "Data `outlier` diatas nilai `upper whisker` telah tidak ada. "
      ]
    },
    {
      "cell_type": "markdown",
      "metadata": {
        "id": "6rIsSzAH0OAY"
      },
      "source": [
        "##### Mean of Call Duration by Month"
      ]
    },
    {
      "cell_type": "code",
      "execution_count": null,
      "metadata": {
        "colab": {
          "base_uri": "https://localhost:8080/",
          "height": 767
        },
        "id": "FpdD3beZ0OAY",
        "outputId": "b7d33a92-aa1a-4792-a59e-5544e00b5fc6"
      },
      "outputs": [
        {
          "output_type": "display_data",
          "data": {
            "text/plain": [
              "<Figure size 1296x864 with 1 Axes>"
            ],
            "image/png": "[encoded data removed]"
          },
          "metadata": {
            "needs_background": "light"
          }
        }
      ],
      "source": [
        "calls_behavior =  analyze_call.pivot_table(index=['month'], columns = ['plan'], values='duration', aggfunc=['mean'])\n",
        "\n",
        "calls_behavior.columns = ['mean of surf', 'mean of ultimate']\n",
        "plots = calls_behavior.plot(kind='bar', figsize=(18,12))\n",
        "\n",
        "for bar in plots.patches:\n",
        "   \n",
        "    plots.annotate(format(bar.get_height(), '.2f'),\n",
        "                   (bar.get_x() + bar.get_width() / 2,\n",
        "                    bar.get_height()), ha='center', va='center',\n",
        "                   size=10, xytext=(0, 8),\n",
        "                   textcoords='offset points')\n",
        "\n",
        "\n",
        "plt.ylabel('Call Duration', size=12)\n",
        "plt.xlabel('Month', size=12)\n",
        "plt.title('Mean of Call Duration by Month', size=15)\n",
        "\n",
        "plt.show()"
      ]
    },
    {
      "cell_type": "markdown",
      "metadata": {
        "id": "7XRBTttS0OAY"
      },
      "source": [
        "`Call Duration` pada semester kedua secara umum terlihat lebih banyak dibandingkan pada semester pertama. Pada bulan kedua pada paket `ultimate` mengalami lonjakan. Rata-rata `call duration` dari seluruh bulan tidak ada yang mencapai `500 menit`. Artinya masih dibawah dari kuota paket `surf` dan masih jauh dari kuota paket `ultimate`, `3000 menit`."
      ]
    },
    {
      "cell_type": "markdown",
      "metadata": {
        "id": "qmef2LRL0OAZ"
      },
      "source": [
        "##### Variance of Call Duration by Month"
      ]
    },
    {
      "cell_type": "code",
      "execution_count": null,
      "metadata": {
        "scrolled": false,
        "colab": {
          "base_uri": "https://localhost:8080/",
          "height": 767
        },
        "id": "G4-nvm0L0OAZ",
        "outputId": "4c9658c0-f2a7-4e7f-e879-328419b94a8a"
      },
      "outputs": [
        {
          "output_type": "display_data",
          "data": {
            "text/plain": [
              "<Figure size 1296x864 with 1 Axes>"
            ],
            "image/png": "[encoded data removed]"
          },
          "metadata": {
            "needs_background": "light"
          }
        }
      ],
      "source": [
        "calls_behavior2 =  analyze_call.pivot_table(index=['month'], columns = ['plan'], values='duration', aggfunc=[py.var])\n",
        "calls_behavior2.columns = ['variance of surf', 'variance of ultimate']\n",
        "plots = calls_behavior2.plot(kind='bar', figsize=(18,12))\n",
        "\n",
        "for bar in plots.patches:\n",
        "   \n",
        "    plots.annotate(format(bar.get_height(), '.2f'),\n",
        "                   (bar.get_x() + bar.get_width() / 2,\n",
        "                    bar.get_height()), ha='center', va='center',\n",
        "                   size=10, xytext=(0, 8),\n",
        "                   textcoords='offset points')\n",
        "\n",
        "\n",
        "plt.ylabel('Call Duration', size=12)\n",
        "plt.xlabel('Month', size=12)\n",
        "plt.title('Variance of Call Duration by Month', size=15)\n",
        "\n",
        "plt.show()"
      ]
    },
    {
      "cell_type": "markdown",
      "metadata": {
        "id": "xR-yYPJf0OAZ"
      },
      "source": [
        "disparitas atau persebaran tertinggi ada pada konsumen pake `ultimate` dibulan kedua. Hal tersebut mungkin menjadi faktor yang membuat `mean` `call duration` paket `ultimate` melonjak dibulan kedua. Namun, tingginya nilai `variance` tidak menjamin tingginya nilai `mean`. Karena pada bulan ketiga pada paket `ultimate` merupakan `variance` kedua tertinggi, namun `mean` nya tidak mengikuti.\n",
        "\n",
        "Selain itu pada semester kedua, perbedaan `variance` antara kedua paket cenderung lebih kecil dibandingkan pada semester pertama."
      ]
    },
    {
      "cell_type": "markdown",
      "metadata": {
        "id": "JzsehB5x0OAZ"
      },
      "source": [
        "##### Standart Deviation of Call Duration by Month"
      ]
    },
    {
      "cell_type": "code",
      "execution_count": null,
      "metadata": {
        "colab": {
          "base_uri": "https://localhost:8080/",
          "height": 767
        },
        "id": "LN_LvoiO0OAb",
        "outputId": "7f94cd83-5084-4699-b253-0e54361aeb2f"
      },
      "outputs": [
        {
          "output_type": "display_data",
          "data": {
            "text/plain": [
              "<Figure size 1296x864 with 1 Axes>"
            ],
            "image/png": "[encoded data removed]"
          },
          "metadata": {
            "needs_background": "light"
          }
        }
      ],
      "source": [
        "calls_behavior3 =  analyze_call.pivot_table(index=['month'], columns = ['plan'], values='duration', aggfunc=[py.std])\n",
        "calls_behavior3\n",
        "\n",
        "calls_behavior3.columns = ['standart deviation of surf', 'standart deviation of ultimate']\n",
        "plots = calls_behavior3.plot(kind='bar', figsize=(18,12))\n",
        "\n",
        "for bar in plots.patches:\n",
        "   \n",
        "    plots.annotate(format(bar.get_height(), '.2f'),\n",
        "                   (bar.get_x() + bar.get_width() / 2,\n",
        "                    bar.get_height()), ha='center', va='center',\n",
        "                   size=10, xytext=(0, 8),\n",
        "                   textcoords='offset points')\n",
        "\n",
        "\n",
        "plt.ylabel('Call Duration', size=12)\n",
        "plt.xlabel('Month', size=12)\n",
        "plt.title('Standart Deviation of Call Duration by Month', size=15)\n",
        "\n",
        "plt.show()"
      ]
    },
    {
      "cell_type": "markdown",
      "metadata": {
        "id": "qEDiA_hO0OAc"
      },
      "source": [
        "Polanya kurang lebih serupa dengan `variance` karena `standart deviation` adalah akar dari `variance`. Nilai simpangan tertinggi pada paket `ultimate` dibulan kedua yang nilainya sebesar `277.29`."
      ]
    },
    {
      "cell_type": "markdown",
      "metadata": {
        "id": "E7iEo51f0OAd"
      },
      "source": [
        "#### Messages"
      ]
    },
    {
      "cell_type": "markdown",
      "metadata": {
        "id": "uQdvWOKE0OAe"
      },
      "source": [
        "Sama seperti sebelumnya. Pertama saya akan melihat apakah ada nilai `outlier`."
      ]
    },
    {
      "cell_type": "code",
      "execution_count": null,
      "metadata": {
        "colab": {
          "base_uri": "https://localhost:8080/",
          "height": 374
        },
        "id": "AAtX4B2N0OAe",
        "outputId": "ebeacbc3-97d6-4d32-a01a-70dae4118d59"
      },
      "outputs": [
        {
          "output_type": "display_data",
          "data": {
            "text/plain": [
              "<Figure size 288x432 with 1 Axes>"
            ],
            "image/png": "[encoded data removed]"
          },
          "metadata": {
            "needs_background": "light"
          }
        }
      ],
      "source": [
        "df_revenue.loc[df_revenue['messages_count'] > 0, 'messages_count'].plot.box(figsize=(4,6))\n",
        "plt.show()"
      ]
    },
    {
      "cell_type": "markdown",
      "metadata": {
        "id": "_u6kQpDK0OAf"
      },
      "source": [
        "ada nilai `outlier`nya. Karena itu saya akan melihat nilai `upper whisker`nya. "
      ]
    },
    {
      "cell_type": "code",
      "execution_count": null,
      "metadata": {
        "colab": {
          "base_uri": "https://localhost:8080/"
        },
        "id": "ykZfTGHR0OAf",
        "outputId": "a9a2e64c-8194-40f6-f55a-20889d461bf4"
      },
      "outputs": [
        {
          "output_type": "execute_result",
          "data": {
            "text/plain": [
              "count    1806.000000\n",
              "mean       42.110188\n",
              "std        33.122931\n",
              "min         1.000000\n",
              "25%        17.000000\n",
              "50%        34.000000\n",
              "75%        59.000000\n",
              "max       266.000000\n",
              "Name: messages_count, dtype: float64"
            ]
          },
          "metadata": {},
          "execution_count": 61
        }
      ],
      "source": [
        "messages_desc = df_revenue.loc[df_revenue['messages_count'] > 0, 'messages_count'].describe()\n",
        "messages_desc"
      ]
    },
    {
      "cell_type": "code",
      "execution_count": null,
      "metadata": {
        "colab": {
          "base_uri": "https://localhost:8080/"
        },
        "id": "peM333Y10OAf",
        "outputId": "b2a65058-38c5-43be-a5b8-f1635ae66358"
      },
      "outputs": [
        {
          "output_type": "execute_result",
          "data": {
            "text/plain": [
              "122.0"
            ]
          },
          "metadata": {},
          "execution_count": 62
        }
      ],
      "source": [
        "upper_whisker = find_upper_whisker(messages_desc)\n",
        "upper_whisker"
      ]
    },
    {
      "cell_type": "code",
      "execution_count": null,
      "metadata": {
        "colab": {
          "base_uri": "https://localhost:8080/",
          "height": 374
        },
        "id": "raEFMkgQ0OAg",
        "outputId": "e84c81a6-1530-44b8-b9b2-c6d774757800"
      },
      "outputs": [
        {
          "output_type": "display_data",
          "data": {
            "text/plain": [
              "<Figure size 288x432 with 1 Axes>"
            ],
            "image/png": "[encoded data removed]"
          },
          "metadata": {
            "needs_background": "light"
          }
        }
      ],
      "source": [
        "df_revenue.loc[df_revenue['messages_count'] > 0, 'messages_count'].plot.box(figsize=(4,6))\n",
        "plt.hlines(upper_whisker, xmin=0.9, xmax=1.1, color='red')\n",
        "plt.show()"
      ]
    },
    {
      "cell_type": "markdown",
      "metadata": {
        "id": "Q0yCXm5q0OAg"
      },
      "source": [
        "`Upper whisker` berada pada `122`, sesuai dengan teori. Selanjutnya saya kan melakukan filter untuk nilai diatas `upper whisker`, karena nilai `outlier` dapat mempengaruhi nilai `mean`."
      ]
    },
    {
      "cell_type": "code",
      "execution_count": null,
      "metadata": {
        "scrolled": true,
        "colab": {
          "base_uri": "https://localhost:8080/",
          "height": 113
        },
        "id": "d5k3TL9T0OAg",
        "outputId": "52de97f3-feba-4287-9bea-64fd3ca77e4d"
      },
      "outputs": [
        {
          "output_type": "execute_result",
          "data": {
            "text/plain": [
              "Empty DataFrame\n",
              "Columns: [user_id, month, duration, gb_used, messages_count, first_name, last_name, age, city, reg_date, plan, churn_date, monthly_fee, call_over_quota, data_over_quota, messages_over_quota, revenue_per_user_per_month, reg_month, churn_month]\n",
              "Index: []"
            ],
            "text/html": [
              "\n",
              "  <div id=\"df-796f78e5-deaa-4330-b448-0b36ca2151a6\">\n",
              "    <div class=\"colab-df-container\">\n",
              "      <div>\n",
              "<style scoped>\n",
              "    .dataframe tbody tr th:only-of-type {\n",
              "        vertical-align: middle;\n",
              "    }\n",
              "\n",
              "    .dataframe tbody tr th {\n",
              "        vertical-align: top;\n",
              "    }\n",
              "\n",
              "    .dataframe thead th {\n",
              "        text-align: right;\n",
              "    }\n",
              "</style>\n",
              "<table border=\"1\" class=\"dataframe\">\n",
              "  <thead>\n",
              "    <tr style=\"text-align: right;\">\n",
              "      <th></th>\n",
              "      <th>user_id</th>\n",
              "      <th>month</th>\n",
              "      <th>duration</th>\n",
              "      <th>gb_used</th>\n",
              "      <th>messages_count</th>\n",
              "      <th>first_name</th>\n",
              "      <th>last_name</th>\n",
              "      <th>age</th>\n",
              "      <th>city</th>\n",
              "      <th>reg_date</th>\n",
              "      <th>plan</th>\n",
              "      <th>churn_date</th>\n",
              "      <th>monthly_fee</th>\n",
              "      <th>call_over_quota</th>\n",
              "      <th>data_over_quota</th>\n",
              "      <th>messages_over_quota</th>\n",
              "      <th>revenue_per_user_per_month</th>\n",
              "      <th>reg_month</th>\n",
              "      <th>churn_month</th>\n",
              "    </tr>\n",
              "  </thead>\n",
              "  <tbody>\n",
              "  </tbody>\n",
              "</table>\n",
              "</div>\n",
              "      <button class=\"colab-df-convert\" onclick=\"convertToInteractive('df-796f78e5-deaa-4330-b448-0b36ca2151a6')\"\n",
              "              title=\"Convert this dataframe to an interactive table.\"\n",
              "              style=\"display:none;\">\n",
              "        \n",
              "  <svg xmlns=\"http://www.w3.org/2000/svg\" height=\"24px\"viewBox=\"0 0 24 24\"\n",
              "       width=\"24px\">\n",
              "    <path d=\"M0 0h24v24H0V0z\" fill=\"none\"/>\n",
              "    <path d=\"M18.56 5.44l.94 2.06.94-2.06 2.06-.94-2.06-.94-.94-2.06-.94 2.06-2.06.94zm-11 1L8.5 8.5l.94-2.06 2.06-.94-2.06-.94L8.5 2.5l-.94 2.06-2.06.94zm10 10l.94 2.06.94-2.06 2.06-.94-2.06-.94-.94-2.06-.94 2.06-2.06.94z\"/><path d=\"M17.41 7.96l-1.37-1.37c-.4-.4-.92-.59-1.43-.59-.52 0-1.04.2-1.43.59L10.3 9.45l-7.72 7.72c-.78.78-.78 2.05 0 2.83L4 21.41c.39.39.9.59 1.41.59.51 0 1.02-.2 1.41-.59l7.78-7.78 2.81-2.81c.8-.78.8-2.07 0-2.86zM5.41 20L4 18.59l7.72-7.72 1.47 1.35L5.41 20z\"/>\n",
              "  </svg>\n",
              "      </button>\n",
              "      \n",
              "  <style>\n",
              "    .colab-df-container {\n",
              "      display:flex;\n",
              "      flex-wrap:wrap;\n",
              "      gap: 12px;\n",
              "    }\n",
              "\n",
              "    .colab-df-convert {\n",
              "      background-color: #E8F0FE;\n",
              "      border: none;\n",
              "      border-radius: 50%;\n",
              "      cursor: pointer;\n",
              "      display: none;\n",
              "      fill: #1967D2;\n",
              "      height: 32px;\n",
              "      padding: 0 0 0 0;\n",
              "      width: 32px;\n",
              "    }\n",
              "\n",
              "    .colab-df-convert:hover {\n",
              "      background-color: #E2EBFA;\n",
              "      box-shadow: 0px 1px 2px rgba(60, 64, 67, 0.3), 0px 1px 3px 1px rgba(60, 64, 67, 0.15);\n",
              "      fill: #174EA6;\n",
              "    }\n",
              "\n",
              "    [theme=dark] .colab-df-convert {\n",
              "      background-color: #3B4455;\n",
              "      fill: #D2E3FC;\n",
              "    }\n",
              "\n",
              "    [theme=dark] .colab-df-convert:hover {\n",
              "      background-color: #434B5C;\n",
              "      box-shadow: 0px 1px 3px 1px rgba(0, 0, 0, 0.15);\n",
              "      filter: drop-shadow(0px 1px 2px rgba(0, 0, 0, 0.3));\n",
              "      fill: #FFFFFF;\n",
              "    }\n",
              "  </style>\n",
              "\n",
              "      <script>\n",
              "        const buttonEl =\n",
              "          document.querySelector('#df-796f78e5-deaa-4330-b448-0b36ca2151a6 button.colab-df-convert');\n",
              "        buttonEl.style.display =\n",
              "          google.colab.kernel.accessAllowed ? 'block' : 'none';\n",
              "\n",
              "        async function convertToInteractive(key) {\n",
              "          const element = document.querySelector('#df-796f78e5-deaa-4330-b448-0b36ca2151a6');\n",
              "          const dataTable =\n",
              "            await google.colab.kernel.invokeFunction('convertToInteractive',\n",
              "                                                     [key], {});\n",
              "          if (!dataTable) return;\n",
              "\n",
              "          const docLinkHtml = 'Like what you see? Visit the ' +\n",
              "            '<a target=\"_blank\" href=https://colab.research.google.com/notebooks/data_table.ipynb>data table notebook</a>'\n",
              "            + ' to learn more about interactive tables.';\n",
              "          element.innerHTML = '';\n",
              "          dataTable['output_type'] = 'display_data';\n",
              "          await google.colab.output.renderOutput(dataTable, element);\n",
              "          const docLink = document.createElement('div');\n",
              "          docLink.innerHTML = docLinkHtml;\n",
              "          element.appendChild(docLink);\n",
              "        }\n",
              "      </script>\n",
              "    </div>\n",
              "  </div>\n",
              "  "
            ]
          },
          "metadata": {},
          "execution_count": 64
        }
      ],
      "source": [
        "analyze_messages = df_revenue.loc[(df_revenue['messages_count'] <= upper_whisker) & (df_revenue['messages_count'] > 0)].copy()\n",
        "analyze_messages.loc[analyze_messages['messages_count'] > upper_whisker]"
      ]
    },
    {
      "cell_type": "markdown",
      "metadata": {
        "id": "lLc531470OAh"
      },
      "source": [
        "Nilai `outlier` diatas `upper whisker` telah tidak ada. Saatnya melanjutnya ke tahap analisis. "
      ]
    },
    {
      "cell_type": "markdown",
      "metadata": {
        "id": "I_jGNBcv0OAh"
      },
      "source": [
        "##### Mean of Messages Count by Month"
      ]
    },
    {
      "cell_type": "code",
      "execution_count": null,
      "metadata": {
        "colab": {
          "base_uri": "https://localhost:8080/",
          "height": 767
        },
        "id": "O7XenzBm0OAh",
        "outputId": "8812a174-8bad-46f6-9cf3-1a020cabbd17"
      },
      "outputs": [
        {
          "output_type": "display_data",
          "data": {
            "text/plain": [
              "<Figure size 1296x864 with 1 Axes>"
            ],
            "image/png": "[encoded data removed]"
          },
          "metadata": {
            "needs_background": "light"
          }
        }
      ],
      "source": [
        "messages_behavior =  analyze_messages.pivot_table(index=['month'], columns = ['plan'], values='messages_count', aggfunc=['mean'])\n",
        "\n",
        "messages_behavior.columns = ['mean of surf', 'mean of ultimate']\n",
        "plots = messages_behavior.plot(kind='bar', figsize=(18,12))\n",
        "\n",
        "for bar in plots.patches:\n",
        "   \n",
        "    plots.annotate(format(bar.get_height(), '.2f'),\n",
        "                   (bar.get_x() + bar.get_width() / 2,\n",
        "                    bar.get_height()), ha='center', va='center',\n",
        "                   size=10, xytext=(0, 8),\n",
        "                   textcoords='offset points')\n",
        "\n",
        "\n",
        "plt.ylabel('Messages Count', size=12)\n",
        "plt.xlabel('Month', size=12)\n",
        "plt.title('Mean of Messages Count by Month', size=15)\n",
        "\n",
        "plt.show()"
      ]
    },
    {
      "cell_type": "markdown",
      "metadata": {
        "id": "UduGT8NG0OAi"
      },
      "source": [
        "Secara umum dari bulan pertama hingga ke bulan dua belas cenderung terjadi peningkatan bertahap dari penggunaan layanan `messages`. Rata-rata tertinggi penggunaan `messages` per bulan berada pada angka `47.62`. Angka tersebut masih dibawah kuota yang diberikan oleh paket `surf`, apalagi paket `ultimate` yang kuota layanan `messages`nya sebanyak `1,000`. Jika dilihat dari `histogram` pengguna paket `ultimate` cenderung lebih banyak menggunakan layanan `messages`. Mungkin karena kuota layanan `messages` mereka lebih besar."
      ]
    },
    {
      "cell_type": "markdown",
      "metadata": {
        "id": "zLo1RH8x0OAi"
      },
      "source": [
        "##### Variance of Messages Count by Month"
      ]
    },
    {
      "cell_type": "code",
      "execution_count": null,
      "metadata": {
        "colab": {
          "base_uri": "https://localhost:8080/",
          "height": 767
        },
        "id": "9336y48c0OAi",
        "outputId": "ef6b0624-89de-486f-bfd1-b68e8100bf12"
      },
      "outputs": [
        {
          "output_type": "display_data",
          "data": {
            "text/plain": [
              "<Figure size 1296x864 with 1 Axes>"
            ],
            "image/png": "[encoded data removed]"
          },
          "metadata": {
            "needs_background": "light"
          }
        }
      ],
      "source": [
        "messages_behavior2 =  analyze_messages.pivot_table(index=['month'], columns = ['plan'], values='messages_count', aggfunc=[py.var])\n",
        "messages_behavior2.columns = ['variance of surf', 'variance of ultimate']\n",
        "plots = messages_behavior2.plot(kind='bar', figsize=(18,12))\n",
        "\n",
        "for bar in plots.patches:\n",
        "   \n",
        "    plots.annotate(format(bar.get_height(), '.2f'),\n",
        "                   (bar.get_x() + bar.get_width() / 2,\n",
        "                    bar.get_height()), ha='center', va='center',\n",
        "                   size=10, xytext=(0, 8),\n",
        "                   textcoords='offset points')\n",
        "\n",
        "\n",
        "plt.ylabel('Messages Count', size=12)\n",
        "plt.xlabel('Month', size=12)\n",
        "plt.title('Variance of Messages Count by Month', size=15)\n",
        "\n",
        "plt.show()"
      ]
    },
    {
      "cell_type": "markdown",
      "metadata": {
        "id": "l4gx5B0I0OAj"
      },
      "source": [
        "Secara umum pada distribusi nilai `variance` terjadi pola yang mirip dengan histogram `mean`, yaitu peningkatan bertahap dari bulan pertama hingga bulan ke dua belas. Sehingga dispersi atau persebaran data terbesar terjadi pada bulan dua belas pada customer paket `ultimate`. \n",
        "\n",
        "Selain itu ada hal yang menarik. `variance` paket `surf` pada bulan pertama nilainya `0`. Hal ini mungkin disebabkan karena datanya hanya ada 1, sehingga nilai `variance` nya tidak ada. Indikasi lainya karena nilai `mean`nya `21.00`. Kecil kemungkinan bisa terjadi nilai rata-rata yang terdiri dari beberapa data nilainya bulat tanpa desimal dibelakang koma. Saya akan memeriksa hal tersebut pada cell dibawah ini."
      ]
    },
    {
      "cell_type": "code",
      "execution_count": null,
      "metadata": {
        "colab": {
          "base_uri": "https://localhost:8080/",
          "height": 113
        },
        "id": "YB658NmZ0OAj",
        "outputId": "503a2f12-095d-4e64-c20d-f9ccbe002929"
      },
      "outputs": [
        {
          "output_type": "execute_result",
          "data": {
            "text/plain": [
              "Empty DataFrame\n",
              "Columns: [user_id, month, duration, gb_used, messages_count, first_name, last_name, age, city, reg_date, plan, churn_date, monthly_fee, call_over_quota, data_over_quota, messages_over_quota, revenue_per_user_per_month, reg_month, churn_month]\n",
              "Index: []"
            ],
            "text/html": [
              "\n",
              "  <div id=\"df-7fa45e16-c8ca-4035-b6b9-2030367523b9\">\n",
              "    <div class=\"colab-df-container\">\n",
              "      <div>\n",
              "<style scoped>\n",
              "    .dataframe tbody tr th:only-of-type {\n",
              "        vertical-align: middle;\n",
              "    }\n",
              "\n",
              "    .dataframe tbody tr th {\n",
              "        vertical-align: top;\n",
              "    }\n",
              "\n",
              "    .dataframe thead th {\n",
              "        text-align: right;\n",
              "    }\n",
              "</style>\n",
              "<table border=\"1\" class=\"dataframe\">\n",
              "  <thead>\n",
              "    <tr style=\"text-align: right;\">\n",
              "      <th></th>\n",
              "      <th>user_id</th>\n",
              "      <th>month</th>\n",
              "      <th>duration</th>\n",
              "      <th>gb_used</th>\n",
              "      <th>messages_count</th>\n",
              "      <th>first_name</th>\n",
              "      <th>last_name</th>\n",
              "      <th>age</th>\n",
              "      <th>city</th>\n",
              "      <th>reg_date</th>\n",
              "      <th>plan</th>\n",
              "      <th>churn_date</th>\n",
              "      <th>monthly_fee</th>\n",
              "      <th>call_over_quota</th>\n",
              "      <th>data_over_quota</th>\n",
              "      <th>messages_over_quota</th>\n",
              "      <th>revenue_per_user_per_month</th>\n",
              "      <th>reg_month</th>\n",
              "      <th>churn_month</th>\n",
              "    </tr>\n",
              "  </thead>\n",
              "  <tbody>\n",
              "  </tbody>\n",
              "</table>\n",
              "</div>\n",
              "      <button class=\"colab-df-convert\" onclick=\"convertToInteractive('df-7fa45e16-c8ca-4035-b6b9-2030367523b9')\"\n",
              "              title=\"Convert this dataframe to an interactive table.\"\n",
              "              style=\"display:none;\">\n",
              "        \n",
              "  <svg xmlns=\"http://www.w3.org/2000/svg\" height=\"24px\"viewBox=\"0 0 24 24\"\n",
              "       width=\"24px\">\n",
              "    <path d=\"M0 0h24v24H0V0z\" fill=\"none\"/>\n",
              "    <path d=\"M18.56 5.44l.94 2.06.94-2.06 2.06-.94-2.06-.94-.94-2.06-.94 2.06-2.06.94zm-11 1L8.5 8.5l.94-2.06 2.06-.94-2.06-.94L8.5 2.5l-.94 2.06-2.06.94zm10 10l.94 2.06.94-2.06 2.06-.94-2.06-.94-.94-2.06-.94 2.06-2.06.94z\"/><path d=\"M17.41 7.96l-1.37-1.37c-.4-.4-.92-.59-1.43-.59-.52 0-1.04.2-1.43.59L10.3 9.45l-7.72 7.72c-.78.78-.78 2.05 0 2.83L4 21.41c.39.39.9.59 1.41.59.51 0 1.02-.2 1.41-.59l7.78-7.78 2.81-2.81c.8-.78.8-2.07 0-2.86zM5.41 20L4 18.59l7.72-7.72 1.47 1.35L5.41 20z\"/>\n",
              "  </svg>\n",
              "      </button>\n",
              "      \n",
              "  <style>\n",
              "    .colab-df-container {\n",
              "      display:flex;\n",
              "      flex-wrap:wrap;\n",
              "      gap: 12px;\n",
              "    }\n",
              "\n",
              "    .colab-df-convert {\n",
              "      background-color: #E8F0FE;\n",
              "      border: none;\n",
              "      border-radius: 50%;\n",
              "      cursor: pointer;\n",
              "      display: none;\n",
              "      fill: #1967D2;\n",
              "      height: 32px;\n",
              "      padding: 0 0 0 0;\n",
              "      width: 32px;\n",
              "    }\n",
              "\n",
              "    .colab-df-convert:hover {\n",
              "      background-color: #E2EBFA;\n",
              "      box-shadow: 0px 1px 2px rgba(60, 64, 67, 0.3), 0px 1px 3px 1px rgba(60, 64, 67, 0.15);\n",
              "      fill: #174EA6;\n",
              "    }\n",
              "\n",
              "    [theme=dark] .colab-df-convert {\n",
              "      background-color: #3B4455;\n",
              "      fill: #D2E3FC;\n",
              "    }\n",
              "\n",
              "    [theme=dark] .colab-df-convert:hover {\n",
              "      background-color: #434B5C;\n",
              "      box-shadow: 0px 1px 3px 1px rgba(0, 0, 0, 0.15);\n",
              "      filter: drop-shadow(0px 1px 2px rgba(0, 0, 0, 0.3));\n",
              "      fill: #FFFFFF;\n",
              "    }\n",
              "  </style>\n",
              "\n",
              "      <script>\n",
              "        const buttonEl =\n",
              "          document.querySelector('#df-7fa45e16-c8ca-4035-b6b9-2030367523b9 button.colab-df-convert');\n",
              "        buttonEl.style.display =\n",
              "          google.colab.kernel.accessAllowed ? 'block' : 'none';\n",
              "\n",
              "        async function convertToInteractive(key) {\n",
              "          const element = document.querySelector('#df-7fa45e16-c8ca-4035-b6b9-2030367523b9');\n",
              "          const dataTable =\n",
              "            await google.colab.kernel.invokeFunction('convertToInteractive',\n",
              "                                                     [key], {});\n",
              "          if (!dataTable) return;\n",
              "\n",
              "          const docLinkHtml = 'Like what you see? Visit the ' +\n",
              "            '<a target=\"_blank\" href=https://colab.research.google.com/notebooks/data_table.ipynb>data table notebook</a>'\n",
              "            + ' to learn more about interactive tables.';\n",
              "          element.innerHTML = '';\n",
              "          dataTable['output_type'] = 'display_data';\n",
              "          await google.colab.output.renderOutput(dataTable, element);\n",
              "          const docLink = document.createElement('div');\n",
              "          docLink.innerHTML = docLinkHtml;\n",
              "          element.appendChild(docLink);\n",
              "        }\n",
              "      </script>\n",
              "    </div>\n",
              "  </div>\n",
              "  "
            ]
          },
          "metadata": {},
          "execution_count": 67
        }
      ],
      "source": [
        "analyze_messages.loc[(analyze_messages['plan'] == 'surf') & (analyze_messages['month'] == 1)]"
      ]
    },
    {
      "cell_type": "markdown",
      "metadata": {
        "id": "yRUKrXeP0OAj"
      },
      "source": [
        "Betul hanya ada 1 data pengguna paket `surf` yang menggunakan layanan `messages` dibulan pertama. "
      ]
    },
    {
      "cell_type": "markdown",
      "metadata": {
        "id": "Lsb-7Bw30OAk"
      },
      "source": [
        "##### Standard Deviation of Messages Count by Month"
      ]
    },
    {
      "cell_type": "code",
      "execution_count": null,
      "metadata": {
        "colab": {
          "base_uri": "https://localhost:8080/",
          "height": 767
        },
        "id": "uc1kTQS_0OAk",
        "outputId": "8392023d-b36a-4e41-b9e1-313339966b7b"
      },
      "outputs": [
        {
          "output_type": "display_data",
          "data": {
            "text/plain": [
              "<Figure size 1296x864 with 1 Axes>"
            ],
            "image/png": "[encoded data removed]"
          },
          "metadata": {
            "needs_background": "light"
          }
        }
      ],
      "source": [
        "messages_behavior3 =  analyze_messages.pivot_table(index=['month'], columns = ['plan'], values='messages_count', aggfunc=[py.std])\n",
        "messages_behavior3.columns = ['standart deviation of surf', 'standart deviation of ultimate']\n",
        "plots = messages_behavior3.plot(kind='bar', figsize=(18,12))\n",
        "\n",
        "for bar in plots.patches:\n",
        "   \n",
        "    plots.annotate(format(bar.get_height(), '.2f'),\n",
        "                   (bar.get_x() + bar.get_width() / 2,\n",
        "                    bar.get_height()), ha='center', va='center',\n",
        "                   size=10, xytext=(0, 8),\n",
        "                   textcoords='offset points')\n",
        "\n",
        "\n",
        "plt.ylabel('Messages Count', size=12)\n",
        "plt.xlabel('Month', size=12)\n",
        "plt.title('Standart Deviation of Messages Count by Month', size=15)\n",
        "\n",
        "plt.show()"
      ]
    },
    {
      "cell_type": "markdown",
      "metadata": {
        "id": "ANDKQl1h0OAk"
      },
      "source": [
        "Pola distribusi pada `standart deviation` kurang lebih serupa karena `standart deviation` adalah akar dari `variance`. Nilai simpangan tertinggi pada paket `ultimate` dibulan ke-12, sebesar `30.12`. "
      ]
    },
    {
      "cell_type": "markdown",
      "metadata": {
        "id": "KEuAnzbt0OAk"
      },
      "source": [
        "#### Internet"
      ]
    },
    {
      "cell_type": "markdown",
      "metadata": {
        "id": "qbM27b8_0OAk"
      },
      "source": [
        "Seperti yang sebelumnya pertama saya akan melihat nilai `outlier`nya."
      ]
    },
    {
      "cell_type": "code",
      "execution_count": null,
      "metadata": {
        "colab": {
          "base_uri": "https://localhost:8080/",
          "height": 375
        },
        "id": "Euov7qcQ0OAl",
        "outputId": "cb7d238c-5d54-4a75-b581-9266f2f02cc7"
      },
      "outputs": [
        {
          "output_type": "display_data",
          "data": {
            "text/plain": [
              "<Figure size 288x432 with 1 Axes>"
            ],
            "image/png": "[encoded data removed]"
          },
          "metadata": {
            "needs_background": "light"
          }
        }
      ],
      "source": [
        "df_revenue.loc[df_revenue['gb_used'] > 0, 'gb_used'].plot.box(figsize=(4,6))\n",
        "plt.show()"
      ]
    },
    {
      "cell_type": "markdown",
      "metadata": {
        "id": "AL7t6Ns10OAl"
      },
      "source": [
        "dari visualisasi `boxplot` terlihat masih ada nilai `outlier`, namun sepertinya tidak sebanyak pada distribusi `calls` dan `messages`."
      ]
    },
    {
      "cell_type": "code",
      "execution_count": null,
      "metadata": {
        "colab": {
          "base_uri": "https://localhost:8080/"
        },
        "id": "AUC4J1HA0OAl",
        "outputId": "aca36920-b459-43cd-e3f3-7c158d04d030"
      },
      "outputs": [
        {
          "output_type": "execute_result",
          "data": {
            "text/plain": [
              "count    2277.000000\n",
              "mean       16.989021\n",
              "std         7.693683\n",
              "min         1.000000\n",
              "25%        13.000000\n",
              "50%        17.000000\n",
              "75%        21.000000\n",
              "max        70.000000\n",
              "Name: gb_used, dtype: float64"
            ]
          },
          "metadata": {},
          "execution_count": 70
        }
      ],
      "source": [
        "internet_desc = df_revenue.loc[df_revenue['gb_used'] > 0, 'gb_used'].describe()\n",
        "internet_desc"
      ]
    },
    {
      "cell_type": "code",
      "execution_count": null,
      "metadata": {
        "colab": {
          "base_uri": "https://localhost:8080/"
        },
        "id": "cTJgR1xj0OAl",
        "outputId": "59323663-b27f-4407-f637-3961959040dc"
      },
      "outputs": [
        {
          "output_type": "execute_result",
          "data": {
            "text/plain": [
              "33.0"
            ]
          },
          "metadata": {},
          "execution_count": 71
        }
      ],
      "source": [
        "internet_upp_whis = find_upper_whisker(internet_desc)\n",
        "internet_upp_whis"
      ]
    },
    {
      "cell_type": "markdown",
      "metadata": {
        "id": "5vASAQP80OAl"
      },
      "source": [
        "`Upper whisker`nya berada pada nilai 33."
      ]
    },
    {
      "cell_type": "code",
      "execution_count": null,
      "metadata": {
        "colab": {
          "base_uri": "https://localhost:8080/",
          "height": 375
        },
        "id": "J1S12dY10OAl",
        "outputId": "0129f213-a0d2-467a-c231-114bb228ce75"
      },
      "outputs": [
        {
          "output_type": "display_data",
          "data": {
            "text/plain": [
              "<Figure size 288x432 with 1 Axes>"
            ],
            "image/png": "[encoded data removed]"
          },
          "metadata": {
            "needs_background": "light"
          }
        }
      ],
      "source": [
        "df_revenue.loc[df_revenue['gb_used'] > 0, 'gb_used'].plot.box(figsize=(4,6))\n",
        "plt.hlines(internet_upp_whis, xmin=0.9, xmax=1.1, color='red')\n",
        "plt.show()"
      ]
    },
    {
      "cell_type": "markdown",
      "metadata": {
        "id": "1CpdM2SX0OAm"
      },
      "source": [
        "`Upper whisker` betul berada pada `33`, sesuai dengan teori. Selanjutnya saya kan melakukan filter untuk nilai diatas `upper whisker`, karena nilai `outlier` dapat mempengaruhi nilai `mean`."
      ]
    },
    {
      "cell_type": "code",
      "execution_count": null,
      "metadata": {
        "colab": {
          "base_uri": "https://localhost:8080/",
          "height": 113
        },
        "id": "rg95vDv60OAm",
        "outputId": "fe4be322-8cd1-479d-af6b-4d414b8fe2f4"
      },
      "outputs": [
        {
          "output_type": "execute_result",
          "data": {
            "text/plain": [
              "Empty DataFrame\n",
              "Columns: [user_id, month, duration, gb_used, messages_count, first_name, last_name, age, city, reg_date, plan, churn_date, monthly_fee, call_over_quota, data_over_quota, messages_over_quota, revenue_per_user_per_month, reg_month, churn_month]\n",
              "Index: []"
            ],
            "text/html": [
              "\n",
              "  <div id=\"df-e15fe2ab-a6fe-482b-b0be-fd0dcdfb2e01\">\n",
              "    <div class=\"colab-df-container\">\n",
              "      <div>\n",
              "<style scoped>\n",
              "    .dataframe tbody tr th:only-of-type {\n",
              "        vertical-align: middle;\n",
              "    }\n",
              "\n",
              "    .dataframe tbody tr th {\n",
              "        vertical-align: top;\n",
              "    }\n",
              "\n",
              "    .dataframe thead th {\n",
              "        text-align: right;\n",
              "    }\n",
              "</style>\n",
              "<table border=\"1\" class=\"dataframe\">\n",
              "  <thead>\n",
              "    <tr style=\"text-align: right;\">\n",
              "      <th></th>\n",
              "      <th>user_id</th>\n",
              "      <th>month</th>\n",
              "      <th>duration</th>\n",
              "      <th>gb_used</th>\n",
              "      <th>messages_count</th>\n",
              "      <th>first_name</th>\n",
              "      <th>last_name</th>\n",
              "      <th>age</th>\n",
              "      <th>city</th>\n",
              "      <th>reg_date</th>\n",
              "      <th>plan</th>\n",
              "      <th>churn_date</th>\n",
              "      <th>monthly_fee</th>\n",
              "      <th>call_over_quota</th>\n",
              "      <th>data_over_quota</th>\n",
              "      <th>messages_over_quota</th>\n",
              "      <th>revenue_per_user_per_month</th>\n",
              "      <th>reg_month</th>\n",
              "      <th>churn_month</th>\n",
              "    </tr>\n",
              "  </thead>\n",
              "  <tbody>\n",
              "  </tbody>\n",
              "</table>\n",
              "</div>\n",
              "      <button class=\"colab-df-convert\" onclick=\"convertToInteractive('df-e15fe2ab-a6fe-482b-b0be-fd0dcdfb2e01')\"\n",
              "              title=\"Convert this dataframe to an interactive table.\"\n",
              "              style=\"display:none;\">\n",
              "        \n",
              "  <svg xmlns=\"http://www.w3.org/2000/svg\" height=\"24px\"viewBox=\"0 0 24 24\"\n",
              "       width=\"24px\">\n",
              "    <path d=\"M0 0h24v24H0V0z\" fill=\"none\"/>\n",
              "    <path d=\"M18.56 5.44l.94 2.06.94-2.06 2.06-.94-2.06-.94-.94-2.06-.94 2.06-2.06.94zm-11 1L8.5 8.5l.94-2.06 2.06-.94-2.06-.94L8.5 2.5l-.94 2.06-2.06.94zm10 10l.94 2.06.94-2.06 2.06-.94-2.06-.94-.94-2.06-.94 2.06-2.06.94z\"/><path d=\"M17.41 7.96l-1.37-1.37c-.4-.4-.92-.59-1.43-.59-.52 0-1.04.2-1.43.59L10.3 9.45l-7.72 7.72c-.78.78-.78 2.05 0 2.83L4 21.41c.39.39.9.59 1.41.59.51 0 1.02-.2 1.41-.59l7.78-7.78 2.81-2.81c.8-.78.8-2.07 0-2.86zM5.41 20L4 18.59l7.72-7.72 1.47 1.35L5.41 20z\"/>\n",
              "  </svg>\n",
              "      </button>\n",
              "      \n",
              "  <style>\n",
              "    .colab-df-container {\n",
              "      display:flex;\n",
              "      flex-wrap:wrap;\n",
              "      gap: 12px;\n",
              "    }\n",
              "\n",
              "    .colab-df-convert {\n",
              "      background-color: #E8F0FE;\n",
              "      border: none;\n",
              "      border-radius: 50%;\n",
              "      cursor: pointer;\n",
              "      display: none;\n",
              "      fill: #1967D2;\n",
              "      height: 32px;\n",
              "      padding: 0 0 0 0;\n",
              "      width: 32px;\n",
              "    }\n",
              "\n",
              "    .colab-df-convert:hover {\n",
              "      background-color: #E2EBFA;\n",
              "      box-shadow: 0px 1px 2px rgba(60, 64, 67, 0.3), 0px 1px 3px 1px rgba(60, 64, 67, 0.15);\n",
              "      fill: #174EA6;\n",
              "    }\n",
              "\n",
              "    [theme=dark] .colab-df-convert {\n",
              "      background-color: #3B4455;\n",
              "      fill: #D2E3FC;\n",
              "    }\n",
              "\n",
              "    [theme=dark] .colab-df-convert:hover {\n",
              "      background-color: #434B5C;\n",
              "      box-shadow: 0px 1px 3px 1px rgba(0, 0, 0, 0.15);\n",
              "      filter: drop-shadow(0px 1px 2px rgba(0, 0, 0, 0.3));\n",
              "      fill: #FFFFFF;\n",
              "    }\n",
              "  </style>\n",
              "\n",
              "      <script>\n",
              "        const buttonEl =\n",
              "          document.querySelector('#df-e15fe2ab-a6fe-482b-b0be-fd0dcdfb2e01 button.colab-df-convert');\n",
              "        buttonEl.style.display =\n",
              "          google.colab.kernel.accessAllowed ? 'block' : 'none';\n",
              "\n",
              "        async function convertToInteractive(key) {\n",
              "          const element = document.querySelector('#df-e15fe2ab-a6fe-482b-b0be-fd0dcdfb2e01');\n",
              "          const dataTable =\n",
              "            await google.colab.kernel.invokeFunction('convertToInteractive',\n",
              "                                                     [key], {});\n",
              "          if (!dataTable) return;\n",
              "\n",
              "          const docLinkHtml = 'Like what you see? Visit the ' +\n",
              "            '<a target=\"_blank\" href=https://colab.research.google.com/notebooks/data_table.ipynb>data table notebook</a>'\n",
              "            + ' to learn more about interactive tables.';\n",
              "          element.innerHTML = '';\n",
              "          dataTable['output_type'] = 'display_data';\n",
              "          await google.colab.output.renderOutput(dataTable, element);\n",
              "          const docLink = document.createElement('div');\n",
              "          docLink.innerHTML = docLinkHtml;\n",
              "          element.appendChild(docLink);\n",
              "        }\n",
              "      </script>\n",
              "    </div>\n",
              "  </div>\n",
              "  "
            ]
          },
          "metadata": {},
          "execution_count": 73
        }
      ],
      "source": [
        "analyze_internet = df_revenue.loc[(df_revenue['gb_used'] <= upper_whisker) & (df_revenue['gb_used'] > 0)].copy()\n",
        "analyze_internet.loc[analyze_internet['gb_used'] > upper_whisker]"
      ]
    },
    {
      "cell_type": "markdown",
      "metadata": {
        "id": "ZZYvi3wf0OAm"
      },
      "source": [
        "Nilai `outlier`nya telah tidak ada. Karena itu saya akan melanjutkan ke tahap analisis."
      ]
    },
    {
      "cell_type": "markdown",
      "metadata": {
        "id": "dw0oaBp90OAm"
      },
      "source": [
        "##### Mean of Internet by Month"
      ]
    },
    {
      "cell_type": "code",
      "execution_count": null,
      "metadata": {
        "scrolled": false,
        "colab": {
          "base_uri": "https://localhost:8080/",
          "height": 767
        },
        "id": "VjSgam090OAm",
        "outputId": "481e2998-7bf3-46c8-f27e-3b7cf581217d"
      },
      "outputs": [
        {
          "output_type": "display_data",
          "data": {
            "text/plain": [
              "<Figure size 1296x864 with 1 Axes>"
            ],
            "image/png": "[encoded data removed]"
          },
          "metadata": {
            "needs_background": "light"
          }
        }
      ],
      "source": [
        "internet_behavior =  analyze_internet.pivot_table(index=['month'], columns = ['plan'], values='messages_count', aggfunc=['mean'])\n",
        "\n",
        "internet_behavior.columns = ['mean of surf', 'mean of ultimate']\n",
        "plots = internet_behavior.plot(kind='bar', figsize=(18,12))\n",
        "\n",
        "for bar in plots.patches:\n",
        "   \n",
        "    plots.annotate(format(bar.get_height(), '.2f'),\n",
        "                   (bar.get_x() + bar.get_width() / 2,\n",
        "                    bar.get_height()), ha='center', va='center',\n",
        "                   size=10, xytext=(0, 8),\n",
        "                   textcoords='offset points')\n",
        "\n",
        "\n",
        "plt.ylabel('Intenet Data Used in GB', size=12)\n",
        "plt.xlabel('Month', size=12)\n",
        "plt.title('Mean of Intenet Data Used in GB by Month', size=15)\n",
        "\n",
        "plt.show()"
      ]
    },
    {
      "cell_type": "markdown",
      "metadata": {
        "id": "LJK4FDOm0OAm"
      },
      "source": [
        "Pola distribusi penggunaan data `internet` dalam setiap bulan cukup serupa dengan pola distribusi `messages`. Dari awal bulan pertama hingga bulan kedua belas mengalami peningkatan bertahap, hingga memuncak dibulan kedua belas. Ada keunikan yang hanya muncul distribusi `internet`, yaitu nilai rata-ratanya diatas batas kuotanya. Baik pada konsumen paket `surf` yang batas kuotanya `15GB` dan paket `ultimate` yang batas kuotanya `30GB`. Mungkin hal ini menjadi indikasi layanan `internet` merupakan layanan yang paling diminati diantara ketiga layanan yang ada (`calls`, `messages`, dan `internet`).\n",
        "\n",
        "Selain itu ada keunikan lain yaitu hanya pada distribusi `internet` rata-rata nilai konsumen paket `ultimate` secara konsisten setiap bulan selalu lebih tinggi dibandingkan konsumen paket `surf`."
      ]
    },
    {
      "cell_type": "markdown",
      "metadata": {
        "id": "VbdB1cUo0OAn"
      },
      "source": [
        "##### Variance of Internet by Month"
      ]
    },
    {
      "cell_type": "code",
      "execution_count": null,
      "metadata": {
        "scrolled": false,
        "colab": {
          "base_uri": "https://localhost:8080/",
          "height": 767
        },
        "id": "aREjLN9M0OAn",
        "outputId": "e9fd3caf-5dbd-44c0-c20b-fb3ff26a4f2f"
      },
      "outputs": [
        {
          "output_type": "display_data",
          "data": {
            "text/plain": [
              "<Figure size 1296x864 with 1 Axes>"
            ],
            "image/png": "[encoded data removed]"
          },
          "metadata": {
            "needs_background": "light"
          }
        }
      ],
      "source": [
        "internet_behavior2 =  analyze_internet.pivot_table(index=['month'], columns = ['plan'], values='gb_used', aggfunc=[py.var])\n",
        "internet_behavior2.columns = ['variance of surf', 'variance of ultimate']\n",
        "plots = internet_behavior2.plot(kind='bar', figsize=(18,12))\n",
        "\n",
        "for bar in plots.patches:\n",
        "   \n",
        "    plots.annotate(format(bar.get_height(), '.2f'),\n",
        "                   (bar.get_x() + bar.get_width() / 2,\n",
        "                    bar.get_height()), ha='center', va='center',\n",
        "                   size=10, xytext=(0, 8),\n",
        "                   textcoords='offset points')\n",
        "\n",
        "\n",
        "plt.ylabel('Internet Used in GB', size=12)\n",
        "plt.xlabel('Month', size=12)\n",
        "plt.title('Variance of Internet Used in GB by Month', size=15)\n",
        "\n",
        "plt.show()"
      ]
    },
    {
      "cell_type": "markdown",
      "metadata": {
        "id": "t93QPve_0OAn"
      },
      "source": [
        "Pada distribusi `variance`nya tidak seperti distribusi `mean` yang meningkat secara bertahap hingga akhir bulan. Hal ini menunjukan nilai tingginya `variance` tidak selalu diikuti dengan tingginya nilai `mean`. Hal tersebut hanya menunjukan ada disparitas atau sebaran nilai yang besar. Hal yang menarik nilai `variance` paket `ultimate` dibulan ketiga mengalami lonjakan yang menjadi nilai `variance` tertinggi."
      ]
    },
    {
      "cell_type": "markdown",
      "metadata": {
        "id": "9FdAI9ho0OAo"
      },
      "source": [
        "##### Standart Deviation of Internet by Month"
      ]
    },
    {
      "cell_type": "code",
      "execution_count": null,
      "metadata": {
        "colab": {
          "base_uri": "https://localhost:8080/",
          "height": 767
        },
        "id": "XQ85Ky9O0OAo",
        "outputId": "209afad2-9787-4980-fec8-a1c57834fdee"
      },
      "outputs": [
        {
          "output_type": "display_data",
          "data": {
            "text/plain": [
              "<Figure size 1296x864 with 1 Axes>"
            ],
            "image/png": "[encoded data removed]"
          },
          "metadata": {
            "needs_background": "light"
          }
        }
      ],
      "source": [
        "internet_behavior3 =  analyze_internet.pivot_table(index=['month'], columns = ['plan'], values='gb_used', aggfunc=[py.std])\n",
        "internet_behavior3.columns = ['Standart Deviation of Surf', 'Standart Deviation of Ultimate']\n",
        "plots = internet_behavior3.plot(kind='bar', figsize=(18,12))\n",
        "\n",
        "for bar in plots.patches:\n",
        "   \n",
        "    plots.annotate(format(bar.get_height(), '.2f'),\n",
        "                   (bar.get_x() + bar.get_width() / 2,\n",
        "                    bar.get_height()), ha='center', va='center',\n",
        "                   size=10, xytext=(0, 8),\n",
        "                   textcoords='offset points')\n",
        "\n",
        "\n",
        "plt.ylabel('Internet Used in GB', size=12)\n",
        "plt.xlabel('Month', size=12)\n",
        "plt.title('Standart Deviation of Internet Used in GB by Month', size=15)\n",
        "\n",
        "plt.show()"
      ]
    },
    {
      "cell_type": "markdown",
      "metadata": {
        "id": "KFoQPa0o0OAp"
      },
      "source": [
        "Pola secara umum pada `standart deviation` serupa dengan pola `variance` karena nilai `standart deviation` adalah akar dari `variance`. Nilai `standart deviation` tertinggi terjadi pada bulan ketiga pada pengguna paket `ultimate` dengan simpangan sebesar  `11.77`."
      ]
    },
    {
      "cell_type": "markdown",
      "metadata": {
        "id": "Tfc3didN0OAp"
      },
      "source": [
        "## Uji Hipotesis"
      ]
    },
    {
      "cell_type": "markdown",
      "metadata": {
        "id": "9LPPKhV30OAq"
      },
      "source": [
        "### Pendapatan Megaline dari Konsumen `Ultimate` Lebih Besar Dibandingkan Pendapatan Dari Konsumen `Surf`"
      ]
    },
    {
      "cell_type": "markdown",
      "metadata": {
        "id": "K-JQXlN10OAq"
      },
      "source": [
        "Berdasarkan dari data rata-rata penggunaan layanan perbulan. Sepertinya terlihat konsumen paket `ultimate` pengunaan layanannya lebih tinggi relatif lebih tinggi, terutama pada penggunaan layanan `internet`. Hal terebut mungkin disebabkan kuota paket `ultimate` memiliki kuota yang lebih besar. Disertai juga dengan biaya per bulan paket `ultimate` yang 3x lipat lebih besar dibandingkan biaya per bulan paket `surf`.  Namun apakah konsumen paket `ultimate` memberikan pendapatan yang lebih besar kepada `Megaline`? Hal tersebut akan diuji pada tahap ini.\n",
        "\n",
        "Sebelum memulai pengujian statistik, Saya akan membuat hipotesisnya. Berikut hipotesisnya:\n",
        "- Hipotesis Nol: Pendapatan rata-rata Megaline dari konsumen paket `Ultimate` sama dibandingkan pendapatan rata-rata dari konsumen paket `Surf`.\n",
        "- Hipotesis Alternatif: Pendapatan rata-rata Megaline dari konsumen paket `Ultimate` tidak sama dibandingkan pendapatan rata-rata dari konsumen paket `Surf`."
      ]
    },
    {
      "cell_type": "code",
      "execution_count": null,
      "metadata": {
        "id": "8QvW3IBs0OAq"
      },
      "outputs": [],
      "source": [
        "df_revenue_ult = df_revenue.loc[df_revenue['plan'] == 'ultimate'].copy()\n",
        "df_revenue_surf = df_revenue.loc[df_revenue['plan'] == 'surf'].copy()"
      ]
    },
    {
      "cell_type": "code",
      "execution_count": null,
      "metadata": {
        "id": "GFs4_bMN0OAr"
      },
      "outputs": [],
      "source": [
        "def h_testing_ind(samp1, samp2, alpha, tail) :\n",
        "    result = st.ttest_ind(samp1, samp2)\n",
        "    pval = result.pvalue\n",
        "    \n",
        "    if tail == 1 :\n",
        "        if (samp1.mean() > samp2.mean()) and (alpha > pval):\n",
        "            print('P-Value adalah: '+ str(pval/2))\n",
        "            print ('Kita menolak hipotesis nol')\n",
        "            return\n",
        "        else :\n",
        "            print('P-Value adalah: '+ str(pval/2))\n",
        "            print ('Kita tidak dapat menolak hipotesis nol')\n",
        "            return\n",
        "    elif tail == 2:\n",
        "        if alpha > pval :\n",
        "            print('P-Value adalah: '+ str(pval))\n",
        "            print ('Kita menolak hipotesis nol')\n",
        "            return\n",
        "        else :\n",
        "            print('P-Value adalah: '+ str(pval))\n",
        "            print ('Kita tidak dapat menolak hipotesis nol')\n",
        "            return\n",
        "    else :\n",
        "        print('Error, parameter tail hanya antara 1 atau 2')\n",
        "        return"
      ]
    },
    {
      "cell_type": "markdown",
      "metadata": {
        "id": "eFHlJbp70OAr"
      },
      "source": [
        "Karena saya berencana melakukan pengujian lebih dari satu kali, maka saya akan membuat fungsi terlebih dahulu."
      ]
    },
    {
      "cell_type": "code",
      "execution_count": null,
      "metadata": {
        "scrolled": true,
        "colab": {
          "base_uri": "https://localhost:8080/"
        },
        "id": "YbxbvAx70OAr",
        "outputId": "247870bb-3602-49ff-c5dd-95e5cbe0facf"
      },
      "outputs": [
        {
          "output_type": "stream",
          "name": "stdout",
          "text": [
            "P-Value adalah: 2.862674510698644e-08\n",
            "Kita menolak hipotesis nol\n"
          ]
        }
      ],
      "source": [
        "h_testing_ind(df_revenue_ult['revenue_per_user_per_month'], df_revenue_surf['revenue_per_user_per_month'], 0.05, 2)"
      ]
    },
    {
      "cell_type": "markdown",
      "metadata": {
        "id": "wGAYz1cF0OAs"
      },
      "source": [
        "`P-Value`nya lebih kecil dari `alpha` yang ditentukan `0.05` atau `5%`. Artinya rata-rata pendapatan `Megaline` dari konsumen paket `ultimate` secara signifikan `tidak sama` dengan rata-rata pendapatan  dari konsumen paket `surf`. Saya menduga rata-rata konsumen paket `ultimate` lebih tinggi dibandingkan konsumen paket `surf`. Karena biaya bulanan `ultimate` yang jauh lebih tinggi dibandingkan biaya bualanan paket `surf`. Biaya bulanan `ultimate` lebih dari 3x lipat dari biaya bulanan `surf`. Untuk memastikan saya akan memeriksa ulang rata-rata pendapatan dari masing-masing kelompok konsumen."
      ]
    },
    {
      "cell_type": "code",
      "execution_count": null,
      "metadata": {
        "colab": {
          "base_uri": "https://localhost:8080/"
        },
        "id": "rh4Xdehg0OAt",
        "outputId": "ee68b2ac-02f7-47e5-ded5-cbf4c46a0357"
      },
      "outputs": [
        {
          "output_type": "stream",
          "name": "stdout",
          "text": [
            "Pendapatan rata-rata konsumen paket surf: 60.706408137317226\n",
            "Pendapatan rata-rata konsumen paket ultimate: 72.31388888888888\n"
          ]
        }
      ],
      "source": [
        "ult_rev_mean = df_revenue_ult['revenue_per_user_per_month'].mean()\n",
        "surf_rev_mean = df_revenue_surf['revenue_per_user_per_month'].mean()\n",
        "\n",
        "print('Pendapatan rata-rata konsumen paket surf: '+ str(surf_rev_mean))\n",
        "print('Pendapatan rata-rata konsumen paket ultimate: '+ str(ult_rev_mean))"
      ]
    },
    {
      "cell_type": "markdown",
      "metadata": {
        "id": "NSadD3XK0OAt"
      },
      "source": [
        "Hasilnya rata-rata pendapatan dari konsumen paket `ultimate` sebesar `72.3`. Lebih besar dibandingkan rata-rata pendapatan dari konsumen paket `surf` sebesar `60.7`.\n",
        "\n",
        "Selain itu ada hal yang menarik. Meskipun rata-rata pendapatan dari paket `surf` lebih rendah, tetapi rata-ratanya jauh lebih tinggi dibandingkan biaya bulanannya. Artinya rata-rata pendapatan dari konsumen paket `surf` didapatkan dari banyaknya biaya tambahan."
      ]
    },
    {
      "cell_type": "markdown",
      "metadata": {
        "id": "Gh5Ftotm0OAv"
      },
      "source": [
        "### Pendapatan Megaline dari Konsumen di Area `New York-New Jersey` Lebih Besar Dibandingkan Pendapatan Dari Konsumen di Area Lainnya"
      ]
    },
    {
      "cell_type": "markdown",
      "metadata": {
        "id": "AmZ2c6Vz0OAv"
      },
      "source": [
        "`New York - New Jersey` adalah salah satu daerah terkaya di Amerika. Menurut `New York Post` pada artikel berikut https://nypost.com/2022/07/29/jersey-city-is-now-americas-most-expensive-city-to-live-in/, `New Jersey` sudah menjadi kota dengan biaya hidup termahal di Amerika. Oleh karena ada kemungkinan rata-rata pendapatan `Megaline` dari konsumen di daerah `New York - New Jersey` berbeda dibandingkan konsumen di daerah lainnya. Sekarang saatnya mengujinya secara statistik. "
      ]
    },
    {
      "cell_type": "markdown",
      "metadata": {
        "id": "zEkNQmqx0OAv"
      },
      "source": [
        "Sebelum memulai pengujian statistik, Saya akan membuat hipotesisnya. Berikut hipotesisnya:\n",
        "- Hipotesis Nol: Pendapatan rata-rata Megaline dari konsumen di area `NY-NJ` sama dibandingkan pendapatan rata-rata dari konsumen area lainnya.\n",
        "- Hipotesis Alternatif: Pendapatan rata-rata Megaline dari konsumen di area `NY-NJ` tidak sama dibandingkan pendapatan rata-rata dari konsumen area lainnya."
      ]
    },
    {
      "cell_type": "code",
      "execution_count": null,
      "metadata": {
        "id": "o9ABKOwo0OAv"
      },
      "outputs": [],
      "source": [
        "df_revenue_NY_NJ = df_revenue.loc[df_revenue['city'] == 'New York-Newark-Jersey City, NY-NJ-PA MSA'].copy()\n",
        "df_revenue_others = df_revenue.loc[df_revenue['city'] != 'New York-Newark-Jersey City, NY-NJ-PA MSA'].copy()"
      ]
    },
    {
      "cell_type": "code",
      "execution_count": null,
      "metadata": {
        "colab": {
          "base_uri": "https://localhost:8080/"
        },
        "id": "U6DFRfDg0OAv",
        "outputId": "0bb7be78-3701-4955-aeab-fa7e64d36921"
      },
      "outputs": [
        {
          "output_type": "stream",
          "name": "stdout",
          "text": [
            "P-Value adalah: 0.043557431621342436\n",
            "Kita menolak hipotesis nol\n"
          ]
        }
      ],
      "source": [
        "h_testing_ind(df_revenue_NY_NJ['revenue_per_user_per_month'], df_revenue_others['revenue_per_user_per_month'], 0.05, 2)"
      ]
    },
    {
      "cell_type": "markdown",
      "metadata": {
        "id": "yYwJ_etX0OAv"
      },
      "source": [
        "`P-Value` nya lebih kecil dari `0.05` artinya pendapatan rata-rata `Megaline` dari konsumen di area `NY-NJ` secara signifikan tidak sama dengan dengan pendapatan rata-rata dari konsumen di area lainnya. Saya menduga pendapatan konsumen di area `NY-NJ` lebih besar dibandingkan rata-rata pendapatan konsumen di area lainnya. Karena `NY-NJ` adalah salah satu area dengan ekonomi terbesar di Amerika. Hal tersebut akan saya periksa selanjutnya."
      ]
    },
    {
      "cell_type": "code",
      "execution_count": null,
      "metadata": {
        "colab": {
          "base_uri": "https://localhost:8080/"
        },
        "id": "Il3g6s100OAw",
        "outputId": "c07c10b6-0c82-4211-dcce-779edabe2c2f"
      },
      "outputs": [
        {
          "output_type": "stream",
          "name": "stdout",
          "text": [
            "Pendapatan rata-rata konsumen di area NY-NJ: 59.921352785145885\n",
            "Pendapatan rata-rata konsumen di area lainnya: 65.2227713987474\n"
          ]
        }
      ],
      "source": [
        "(df_revenue_NY_NJ['revenue_per_user_per_month'].mean(), df_revenue_others['revenue_per_user_per_month'].mean())\n",
        "\n",
        "print('Pendapatan rata-rata konsumen di area NY-NJ: '+ str(df_revenue_NY_NJ['revenue_per_user_per_month'].mean()))\n",
        "print('Pendapatan rata-rata konsumen di area lainnya: '+ str(df_revenue_others['revenue_per_user_per_month'].mean()))"
      ]
    },
    {
      "cell_type": "markdown",
      "metadata": {
        "id": "TSWq06Ph0OAw"
      },
      "source": [
        "Setelah diperiksa ternyata sebaliknya, pendapatan rata-rata konsumen dari area `NY-NJ` sebesar `59.92`, lebih kecil dibandingkan pendapatan rata-rata area lainnya sebesar  `65.22`. Artinya dalam konteks konsumen `Megaline`, status `NY-NJ` sebagai salah satu area dengan ekonomi terbesar di Amerika tidak mempengaruhi perilaku pembelian konsumen di area `NY-NJ` menjadi lebih besar dibandingkan konsumen di area lainnya. \n",
        "\n",
        "Saya menduga pendapatan didaerah `NY-NJ` lebih rendah dikarenakan proporsi pengguna paket `ultimate`nya lebih rendah dibandingkan didaerah lainnya. Selanjutnya saya akan memeriksa hal tersebut. "
      ]
    },
    {
      "cell_type": "code",
      "execution_count": null,
      "metadata": {
        "colab": {
          "base_uri": "https://localhost:8080/"
        },
        "id": "lhTwHkmc0OAw",
        "outputId": "4398febd-4108-41af-b348-453d6a08c3ee"
      },
      "outputs": [
        {
          "output_type": "execute_result",
          "data": {
            "text/plain": [
              "surf        0.827586\n",
              "ultimate    0.172414\n",
              "Name: plan, dtype: float64"
            ]
          },
          "metadata": {},
          "execution_count": 84
        }
      ],
      "source": [
        "df_revenue_NY_NJ['plan'].value_counts(normalize=True)"
      ]
    },
    {
      "cell_type": "code",
      "execution_count": null,
      "metadata": {
        "colab": {
          "base_uri": "https://localhost:8080/"
        },
        "id": "8XGlIWAX0OAw",
        "outputId": "4af7400c-4dd4-4961-a1f0-9007330e02c5"
      },
      "outputs": [
        {
          "output_type": "execute_result",
          "data": {
            "text/plain": [
              "surf        0.658142\n",
              "ultimate    0.341858\n",
              "Name: plan, dtype: float64"
            ]
          },
          "metadata": {},
          "execution_count": 85
        }
      ],
      "source": [
        "df_revenue_others['plan'].value_counts(normalize=True)"
      ]
    },
    {
      "cell_type": "markdown",
      "metadata": {
        "id": "8PjNFI9h0OAw"
      },
      "source": [
        "Proporsi konsumen `ultimate` di daerah selain `NY-NJ` 2x lipat lebih tinggi dibandingkan proporsi konsumen `ultimate` di daerah `NY-NJ`. Dari 2 kali uji hipotesis yang dilakukan, `plan` atau paket yang bulanan yang dibeli konsumen lebih berpengaruh ke pendapatan `Megaline`."
      ]
    },
    {
      "cell_type": "markdown",
      "metadata": {
        "id": "-m-Mppdp0OAx"
      },
      "source": [
        "## Kesimpulan"
      ]
    },
    {
      "cell_type": "markdown",
      "metadata": {
        "id": "LTYarusD0OAx"
      },
      "source": [
        "Setelah dari analisa data dan uji hipotesis ada beberapa poin yang saya temukan. Poin pertama adalah `internet` adalah layanan yang paling diminati oleh konsumen. Berdasarkan dari analisa data, rata-rata penggunaan `internet` dibeberapa bulan diatas kuota `plan` atau paket. Sedangkan pada layanan `calls` dan `messages` justru sebaliknya, rata-ratanya dibawah kuota. Terutama pada `plan` atau paket `ultimate`, jaraknya masih jauh dibawah kuota. Mungkin akan lebih baik, kuota `messages` dan `calls` dialihkan ke penambahan kuota `internet`.  \n",
        "\n",
        "Berdasarkan dua kali uji hipotesis yang dilakukan paket atau `plan` lebih mempengaruhi terhadap pendapatan `Megaline`. Pada saat pengujian kedua yang hasilnya konsumen di area `NY-NJ` lebih rendah dibandingkan area lainnya. Setelah diperiksa ternyata proporsi konsumen dengan paket `ultimate` di area `NY-NJ` hanya `17%` hanya setengahnya dari proporsi konsumen paket `ultimate` di area lainnya yang sebesar `34%`. Artinya paket atau `plan` lebih mempengaruhi pendapatan rata-rata \n",
        "\n",
        "Berdasarkan eksplorasi, analisis, dan uji hipotesis yang telah dilakukan sebelumnya. Kami merekomendasikan perlunya `Megaline` membuat `plan` atau paket yang biaya bulanannya diantara `surf` dan `ultimate`. Karena menurut saya perbedaan biaya bulanan antara paket `surf` dengan `ultimate` terlalu jauh. Selain itu dapat dilihat pendapatan rata-rata dari konsumen `surf` yang sebesar `$60.7` jauh diatas biaya bulanannya. Artinya banyak kebutuhan konsumen yang belum terpenuhi sehingga konsumen perlu membayar biaya tambahan.    "
      ]
    },
    {
      "cell_type": "code",
      "execution_count": null,
      "metadata": {
        "id": "inTWTLyR0OAy"
      },
      "outputs": [],
      "source": []
    }
  ],
  "metadata": {
    "kernelspec": {
      "display_name": "Python 3 (ipykernel)",
      "language": "python",
      "name": "python3"
    },
    "language_info": {
      "codemirror_mode": {
        "name": "ipython",
        "version": 3
      },
      "file_extension": ".py",
      "mimetype": "text/x-python",
      "name": "python",
      "nbconvert_exporter": "python",
      "pygments_lexer": "ipython3",
      "version": "3.9.5"
    },
    "toc": {
      "base_numbering": 1,
      "nav_menu": {
        "height": "466px",
        "width": "564px"
      },
      "number_sections": true,
      "sideBar": true,
      "skip_h1_title": true,
      "title_cell": "Table of Contents",
      "title_sidebar": "Contents",
      "toc_cell": false,
      "toc_position": {},
      "toc_section_display": true,
      "toc_window_display": false
    },
    "colab": {
      "provenance": [],
      "include_colab_link": true
    }
  },
  "nbformat": 4,
  "nbformat_minor": 0
}